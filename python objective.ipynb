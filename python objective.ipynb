{
 "cells": [
  {
   "cell_type": "markdown",
   "metadata": {},
   "source": [
    "<b>Q1. How can we create an iterator object from a list?</b>"
   ]
  },
  {
   "cell_type": "markdown",
   "metadata": {},
   "source": [
    "Answer: Bypassing the given list to the iter() function"
   ]
  },
  {
   "cell_type": "markdown",
   "metadata": {},
   "source": [
    "<b>Q2. If the function contains at least of one “yield” statement, then it becomes ______</b>"
   ]
  },
  {
   "cell_type": "markdown",
   "metadata": {},
   "source": [
    "Answer: a generator function"
   ]
  },
  {
   "cell_type": "markdown",
   "metadata": {},
   "source": [
    "<b>Q3. What is the output of the code?</b>\n",
    "\n",
    "mylist = [1, 3, 6, 10] <br>\n",
    "a = (x**2 for x in mylist) <br>\n",
    "print(next(a), next(a))<br>"
   ]
  },
  {
   "cell_type": "markdown",
   "metadata": {},
   "source": [
    "Answer: 1 9"
   ]
  },
  {
   "cell_type": "markdown",
   "metadata": {},
   "source": [
    "<b> Q4. What are the criteria that must be met to create closure in Python?</b>"
   ]
  },
  {
   "cell_type": "markdown",
   "metadata": {},
   "source": [
    "Answer: The program Must have the function inside the function."
   ]
  },
  {
   "cell_type": "markdown",
   "metadata": {},
   "source": [
    "<b>Q5. What is the output of the code?</b><br>\n",
    "def Foo(n): <br>\n",
    "&nbsp;def multiplier(x): <br>\n",
    "&nbsp; &nbsp; return x * n <br>\n",
    "&nbsp; return multiplier <br>\n",
    "a = Foo(5) <br>\n",
    "b = Foo(5) <br>\n",
    "print(a(b(2)))<br>"
   ]
  },
  {
   "cell_type": "markdown",
   "metadata": {},
   "source": [
    "Answer: 25"
   ]
  },
  {
   "cell_type": "markdown",
   "metadata": {},
   "source": [
    "<b>Q6. What is the output of the code?</b><br>\n",
    "def make_pretty(func): <br>\n",
    "&nbsp;def inner(): <br>\n",
    "&nbsp; nbsp;print(\"I got decorated\") <br>\n",
    "&nbsp; &nbsp;func()<br>\n",
    "&nbsp;return inner<br>\n",
    "def ordinary():<br>\n",
    "&nbsp;print(\"I am ordinary\")<br>\n",
    "pretty = make_pretty(ordinary) <br>\n",
    "pretty()<br>"
   ]
  },
  {
   "cell_type": "markdown",
   "metadata": {},
   "source": [
    "Answer: <br>\n",
    "        I got decorated<br>\n",
    "        I am ordinary"
   ]
  },
  {
   "cell_type": "markdown",
   "metadata": {},
   "source": [
    "<b>Q7: What is the more pythonic way to use getters and setters?</b>"
   ]
  },
  {
   "cell_type": "markdown",
   "metadata": {},
   "source": [
    "Answer: @property"
   ]
  },
  {
   "cell_type": "markdown",
   "metadata": {},
   "source": [
    "<b>Q8. In Python, there is a built-in function property() that returns a property object. The property object has which of the methods?</b>"
   ]
  },
  {
   "cell_type": "markdown",
   "metadata": {},
   "source": [
    "Answer: getter(), setter() and delete()"
   ]
  },
  {
   "cell_type": "markdown",
   "metadata": {},
   "source": [
    "<b>Q9. Which of the following statement is true?</b>"
   ]
  },
  {
   "cell_type": "markdown",
   "metadata": {},
   "source": [
    "Answer: None of the above"
   ]
  },
  {
   "cell_type": "markdown",
   "metadata": {},
   "source": [
    "<b>Q10. For the following codes, which of the following statements is true?</b><br>\n",
    "def printHello(): <br>\n",
    "&nbsp; print(\"Hello\") <br>\n",
    "a = printHello()<br>"
   ]
  },
  {
   "cell_type": "markdown",
   "metadata": {},
   "source": [
    "Answer: Both printHello() and the reference to the same object."
   ]
  },
  {
   "cell_type": "markdown",
   "metadata": {},
   "source": [
    "<b>Q11. What is the output of the program?</b><br>\n",
    "def outerFunction(): <br>\n",
    "&nbsp;global a <br>\n",
    "&nbsp;a = 20 <br>\n",
    "&nbsp;def innerFunction(): <br>\n",
    "&nbsp; &nbsp;global a <br>\n",
    "&nbsp; &nbsp;a = 30 <br>\n",
    "&nbsp; &nbsp;print('a =', a) <br>\n",
    "a = 10 <br>\n",
    "outerFunction() <br>\n",
    "print('a =', a)<br>"
   ]
  },
  {
   "cell_type": "markdown",
   "metadata": {},
   "source": [
    "Answer: c) a = 2"
   ]
  },
  {
   "cell_type": "markdown",
   "metadata": {},
   "source": [
    "<b>Q12. Which of the following statements is true?</b>"
   ]
  },
  {
   "cell_type": "markdown",
   "metadata": {
    "collapsed": true
   },
   "source": [
    "Answer: a) A class is a blueprint for the object."
   ]
  },
  {
   "cell_type": "markdown",
   "metadata": {},
   "source": [
    "<b>Q13. What is the output of the code?</b><br>\n",
    "class Foo: <br>\n",
    "&nbsp;def printLine(self, line='Python'): <br>\n",
    "&nbsp; &nbsp;print(line) <br>\n",
    "        o1 = Foo() <br>\n",
    "        o1.printLine('Java')<br>"
   ]
  },
  {
   "cell_type": "markdown",
   "metadata": {
    "collapsed": true
   },
   "source": [
    "Answer: c) Java"
   ]
  },
  {
   "cell_type": "markdown",
   "metadata": {},
   "source": [
    "<b>Q14. What is the function of the __init__() function in Python?</b>"
   ]
  },
  {
   "cell_type": "markdown",
   "metadata": {
    "collapsed": true
   },
   "source": [
    "Answer: b) This function is called, when the new object is instantiated"
   ]
  },
  {
   "cell_type": "markdown",
   "metadata": {},
   "source": [
    "<b>Q15. What is the output of the code?</b><br>\n",
    "class Point: <br>\n",
    "&nbsp; def __init__(self, x = 0, y = 0): <br>\n",
    "&nbsp; &nbsp;self.x = x+1<br>\n",
    "&nbsp; &nbsp;self.y = y+1 <br>\n",
    "        p1 = Point() <br>\n",
    "        print(p1.x, p1.y)<br>"
   ]
  },
  {
   "cell_type": "markdown",
   "metadata": {
    "collapsed": true
   },
   "source": [
    "Answer: b) 1 1"
   ]
  },
  {
   "cell_type": "markdown",
   "metadata": {
    "collapsed": true
   },
   "source": [
    "<b>Q16. Which of the following code used the inheritance feature?</b>"
   ]
  },
  {
   "cell_type": "markdown",
   "metadata": {},
   "source": [
    "Answer: c)<br>\n",
    "class Foo:<br>\n",
    "&nbsp;&nbsp;pass<br> \n",
    "class Hoo(Foo):<br>\n",
    "&nbsp;pass"
   ]
  },
  {
   "cell_type": "markdown",
   "metadata": {},
   "source": [
    "<b>Q17 If you a class is derived from two different classes, it’s called ______</b>"
   ]
  },
  {
   "cell_type": "markdown",
   "metadata": {},
   "source": [
    "Answer: b) Multiple Inheritance"
   ]
  },
  {
   "cell_type": "markdown",
   "metadata": {},
   "source": [
    "<b>Q18. Which of the following statements is true?</b>"
   ]
  },
  {
   "cell_type": "markdown",
   "metadata": {},
   "source": [
    "Answer: d) All of the above"
   ]
  },
  {
   "cell_type": "markdown",
   "metadata": {},
   "source": [
    "<b>Q19. What is the output of the code?</b>\n",
    "\n",
    "class Point:<br>\n",
    "&nbsp; def __init__(self, x = 0, y = 0):<br>\n",
    "&nbsp; &nbsp;self.x = x <br>\n",
    "&nbsp; &nbsp;self.y = y<br>\n",
    "def __sub__(self, other): <br>\n",
    "x = self.x + other.x <br>\n",
    "y = self.y + other.y <br>\n",
    "return Point(x,y) <br>\n",
    "p1 = Point(3, 4) <br>\n",
    "p2 = Point(1, 2) <br>\n",
    "result = p1-p2 <br>\n",
    "print(result.x, result.y)<br>"
   ]
  },
  {
   "cell_type": "markdown",
   "metadata": {},
   "source": [
    "Answer: b) 4 6"
   ]
  },
  {
   "cell_type": "markdown",
   "metadata": {},
   "source": [
    "<b>Q20. Opening a file in ‘a’ mode</b>"
   ]
  },
  {
   "cell_type": "markdown",
   "metadata": {},
   "source": [
    "Answer: c) opens the file for appending, at the end of file"
   ]
  },
  {
   "cell_type": "markdown",
   "metadata": {},
   "source": [
    "<b>Q21. What does the following code do?</b><br>\n",
    "f = open(\"test.txt\")"
   ]
  },
  {
   "cell_type": "markdown",
   "metadata": {},
   "source": [
    "Answer: b) Opens test.txt file for reading only"
   ]
  },
  {
   "cell_type": "markdown",
   "metadata": {},
   "source": [
    "<b>Q22. Which of the codes closes files automatically if an exception occurs?</b>"
   ]
  },
  {
   "cell_type": "markdown",
   "metadata": {},
   "source": [
    "Answer: d) Both of the above"
   ]
  },
  {
   "cell_type": "markdown",
   "metadata": {},
   "source": [
    "<b>Q23. For the following code,</b> <br>\n",
    "f = open('test.txt', 'r', encoding = 'utf-8')<br>\n",
    "f.read() Which of the following statement is true<br>"
   ]
  },
  {
   "cell_type": "markdown",
   "metadata": {},
   "source": [
    "Answer: d) All of the above"
   ]
  },
  {
   "cell_type": "markdown",
   "metadata": {},
   "source": [
    "<b>Q24. What does the following code do?</b><br>\n",
    "os.listdir()"
   ]
  },
  {
   "cell_type": "markdown",
   "metadata": {},
   "source": [
    "Answer: c) Prints all the directories and files inside the given directory"
   ]
  },
  {
   "cell_type": "markdown",
   "metadata": {},
   "source": [
    "<b>Q25. Which of the following is correct?</b>"
   ]
  },
  {
   "cell_type": "markdown",
   "metadata": {},
   "source": [
    "Answer: a) An exception is an error that occurs in the runtime"
   ]
  },
  {
   "cell_type": "markdown",
   "metadata": {},
   "source": [
    "<b>Q26. What will happen if we try to open the file that doesn’t exist?</b>"
   ]
  },
  {
   "cell_type": "markdown",
   "metadata": {},
   "source": [
    "Answer: c) An exception is raised"
   ]
  },
  {
   "cell_type": "markdown",
   "metadata": {},
   "source": [
    "<b>Q27. What is the output of the code?</b><br>\n",
    "number = 5.0<br>\n",
    "try: <br>\n",
    "&nbsp;&nbsp;r = 10/number<br>\n",
    "&nbsp;&nbsp;print(r)<br>\n",
    "except:<br>\n",
    "&nbsp;&nbsp;print(\"Oops! Error occurred.\")"
   ]
  },
  {
   "cell_type": "markdown",
   "metadata": {},
   "source": [
    "Answer: b) 2.0"
   ]
  },
  {
   "cell_type": "markdown",
   "metadata": {},
   "source": [
    " <b>Q28. What does the following code do?</b><br>\n",
    "\n",
    "try: # code that can raise an error <br>\n",
    "&nbsp;pass<br>\n",
    "except (TypeError, ZeroDivisionError):<br>\n",
    "&nbsp;print(\"Two\")<br>"
   ]
  },
  {
   "cell_type": "markdown",
   "metadata": {},
   "source": [
    "Answer: b) Prints Two if exception doesn’t occur"
   ]
  },
  {
   "cell_type": "markdown",
   "metadata": {},
   "source": [
    "<b>Q29. Which of the following statement is true?</b>"
   ]
  },
  {
   "cell_type": "markdown",
   "metadata": {},
   "source": [
    "Answer: b) You can create the user-defined exception by deriving a class from Exception class"
   ]
  },
  {
   "cell_type": "markdown",
   "metadata": {},
   "source": [
    "<b>Q30. Which of the following statement is true?</b>"
   ]
  },
  {
   "cell_type": "markdown",
   "metadata": {},
   "source": [
    "Answer: c) The function is a piece of code that can perform a specific task"
   ]
  },
  {
   "cell_type": "markdown",
   "metadata": {},
   "source": [
    "<b>Q31. What is the output of the code?</b><br>\n",
    "def printLine(text):<br>\n",
    "&nbsp;print(text, 'is awesome.')<br>\n",
    "printLine('Python')<br>"
   ]
  },
  {
   "cell_type": "markdown",
   "metadata": {},
   "source": [
    "Answer: b) Python is awesome"
   ]
  },
  {
   "cell_type": "markdown",
   "metadata": {},
   "source": [
    "<b>Q32. If the return statement is not used inside the function, the function will return:</b>"
   ]
  },
  {
   "cell_type": "markdown",
   "metadata": {},
   "source": [
    "Answer: b) None object"
   ]
  },
  {
   "cell_type": "markdown",
   "metadata": {},
   "source": [
    "<b>Q33. What is the output of the code?</b><br>\n",
    "def greetPerson(*name):<br>\n",
    "&nbsp;print('Hello', name)<br>\n",
    "greetPerson('Frodo', 'Sauron')<br>"
   ]
  },
  {
   "cell_type": "markdown",
   "metadata": {},
   "source": [
    "Answer: b) Hello ('Frodo', 'Sauron')"
   ]
  },
  {
   "cell_type": "markdown",
   "metadata": {},
   "source": [
    "<b>Q34. What is a recursive function?</b>"
   ]
  },
  {
   "cell_type": "markdown",
   "metadata": {},
   "source": [
    "Answer: b) A function that calls itself"
   ]
  },
  {
   "cell_type": "markdown",
   "metadata": {},
   "source": [
    "<b>Q35. What is the output of the program?</b><br>\n",
    "result = lambda x: x * x <br>\n",
    "print(result(5))"
   ]
  },
  {
   "cell_type": "markdown",
   "metadata": {},
   "source": [
    "Answer: c) 25"
   ]
  },
  {
   "cell_type": "markdown",
   "metadata": {},
   "source": [
    "<b>Q36. What is the output of the program?</b><br>\n",
    "def Foo(x):<br>\n",
    "&nbsp;if (x==1):<br>\n",
    "&nbsp;&nbsp;return 1 <br>\n",
    "&nbsp;else:<br>\n",
    "&nbsp;&nbsp;return x+Foo(x-1)<br>\n",
    "print(Foo(4))<br>"
   ]
  },
  {
   "cell_type": "markdown",
   "metadata": {},
   "source": [
    "Answer: a) 10"
   ]
  },
  {
   "cell_type": "markdown",
   "metadata": {},
   "source": [
    "<b>Q37. Suppose you need to print pi constant defined in the math module. Which of the following code can do this task?</b>"
   ]
  },
  {
   "cell_type": "markdown",
   "metadata": {},
   "source": [
    "Answer: c)<br>\n",
    "\n",
    "from math import pi<br>\n",
    "print(pi)"
   ]
  },
  {
   "cell_type": "markdown",
   "metadata": {},
   "source": [
    "<b>Q38. Which operator is used in Python to import modules from the packages?</b>"
   ]
  },
  {
   "cell_type": "markdown",
   "metadata": {},
   "source": [
    "Answer: a). operator"
   ]
  },
  {
   "cell_type": "markdown",
   "metadata": {},
   "source": [
    "<b>Q39. What is the output of the code?</b><br>\n",
    "numbers = [1, 3, 6] <br>\n",
    "newNumbers = tuple(map(lambda x: x , numbers))<br>\n",
    "print(newNumbers)"
   ]
  },
  {
   "cell_type": "markdown",
   "metadata": {},
   "source": [
    "Answer: b) (1, 3, 6)"
   ]
  },
  {
   "cell_type": "markdown",
   "metadata": {},
   "source": [
    "<b>Q40. What is the output of the code?</b><br>\n",
    "if None:<br>\n",
    "&nbsp;print(“Hello”)"
   ]
  },
  {
   "cell_type": "markdown",
   "metadata": {},
   "source": [
    "Answer: c) Nothing will be printed"
   ]
  },
  {
   "cell_type": "markdown",
   "metadata": {},
   "source": [
    "<b>Q41. The if-elif-else executes only one block of code among several blocks.</b>"
   ]
  },
  {
   "cell_type": "markdown",
   "metadata": {},
   "source": [
    "Answer: a) True"
   ]
  },
  {
   "cell_type": "markdown",
   "metadata": {},
   "source": [
    "<b>Q42. What is the output of the code?</b><br>\n",
    "for i in [1, 0]:<br>\n",
    "&nbsp;print(i+1)"
   ]
  },
  {
   "cell_type": "markdown",
   "metadata": {},
   "source": [
    "Answer: a)<br>\n",
    "2<br>\n",
    "1"
   ]
  },
  {
   "cell_type": "markdown",
   "metadata": {},
   "source": [
    "<b>Q43. In the Python, for and while loop can have the optional else statement?</b>"
   ]
  },
  {
   "cell_type": "markdown",
   "metadata": {},
   "source": [
    "Answer: c) Both loops can have optional else statement"
   ]
  },
  {
   "cell_type": "markdown",
   "metadata": {},
   "source": [
    "<b>Q44. What is the output of the code?</b><br>\n",
    "i = sum = 0<br>\n",
    "while i <= 4:<br>\n",
    "&nbsp;sum += i<br>\n",
    "&nbsp;i = i+1<br>\n",
    "print(sum)"
   ]
  },
  {
   "cell_type": "markdown",
   "metadata": {},
   "source": [
    "Answer: b) 10"
   ]
  },
  {
   "cell_type": "markdown",
   "metadata": {},
   "source": [
    "<b>Q45. What is the output of the code?</b><br>\n",
    "while 4 == 4:<br>\n",
    "&nbsp;print('4')"
   ]
  },
  {
   "cell_type": "markdown",
   "metadata": {},
   "source": [
    "Answer: c) 4 is printed infinitely until the program closes"
   ]
  },
  {
   "cell_type": "markdown",
   "metadata": {},
   "source": [
    "<b>Q46. Is it better to use the for loop instead of while if we are iterating through a sequence?</b>"
   ]
  },
  {
   "cell_type": "markdown",
   "metadata": {},
   "source": [
    "Answer:  b) Yes, for loop is more pythonic choice."
   ]
  },
  {
   "cell_type": "markdown",
   "metadata": {},
   "source": [
    "<b>Q47. Which of the following statement is true?</b>"
   ]
  },
  {
   "cell_type": "markdown",
   "metadata": {},
   "source": [
    "Answer: d) All of the above."
   ]
  },
  {
   "cell_type": "markdown",
   "metadata": {},
   "source": [
    "<b>Q48. What is the output of the code?</b><br>\n",
    "for char in 'PYTHON STRING':<br>\n",
    "&nbsp;if char == ' ':<br>\n",
    "&nbsp;&nbsp;break <br>\n",
    "&nbsp;print(char, end='')<br>\n",
    "&nbsp;if char == 'O':<br>\n",
    "&nbsp;&nbsp;continue<br>"
   ]
  },
  {
   "cell_type": "markdown",
   "metadata": {},
   "source": [
    "Answer: a) PYTHON"
   ]
  },
  {
   "cell_type": "markdown",
   "metadata": {},
   "source": [
    "<b>Q49. Which of the statement is true about the “pass” statement?</b>"
   ]
  },
  {
   "cell_type": "markdown",
   "metadata": {},
   "source": [
    "Answer: c) It is used as the placeholder for future implementation of functions, loops, etc"
   ]
  },
  {
   "cell_type": "markdown",
   "metadata": {},
   "source": [
    "<b>Q50. In regards to separated value files such as .csv and .tsv, what is the delimiter?</b>"
   ]
  },
  {
   "cell_type": "markdown",
   "metadata": {},
   "source": [
    "Answer: c) Any character such as the comma (,) or tab (\\t) that is used to separate the column data."
   ]
  },
  {
   "cell_type": "markdown",
   "metadata": {},
   "source": [
    "<b>Q51. In separated value files such as .csv and .tsv, what does the first row in the file typically contain?</b>"
   ]
  },
  {
   "cell_type": "markdown",
   "metadata": {},
   "source": [
    "Answer: a) The column names of the data"
   ]
  },
  {
   "cell_type": "markdown",
   "metadata": {},
   "source": [
    "<b>Q52. Assume you have a file object my_data, which has properly opened a separated value file that uses the tab character (\\t) as the delimiter.<br> What is the proper way to open the file using the Python CSV module and assign it to the variable csv_reader?</b><br>\n",
    "Assume that csv has already been imported."
   ]
  },
  {
   "cell_type": "markdown",
   "metadata": {},
   "source": [
    "Answer: b) csv.reader(my_data, delimiter='\\t')"
   ]
  },
  {
   "cell_type": "markdown",
   "metadata": {},
   "source": [
    "<b>Q53. When iterating over an object returned from csv.reader(), what is returned with each iteration?</b><br>\n",
    "For example, given the following code block that assumes csv_reader is an object returned from csv.reader(), what would be printed to the console with each iteration?<br>\n",
    "for item in csv_reader:<br>\n",
    "&nbsp;print(item)"
   ]
  },
  {
   "cell_type": "markdown",
   "metadata": {},
   "source": [
    "Answer: b) The row data as a list"
   ]
  },
  {
   "cell_type": "markdown",
   "metadata": {},
   "source": [
    "<b>Q54. When writing to a CSV file using the .writerow() method of the csv.DictWriter object, what must each key in the input dict represent? Below is an example:</b><br>\n",
    "with open('test_file.csv', mode='w') as csv_file:<br>\n",
    "&nbsp;writer = csv.DictWriter( csv_file, fieldnames=['first_col', 'second_col'] )<br>\n",
    "&nbsp;writer.writeheader()<br> # This input dictionary is what the question is referring <br> # to and is not necessarily correct as shown.<br>\n",
    "writer.writerow({'key1':'value1', 'key2':'value2'})"
   ]
  },
  {
   "cell_type": "markdown",
   "metadata": {},
   "source": [
    "Answer: c) Each key must match up to the field names (column names) used to identify the column data"
   ]
  },
  {
   "cell_type": "markdown",
   "metadata": {},
   "source": [
    "<b>Q55. Which is the correct way to open the CSV file hrdata.csv for reading using the pandas package? Assume that the pandas package has already been imported.</b>"
   ]
  },
  {
   "cell_type": "markdown",
   "metadata": {},
   "source": [
    "Answer: c) pandas.read_csv('hrdata.csv')"
   ]
  },
  {
   "cell_type": "markdown",
   "metadata": {},
   "source": [
    "<b>Q56. By default, pandas uses 0-based indices for indexing rows. Which is the correct way to import the CSV file hrdata.csv for reading and using the 'Name' column as the index row instead?</b><br>\n",
    "Below is the contents of hrdata.csv<br>\n",
    "Name,Hire Date,Salary,Sick Days remaining<br>\n",
    "Fred,10/10/10,10000,10"
   ]
  },
  {
   "cell_type": "markdown",
   "metadata": {},
   "source": [
    "Answer: a) pandas.read_csv('hrdata.csv', index_col='Name')"
   ]
  },
  {
   "cell_type": "markdown",
   "metadata": {},
   "source": [
    "<b>Q57. Given the file dog_breeds.txt, which of the following is the correct way to open the file for reading as a text file? Select all that apply.</b>"
   ]
  },
  {
   "cell_type": "markdown",
   "metadata": {},
   "source": [
    "Answer: b) open('dog_breeds.txt', 'r')"
   ]
  },
  {
   "cell_type": "markdown",
   "metadata": {},
   "source": [
    "<b>Q58. Given the following directory structure:</b><br>\n",
    "animals/ <br>\n",
    "│ <br>\n",
    "├── feline/ │ <br>\n",
    "│&nbsp;&nbsp;&nbsp;&nbsp;├── lions.gif <br>\n",
    "│&nbsp;&nbsp;&nbsp;&nbsp;└── tigers.gif <br>\n",
    "├── ursine/ <br>\n",
    "│&nbsp;&nbsp; └── bears.gif <br>\n",
    "└── animals.csv<br>\n",
    "Assuming that the cwd is in the root folder where animals reside, what is the full path to the feline folder?"
   ]
  },
  {
   "cell_type": "markdown",
   "metadata": {},
   "source": [
    "Answer: animals/feline"
   ]
  },
  {
   "cell_type": "markdown",
   "metadata": {},
   "source": [
    "<b>Q59. Given the file jack_russell.png, which of the following is the correct way to open the file for reading as a buffered binary file? Select all that apply.<br></b>\n",
    "open('jack_russell.png', 'rb')<br>\n",
    "open('jack_russell.png', bytes=True)<br>\n",
    "open('jack_russell.png', 'r')<br>\n",
    "open('jack_russell.png')<br>\n",
    "open('jack_russell.png', 'wb')"
   ]
  },
  {
   "cell_type": "markdown",
   "metadata": {},
   "source": [
    "Answer: a) open('jack_russell.png', bytes=True)"
   ]
  },
  {
   "cell_type": "markdown",
   "metadata": {},
   "source": [
    "<b>Q60. Using the same directory structure as before:</b><br>\n",
    "animals/<br>\n",
    "│ \n",
    "├── feline/<br>\n",
    "│ ├── lions.gif<br> \n",
    "│ └── tigers.gif<br>\n",
    "│ ├── ursine/ <br>\n",
    "│&nbsp;└── bears.gif<br> \n",
    "│ \n",
    "└── animals.csv <br>\n",
    "Assuming that the cwd is in the root folder where Animals reside, what is the full path to the file bears.gif?"
   ]
  },
  {
   "cell_type": "markdown",
   "metadata": {},
   "source": [
    "Answer: animals/ursine/bears.gif"
   ]
  },
  {
   "cell_type": "markdown",
   "metadata": {},
   "source": [
    "<b>Q61. Whenever possible, what is the recommended way to ensure that a file object is properly closed after usage?</b>"
   ]
  },
  {
   "cell_type": "markdown",
   "metadata": {},
   "source": [
    "Answer: d) By using the with statement"
   ]
  },
  {
   "cell_type": "markdown",
   "metadata": {},
   "source": [
    "<b> Q62. Using the same directory structure as before:</b><br>\n",
    "animals/<br>\n",
    "│ \n",
    "├── feline/ ← cwd<br>\n",
    "│ ├── lions.gif <br>\n",
    "│ └── tigers.gif <br>\n",
    "│ <br>\n",
    "├── ursine/ <br>\n",
    "│ └── bears.gif<br> \n",
    "│ <br>\n",
    "└── animals.csv<br>\n",
    "Assuming that the cwd is in the feline folder, what is the relative path to the file bears.gif?"
   ]
  },
  {
   "cell_type": "markdown",
   "metadata": {},
   "source": [
    "Answer: /ursine/bears.gif"
   ]
  },
  {
   "cell_type": "markdown",
   "metadata": {},
   "source": [
    "<b>Q63. When reading a file using the file object, what method is best for reading the entire file into a single string?</b>"
   ]
  },
  {
   "cell_type": "markdown",
   "metadata": {},
   "source": [
    "Answer: b) .read()"
   ]
  },
  {
   "cell_type": "markdown",
   "metadata": {},
   "source": [
    "<b>Q64. The value 1.73 rounded to one decimal place using the “rounding up” strategy is…</b>"
   ]
  },
  {
   "cell_type": "markdown",
   "metadata": {},
   "source": [
    "Answer: a) 1.8"
   ]
  },
  {
   "cell_type": "markdown",
   "metadata": {},
   "source": [
    "<b>Q65. The value -2.961 rounded to two decimal places using the “rounding down” strategy is…</b>"
   ]
  },
  {
   "cell_type": "markdown",
   "metadata": {},
   "source": [
    "Answer: b) -2.97"
   ]
  },
  {
   "cell_type": "markdown",
   "metadata": {},
   "source": [
    "<b>Q66. When a value is truncated to 3 decimal places, which of the following is true?</b>"
   ]
  },
  {
   "cell_type": "markdown",
   "metadata": {},
   "source": [
    "Answer: b) Positive numbers are rounded down, and negative numbers are rounded up"
   ]
  },
  {
   "cell_type": "markdown",
   "metadata": {},
   "source": [
    "<b>Q67. The value -0.045 rounded to 2 decimal places using the “round half away from zero” strategy is…</b>"
   ]
  },
  {
   "cell_type": "markdown",
   "metadata": {},
   "source": [
    "Answer: a) -0.05"
   ]
  },
  {
   "cell_type": "markdown",
   "metadata": {},
   "source": [
    "<b>Q68. Which rounding strategy does Python’s built-in round() function use?</b>"
   ]
  },
  {
   "cell_type": "markdown",
   "metadata": {},
   "source": [
    "Answer: d) Round half to even"
   ]
  },
  {
   "cell_type": "markdown",
   "metadata": {},
   "source": [
    "<b>Q69. The value 4.65 rounded to one decimal place using the “round half to even” strategy is…</b>"
   ]
  },
  {
   "cell_type": "markdown",
   "metadata": {},
   "source": [
    "Answer: a) 4.6"
   ]
  },
  {
   "cell_type": "markdown",
   "metadata": {},
   "source": [
    "<b>Q70. Which problem arises due to the multiple inheritances, if hierarchical inheritance is used previously for its base classes?</b>"
   ]
  },
  {
   "cell_type": "markdown",
   "metadata": {},
   "source": [
    "Answer: a) Diamond"
   ]
  },
  {
   "cell_type": "markdown",
   "metadata": {},
   "source": [
    "<b>Q71. How many classes should a program contain to implement the multiple inheritances?</b>"
   ]
  },
  {
   "cell_type": "markdown",
   "metadata": {},
   "source": [
    "Answer: c) At least 3"
   ]
  },
  {
   "cell_type": "markdown",
   "metadata": {},
   "source": [
    "<b>Q72. If class a inherits class b and class c as “class a: public class b, public class c {// class body ;}; ”, which class constructor will be called first?</b>"
   ]
  },
  {
   "cell_type": "markdown",
   "metadata": {},
   "source": [
    "Answer: b) Class b."
   ]
  },
  {
   "cell_type": "markdown",
   "metadata": {},
   "source": [
    "<b>Q73.If all the members of all base classes are private then,</b>"
   ]
  },
  {
   "cell_type": "markdown",
   "metadata": {},
   "source": [
    "Answer: a) There won’t be any use of multiple inheritance"
   ]
  },
  {
   "cell_type": "markdown",
   "metadata": {},
   "source": [
    "<b>Q74. Can the derived class be made abstract if multiple inheritance is used?</b>"
   ]
  },
  {
   "cell_type": "markdown",
   "metadata": {},
   "source": [
    "Answer: d) No, since constructors won’t be there"
   ]
  },
  {
   "cell_type": "markdown",
   "metadata": {},
   "source": [
    "<b>Q75. Which among the following best defines the multilevel inheritance?</b>"
   ]
  },
  {
   "cell_type": "markdown",
   "metadata": {},
   "source": [
    "Answer: b) Classes being derived from other derived classes"
   ]
  },
  {
   "cell_type": "markdown",
   "metadata": {},
   "source": [
    "<b>Q76. If there are 5 classes, E is derived from D, D from C, C from B and B from A. Which class constructor will be called first if the object of E or D is created?</b>"
   ]
  },
  {
   "cell_type": "markdown",
   "metadata": {},
   "source": [
    "Answer: a) A"
   ]
  },
  {
   "cell_type": "markdown",
   "metadata": {},
   "source": [
    "<b>Q77. Which Class is having the highest degree of abstraction in multilevel inheritance of 5 levels?</b>"
   ]
  },
  {
   "cell_type": "markdown",
   "metadata": {},
   "source": [
    "Answer: a) Class at 1st level"
   ]
  },
  {
   "cell_type": "markdown",
   "metadata": {},
   "source": [
    "<b>Q78. Multilevel inheritance allows _________________ in the program.</b>"
   ]
  },
  {
   "cell_type": "markdown",
   "metadata": {},
   "source": [
    "Answer: d) As many levels of inheritance as required"
   ]
  },
  {
   "cell_type": "markdown",
   "metadata": {},
   "source": [
    "<b>Q79. If all the classes used parameterized constructors and no default constructor then, ___________</b>"
   ]
  },
  {
   "cell_type": "markdown",
   "metadata": {},
   "source": [
    "Answer: b) Object of lower-level classes must call parent class constructors explicitly"
   ]
  },
  {
   "cell_type": "markdown",
   "metadata": {},
   "source": [
    "<b>Q80. Which is the universal exception handler class?</b>"
   ]
  },
  {
   "cell_type": "markdown",
   "metadata": {},
   "source": [
    "Answer: d) Exceptions"
   ]
  },
  {
   "cell_type": "markdown",
   "metadata": {},
   "source": [
    "<b>Q81. What are two exception classes in the hierarchy of java exceptions class?</b>"
   ]
  },
  {
   "cell_type": "markdown",
   "metadata": {},
   "source": [
    "Answer: c) Runtime exceptions and other exceptions"
   ]
  },
  {
   "cell_type": "markdown",
   "metadata": {},
   "source": [
    "<b>Q82. Which are the two blocks that are used to check error and handle the error?</b>"
   ]
  },
  {
   "cell_type": "markdown",
   "metadata": {},
   "source": [
    "Answer: a) Try and catch"
   ]
  },
  {
   "cell_type": "markdown",
   "metadata": {},
   "source": [
    "<b>Q83. To catch the exceptions ___________________</b>"
   ]
  },
  {
   "cell_type": "markdown",
   "metadata": {},
   "source": [
    "Answer: a) An object must be created to catch the exception"
   ]
  },
  {
   "cell_type": "markdown",
   "metadata": {},
   "source": [
    "<b>Q84. Which class is used to handle the input and output exceptions?</b>"
   ]
  },
  {
   "cell_type": "markdown",
   "metadata": {},
   "source": [
    "Answer: d) ExceptionsIO"
   ]
  },
  {
   "cell_type": "markdown",
   "metadata": {},
   "source": [
    "<b>Q85. Which among the following is true for the class exceptions?</b>"
   ]
  },
  {
   "cell_type": "markdown",
   "metadata": {},
   "source": [
    "Answer: d) Both base class and derived class may produce exceptions"
   ]
  },
  {
   "cell_type": "markdown",
   "metadata": {},
   "source": [
    "<b>Q86. If both base and derived class caught the exceptions, _____.</b>"
   ]
  },
  {
   "cell_type": "markdown",
   "metadata": {},
   "source": [
    "Answer: a) Then catch block of a derived class must be defined before the base class"
   ]
  },
  {
   "cell_type": "markdown",
   "metadata": {},
   "source": [
    "<b>Q87. The catching of base class the exception _________ in java.</b>"
   ]
  },
  {
   "cell_type": "markdown",
   "metadata": {},
   "source": [
    "Answer: b) Before derived class is not allowed by the compiler"
   ]
  },
  {
   "cell_type": "markdown",
   "metadata": {},
   "source": [
    "<b>Q88. Which of the following handles the undefined class in the program?</b>"
   ]
  },
  {
   "cell_type": "markdown",
   "metadata": {},
   "source": [
    "Answer: d) ClassNotFoundException"
   ]
  },
  {
   "cell_type": "markdown",
   "metadata": {},
   "source": [
    "<b>Q89. Which among the following is true?</b>"
   ]
  },
  {
   "cell_type": "markdown",
   "metadata": {},
   "source": [
    "Answer: c) Both the base and derived class catch the blocks are important"
   ]
  },
  {
   "cell_type": "markdown",
   "metadata": {},
   "source": [
    "<b>Q90. Which condition among the following might result in memory exception?</b>"
   ]
  },
  {
   "cell_type": "markdown",
   "metadata": {},
   "source": [
    "Answer: c) Infinite loops"
   ]
  },
  {
   "cell_type": "markdown",
   "metadata": {},
   "source": [
    "<b>Q91. Which among the following is the correct definition for static member functions?</b>"
   ]
  },
  {
   "cell_type": "markdown",
   "metadata": {},
   "source": [
    "Answer: b) Functions made to maintain a single copy of member functions for all the objects"
   ]
  },
  {
   "cell_type": "markdown",
   "metadata": {},
   "source": [
    "<b>Q92. The static member functions __________________</b>"
   ]
  },
  {
   "cell_type": "markdown",
   "metadata": {},
   "source": [
    "Answer: c) Having access to only the static members of a class"
   ]
  },
  {
   "cell_type": "markdown",
   "metadata": {},
   "source": [
    "<b>Q93. Which is the correct syntax to access the static member functions with a class name?</b>"
   ]
  },
  {
   "cell_type": "markdown",
   "metadata": {},
   "source": [
    "Answer: d) className :: functionName;"
   ]
  },
  {
   "cell_type": "markdown",
   "metadata": {},
   "source": [
    "<b>Q94. The static members are ______________________</b>"
   ]
  },
  {
   "cell_type": "markdown",
   "metadata": {},
   "source": [
    "Answer: d) Created and initialised, only once"
   ]
  },
  {
   "cell_type": "markdown",
   "metadata": {},
   "source": [
    "<b>Q95. Which among the following is true?</b>"
   ]
  },
  {
   "cell_type": "markdown",
   "metadata": {},
   "source": [
    "Answer: b) Static member functions can’t be overloaded"
   ]
  },
  {
   "cell_type": "markdown",
   "metadata": {},
   "source": [
    "<b>Q96. The static member functions _______________</b>"
   ]
  },
  {
   "cell_type": "markdown",
   "metadata": {},
   "source": [
    "Answer: d) Can’t be declared const, volatile, or constant volatile"
   ]
  },
  {
   "cell_type": "markdown",
   "metadata": {},
   "source": [
    "<b>Q97. Which among the following can’t be used to access the members in anyway?</b>"
   ]
  },
  {
   "cell_type": "markdown",
   "metadata": {},
   "source": [
    "Answer: c) Single colon"
   ]
  },
  {
   "cell_type": "markdown",
   "metadata": {},
   "source": [
    "<b>Q98. If static data member are made inline, ______________</b>"
   ]
  },
  {
   "cell_type": "markdown",
   "metadata": {},
   "source": [
    "Answer: c) Those can be initialised within the class"
   ]
  },
  {
   "cell_type": "markdown",
   "metadata": {},
   "source": [
    "<b>Q99. The static data member _________________</b>"
   ]
  },
  {
   "cell_type": "markdown",
   "metadata": {},
   "source": [
    "Answer: b) Can’t be mutable"
   ]
  },
  {
   "cell_type": "markdown",
   "metadata": {},
   "source": [
    "<b>Q100. We can use the static member functions and static data member __________________.</b>"
   ]
  },
  {
   "cell_type": "markdown",
   "metadata": {},
   "source": [
    "Answer: a) Even if a class object is not created"
   ]
  },
  {
   "cell_type": "markdown",
   "metadata": {},
   "source": [
    "<b>Q101. Point out the wrong statement:</b>"
   ]
  },
  {
   "cell_type": "markdown",
   "metadata": {},
   "source": [
    "Answer: c) rPy provides lots of scientific routines that work on top of NumPy"
   ]
  },
  {
   "cell_type": "markdown",
   "metadata": {},
   "source": [
    "<b>Q102. The ________ function returns its argument with the modified shape, whereas the ________ method modifies the array itself.</b>"
   ]
  },
  {
   "cell_type": "markdown",
   "metadata": {},
   "source": [
    "Answer: a) reshape, resize"
   ]
  },
  {
   "cell_type": "markdown",
   "metadata": {},
   "source": [
    "<b>Q103. To create sequences of the numbers, NumPy provides a function __________ analogous to range that returns arrays instead of lists.</b>"
   ]
  },
  {
   "cell_type": "markdown",
   "metadata": {},
   "source": [
    "Answer: a) arrange"
   ]
  },
  {
   "cell_type": "markdown",
   "metadata": {},
   "source": [
    "<b>Q104. Point out the correct statement:</b>"
   ]
  },
  {
   "cell_type": "markdown",
   "metadata": {},
   "source": [
    "Answer: d) All of the Mentioned"
   ]
  },
  {
   "cell_type": "markdown",
   "metadata": {},
   "source": [
    "<b>Q105. Which of the following function stack 1D array as the columns into the 2D array?</b>"
   ]
  },
  {
   "cell_type": "markdown",
   "metadata": {},
   "source": [
    "Answer: b) column_stack"
   ]
  },
  {
   "cell_type": "markdown",
   "metadata": {},
   "source": [
    "<b>Q106. ndarray is also known as an alias array.</b>"
   ]
  },
  {
   "cell_type": "markdown",
   "metadata": {},
   "source": [
    "Answer: a) True"
   ]
  },
  {
   "cell_type": "markdown",
   "metadata": {},
   "source": [
    "<b>Q107. Which of the following method creates the new array object that looks at the same data?</b>"
   ]
  },
  {
   "cell_type": "markdown",
   "metadata": {},
   "source": [
    "Answer: a) view"
   ]
  },
  {
   "cell_type": "markdown",
   "metadata": {},
   "source": [
    "<b>Q108. Which of the functions can be used to combine the different vectors to obtain the result for each n-uplet?</b>"
   ]
  },
  {
   "cell_type": "markdown",
   "metadata": {},
   "source": [
    "Answer: b) ix_"
   ]
  },
  {
   "cell_type": "markdown",
   "metadata": {},
   "source": [
    "<b>Q109. ndarray.dataitemSize is the buffer containing actual elements of an array.</b>"
   ]
  },
  {
   "cell_type": "markdown",
   "metadata": {},
   "source": [
    "Answer: a) True"
   ]
  },
  {
   "cell_type": "markdown",
   "metadata": {},
   "source": [
    "<b>Q110. Which of the following is in the NumPy library?</b>"
   ]
  },
  {
   "cell_type": "markdown",
   "metadata": {},
   "source": [
    "Answer: d) all of the Mentioned"
   ]
  },
  {
   "cell_type": "markdown",
   "metadata": {},
   "source": [
    "<b>Q111. Which of the following sets the size of the buffer used in ufuncs ?</b>"
   ]
  },
  {
   "cell_type": "markdown",
   "metadata": {},
   "source": [
    "Answer: d) all of the Mentioned"
   ]
  },
  {
   "cell_type": "markdown",
   "metadata": {},
   "source": [
    "<b>Q112. Point out the wrong statement:</b>"
   ]
  },
  {
   "cell_type": "markdown",
   "metadata": {},
   "source": [
    "Answer: b) In Numpy, universal functions are the instances of numpy.ufunction class"
   ]
  },
  {
   "cell_type": "markdown",
   "metadata": {},
   "source": [
    "<b>Q113. Which of the following attribute should be used while checking the type combination input and output?</b>"
   ]
  },
  {
   "cell_type": "markdown",
   "metadata": {},
   "source": [
    "Answer: a) .types"
   ]
  },
  {
   "cell_type": "markdown",
   "metadata": {},
   "source": [
    "<b>Q114. Which of the following returns an array of “ones” with the same shape and type as a given array?</b>"
   ]
  },
  {
   "cell_type": "markdown",
   "metadata": {},
   "source": [
    "Answer: b) ones_like"
   ]
  },
  {
   "cell_type": "markdown",
   "metadata": {},
   "source": [
    "<b>Q115. Point out the wrong statement:</b>"
   ]
  },
  {
   "cell_type": "markdown",
   "metadata": {},
   "source": [
    "Answer: c) The output of the ufunc is necessarily a ndarray, if all the input arguments are ndarrays"
   ]
  },
  {
   "cell_type": "markdown",
   "metadata": {},
   "source": [
    "<b>Q116. Which of the following set of a floating-point error callback function or a log object?</b>"
   ]
  },
  {
   "cell_type": "markdown",
   "metadata": {},
   "source": [
    "Answer: b) settercall"
   ]
  },
  {
   "cell_type": "markdown",
   "metadata": {},
   "source": [
    "<b>Q117. Some ufuncs can take output arguments.</b>"
   ]
  },
  {
   "cell_type": "markdown",
   "metadata": {},
   "source": [
    "Answer: b) False"
   ]
  },
  {
   "cell_type": "markdown",
   "metadata": {},
   "source": [
    "<b>Q118. ___________ decompose the elements of x into the mantissa and the two’s exponent.</b>"
   ]
  },
  {
   "cell_type": "markdown",
   "metadata": {},
   "source": [
    "Answer: c) frexp"
   ]
  },
  {
   "cell_type": "markdown",
   "metadata": {},
   "source": [
    "<b>Q119. Which of the following function take the only a single value as input?</b>"
   ]
  },
  {
   "cell_type": "markdown",
   "metadata": {},
   "source": [
    "Answer: a) iscomplex"
   ]
  },
  {
   "cell_type": "markdown",
   "metadata": {},
   "source": [
    "<b>Q120. The array object returned by the _array_prepare_ is passed to ufunc for computation.</b>"
   ]
  },
  {
   "cell_type": "markdown",
   "metadata": {},
   "source": [
    "Answer: a) True"
   ]
  },
  {
   "cell_type": "markdown",
   "metadata": {},
   "source": [
    "<b>Q121. All pandas data structures are ___mutable but not always _______-mutable.</b>"
   ]
  },
  {
   "cell_type": "markdown",
   "metadata": {},
   "source": [
    "Answer:c) value,size"
   ]
  },
  {
   "cell_type": "markdown",
   "metadata": {},
   "source": [
    "<b>Q122. Point out the correct statement:</b>"
   ]
  },
  {
   "cell_type": "markdown",
   "metadata": {},
   "source": [
    "Answer:d) All of the above mentioned"
   ]
  },
  {
   "cell_type": "markdown",
   "metadata": {},
   "source": [
    "<b>Q123. Which of the following statement will import the pandas?</b>"
   ]
  },
  {
   "cell_type": "markdown",
   "metadata": {},
   "source": [
    "Answer:a) import pandas as pd"
   ]
  },
  {
   "cell_type": "markdown",
   "metadata": {},
   "source": [
    "<b>Q124. Which of the following object did we get after reading the CSV file?</b>"
   ]
  },
  {
   "cell_type": "markdown",
   "metadata": {},
   "source": [
    "Answer:a) DataFrame"
   ]
  },
  {
   "cell_type": "markdown",
   "metadata": {},
   "source": [
    "<b>Q125. Point out the wrong statement:</b>"
   ]
  },
  {
   "cell_type": "markdown",
   "metadata": {},
   "source": [
    "Answer: c) The panel is generally 2D labelled, also a size-mutable array"
   ]
  },
  {
   "cell_type": "markdown",
   "metadata": {},
   "source": [
    "<b>Q126. Which of the following library is similar to the pandas?</b>"
   ]
  },
  {
   "cell_type": "markdown",
   "metadata": {},
   "source": [
    "Answer: a) numpy"
   ]
  },
  {
   "cell_type": "markdown",
   "metadata": {},
   "source": [
    "<b>Q127. Panel is a container for the Series, and DataFrame is a container for DataFrame objects.</b>"
   ]
  },
  {
   "cell_type": "markdown",
   "metadata": {},
   "source": [
    "Answer: b) False"
   ]
  },
  {
   "cell_type": "markdown",
   "metadata": {},
   "source": [
    "<b>Q128. Which of the following is the prominent python “statistics and econometrics library”?</b>"
   ]
  },
  {
   "cell_type": "markdown",
   "metadata": {},
   "source": [
    "Answer: c) Statsmodels"
   ]
  },
  {
   "cell_type": "markdown",
   "metadata": {},
   "source": [
    "<b>Q129. Which of the following is the foundational exploratory visualisation package for the R language in the pandas ecosystem?</b>"
   ]
  },
  {
   "cell_type": "markdown",
   "metadata": {},
   "source": [
    "Answer: a) yhat"
   ]
  },
  {
   "cell_type": "markdown",
   "metadata": {},
   "source": [
    "<b>Q130. Pandas consist of static and the moving window linear and panel regression.</b>"
   ]
  },
  {
   "cell_type": "markdown",
   "metadata": {},
   "source": [
    "Answer: a) True"
   ]
  },
  {
   "cell_type": "markdown",
   "metadata": {},
   "source": [
    "<b>Q131. Quandl API for Python wraps the __ REST API to returns the pandas DataFrames with time series indexes.</b>"
   ]
  },
  {
   "cell_type": "markdown",
   "metadata": {},
   "source": [
    "Answer: a) Quandl"
   ]
  },
  {
   "cell_type": "markdown",
   "metadata": {},
   "source": [
    "<b>Q132. Point out the correct statement:</b>"
   ]
  },
  {
   "cell_type": "markdown",
   "metadata": {},
   "source": [
    "Answer: a) Statsmodels provides powerful statistics, econometrics, analysis and the modelling functionality which is out of pandas’ scope"
   ]
  },
  {
   "cell_type": "markdown",
   "metadata": {},
   "source": [
    "<b>Q133.Which of the following library is used to retrieve and to acquire statistical data and metadata disseminated in SDMX 2.1?</b>"
   ]
  },
  {
   "cell_type": "markdown",
   "metadata": {},
   "source": [
    "Answer:a) pandaSDMX"
   ]
  },
  {
   "cell_type": "markdown",
   "metadata": {},
   "source": [
    "<b>Q134. Which of the following provides the standard API for doing computations with MongoDB?</b>"
   ]
  },
  {
   "cell_type": "markdown",
   "metadata": {},
   "source": [
    "Answer: a) Blaze"
   ]
  },
  {
   "cell_type": "markdown",
   "metadata": {},
   "source": [
    "<b>Q135. Point out the wrong statement:</b>"
   ]
  },
  {
   "cell_type": "markdown",
   "metadata": {},
   "source": [
    "Answer: c) Spyder is a cross-platform Qt-based open-source R IDE"
   ]
  },
  {
   "cell_type": "markdown",
   "metadata": {},
   "source": [
    "<b>Q136. Which of the following makes use of the pandas and returns data in a Series or DataFrame?</b>"
   ]
  },
  {
   "cell_type": "markdown",
   "metadata": {},
   "source": [
    "Answer: b) freedapi"
   ]
  },
  {
   "cell_type": "markdown",
   "metadata": {},
   "source": [
    "<b>Q137. Spyder can introspect and display Pandas DataFrames.</b>"
   ]
  },
  {
   "cell_type": "markdown",
   "metadata": {},
   "source": [
    "Answer: b) False"
   ]
  },
  {
   "cell_type": "markdown",
   "metadata": {},
   "source": [
    "<b>Q138. Which of the following is used for machine learning in the python?</b>"
   ]
  },
  {
   "cell_type": "markdown",
   "metadata": {},
   "source": [
    "Answer: a) sci-kit-learn"
   ]
  },
  {
   "cell_type": "markdown",
   "metadata": {},
   "source": [
    "<b>Q139. The ________ project builds on top of the pandas and matplotlib to provide easy plotting of data.</b>"
   ]
  },
  {
   "cell_type": "markdown",
   "metadata": {},
   "source": [
    "Answer: b) Seaborn"
   ]
  },
  {
   "cell_type": "markdown",
   "metadata": {},
   "source": [
    "<b>Q140 x-ray brings the labelled data power of pandas to the physical sciences.</b>"
   ]
  },
  {
   "cell_type": "markdown",
   "metadata": {},
   "source": [
    "Answer: a) True"
   ]
  },
  {
   "cell_type": "markdown",
   "metadata": {},
   "source": [
    "<b>Q141. Which of the following is the base layer of all of the sparse has it indexed data structures?</b>"
   ]
  },
  {
   "cell_type": "markdown",
   "metadata": {},
   "source": [
    "Answer: b) SparseArray"
   ]
  },
  {
   "cell_type": "markdown",
   "metadata": {},
   "source": [
    "<b>Q142. Point out the correct statement.</b>"
   ]
  },
  {
   "cell_type": "markdown",
   "metadata": {},
   "source": [
    "Answer: d) All of the mentioned"
   ]
  },
  {
   "cell_type": "markdown",
   "metadata": {},
   "source": [
    "<b>Q143. Which of the following is not an indexed object?</b>"
   ]
  },
  {
   "cell_type": "markdown",
   "metadata": {},
   "source": [
    "Answer: d) None of the mentioned"
   ]
  },
  {
   "cell_type": "markdown",
   "metadata": {},
   "source": [
    "<b>Q144. Which of the following list like data structure is used for managing the dynamic collection of SparseArrays?</b>"
   ]
  },
  {
   "cell_type": "markdown",
   "metadata": {},
   "source": [
    "Answer: a) SparseList"
   ]
  },
  {
   "cell_type": "markdown",
   "metadata": {},
   "source": [
    "<b>Q145. Point out the wrong statement.</b>"
   ]
  },
  {
   "cell_type": "markdown",
   "metadata": {},
   "source": [
    "Answer: a) to_array. append can accept scalar values or any 2-D sequence"
   ]
  },
  {
   "cell_type": "markdown",
   "metadata": {},
   "source": [
    "<b>Q146. Which of the following method used for transforming the Sparse-series index by the MultiIndex to a scipy.sparse.coo_matrix?</b>"
   ]
  },
  {
   "cell_type": "markdown",
   "metadata": {},
   "source": [
    "Answer: a) SparseSeries.to_coo()"
   ]
  },
  {
   "cell_type": "markdown",
   "metadata": {},
   "source": [
    "<b>Q147. The integer format tracks only the locations and the sizes of blocks of data.</b>"
   ]
  },
  {
   "cell_type": "markdown",
   "metadata": {},
   "source": [
    "Answer: b) False"
   ]
  },
  {
   "cell_type": "markdown",
   "metadata": {},
   "source": [
    "<b>Q148. Which of the following is used for the testing for membership in the list of column names?</b>"
   ]
  },
  {
   "cell_type": "markdown",
   "metadata": {},
   "source": [
    "Answer: a) in"
   ]
  },
  {
   "cell_type": "markdown",
   "metadata": {},
   "source": [
    "<b>Q149. Which of the following indexing capabilities is used as the concise means of selecting data from a pandas object?</b>"
   ]
  },
  {
   "cell_type": "markdown",
   "metadata": {},
   "source": [
    "Answer: b) ix"
   ]
  },
  {
   "cell_type": "markdown",
   "metadata": {},
   "source": [
    "<b>Q150. Pandas follow the NumPy convention of raising an error when you try to convert something to a bool.</b>"
   ]
  },
  {
   "cell_type": "markdown",
   "metadata": {},
   "source": [
    "Answer: a) True"
   ]
  }
 ],
 "metadata": {
  "kernelspec": {
   "display_name": "Python 3",
   "language": "python",
   "name": "python3"
  },
  "language_info": {
   "codemirror_mode": {
    "name": "ipython",
    "version": 3
   },
   "file_extension": ".py",
   "mimetype": "text/x-python",
   "name": "python",
   "nbconvert_exporter": "python",
   "pygments_lexer": "ipython3",
   "version": "3.7.0"
  }
 },
 "nbformat": 4,
 "nbformat_minor": 2
}
