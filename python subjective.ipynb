{
 "cells": [
  {
   "cell_type": "markdown",
   "metadata": {},
   "source": [
    "<b>Q1. Write a Python program to get the string from the given string where all the occurrence of its first char has been changed to '$,' except first char itself?</b><br>\n",
    "\n",
    "&nbsp;&nbsp; Sample String: 'prospect' <br>\n",
    "&nbsp;&nbsp; Expected Result : 'pros$ect'"
   ]
  },
  {
   "cell_type": "code",
   "execution_count": 6,
   "metadata": {},
   "outputs": [
    {
     "name": "stdout",
     "output_type": "stream",
     "text": [
      "pros$ect\n"
     ]
    }
   ],
   "source": [
    "def change_char(str1): \n",
    "    char = str1[0] \n",
    "    str1 = str1.replace(char, '$') \n",
    "    str1 = char + str1[1:]\n",
    "    return str1\n",
    "print(change_char('prospect'))"
   ]
  },
  {
   "cell_type": "markdown",
   "metadata": {},
   "source": [
    "<b>Q2. Write a Python program to get the single string from the two given strings, and separated by the space and swap the first two characters of each string?</b><br>\n",
    "&nbsp; &nbsp;Sample String : 'abc', 'xyz'.<br>\n",
    "&nbsp;&nbsp; Expected Result: 'xyc abz'"
   ]
  },
  {
   "cell_type": "code",
   "execution_count": 7,
   "metadata": {},
   "outputs": [
    {
     "name": "stdout",
     "output_type": "stream",
     "text": [
      "xyc abz\n"
     ]
    }
   ],
   "source": [
    "def chars_mix_up(a, b): \n",
    "    new_a = b[:2] + a[2:] \n",
    "    new_b = a[:2] + b[2:] \n",
    "    return new_a + ' ' + new_b \n",
    "print(chars_mix_up('abc', 'xyz'))"
   ]
  },
  {
   "cell_type": "markdown",
   "metadata": {},
   "source": [
    "<b>Q3. Write the Python program to add 'ing' at the end of the given string (length of the string should be at least 3). If given string already ends with 'ing,' then add 'ly' instead. If string length of the given string is less than 3, leave it unchanged?</b><br>\n",
    "&nbsp; &nbsp; Sample string: ' abc '<br>\n",
    "&nbsp; &nbsp; Expected result: ' abcing '<br>\n",
    "&nbsp; &nbsp; Sample string: ' string '<br>\n",
    "&nbsp; &nbsp; Expected result: ' stringly '"
   ]
  },
  {
   "cell_type": "code",
   "execution_count": 15,
   "metadata": {},
   "outputs": [
    {
     "name": "stdout",
     "output_type": "stream",
     "text": [
      "ab\n",
      "abcing\n",
      "stringly\n"
     ]
    }
   ],
   "source": [
    "def add_string(str1): \n",
    "    length = len(str1)\n",
    "    if length > 2: \n",
    "        if str1[-3:] == 'ing': \n",
    "            str1 += 'ly' \n",
    "        else: \n",
    "            str1 += 'ing'\n",
    "    return str1 \n",
    "print(add_string('ab')) \n",
    "print(add_string('abc')) \n",
    "print(add_string('string'))"
   ]
  },
  {
   "cell_type": "markdown",
   "metadata": {},
   "source": [
    "<b>Q4. Write the Python program to find the first appearance of the substring 'not' and 'poor' from the given string, if 'not' follows the 'poor', replace the whole 'not'...' poor' substring with 'good'.Return the resulting string.</b><br>\n",
    "&nbsp; &nbsp; Sample string: 'The lyrics are not that poor!'<br>\n",
    "&nbsp; &nbsp;'The lyrics are poor!'<br>\n",
    "&nbsp; &nbsp; Expected Result: 'The lyrics are good!'<br>\n",
    "&nbsp; &nbsp;'The lyrics are poor!'"
   ]
  },
  {
   "cell_type": "code",
   "execution_count": 22,
   "metadata": {},
   "outputs": [
    {
     "name": "stdout",
     "output_type": "stream",
     "text": [
      "The lyrics is good!\n",
      "The lyrics is poor!\n"
     ]
    }
   ],
   "source": [
    "def not_poor(str1): \n",
    "    snot = str1.find('not') \n",
    "    spoor = str1.find('poor')\n",
    "    if spoor > snot and snot>0 and spoor>0: \n",
    "        str1 = str1.replace(str1[snot:(spoor+4)], 'good') \n",
    "        return str1 \n",
    "    else: \n",
    "        return str1 \n",
    "print(not_poor('The lyrics is not that poor!'))\n",
    "print(not_poor('The lyrics is poor!'))"
   ]
  },
  {
   "cell_type": "markdown",
   "metadata": {},
   "source": [
    "<b>Q5. Write the Python program to remove the characters which have odd index values of a given string.</b>"
   ]
  },
  {
   "cell_type": "code",
   "execution_count": 25,
   "metadata": {},
   "outputs": [
    {
     "name": "stdout",
     "output_type": "stream",
     "text": [
      "a\n",
      "p\n"
     ]
    }
   ],
   "source": [
    "def odd_values_string(str): \n",
    "    result = \"\" \n",
    "    for i in range(len(str)): \n",
    "        if i % 2 == 0: \n",
    "            result = result + str[i] \n",
    "            return result\n",
    "print(odd_values_string('abcdef')) \n",
    "print(odd_values_string('python'))"
   ]
  },
  {
   "cell_type": "markdown",
   "metadata": {},
   "source": [
    "<b>Q6. Write the Python function to get a string made of 4 copies of the last two characters of the specified string (length must be at least 2).</b><br>\n",
    "&nbsp; &nbsp; Sample function and result :<br>\n",
    "&nbsp; &nbsp; insert-end ('Python') -> abababab<br>\n",
    "&nbsp; &nbsp; insert-end('Exercises') -> jkjkjkjk"
   ]
  },
  {
   "cell_type": "code",
   "execution_count": 26,
   "metadata": {},
   "outputs": [
    {
     "name": "stdout",
     "output_type": "stream",
     "text": [
      "onononon\n",
      "eseseses\n"
     ]
    }
   ],
   "source": [
    "def insert_end(str): \n",
    "    sub_str = str[-2:]\n",
    "    return sub_str * 4 \n",
    "print(insert_end('Python')) \n",
    "print(insert_end('Exercises'))"
   ]
  },
  {
   "cell_type": "markdown",
   "metadata": {},
   "source": [
    "<b>Q7. Write the python function to get a string made of its first three characters of a specified string. If the length of the string is less than 3 then return the original string.</b><br>\n",
    "&nbsp;&nbsp; Sample function and result :<br>\n",
    "&nbsp;&nbsp; first-three('ipy') -> ipy<br>\n",
    "&nbsp;&nbsp; first-three('python') -> pyt"
   ]
  },
  {
   "cell_type": "code",
   "execution_count": 31,
   "metadata": {},
   "outputs": [
    {
     "name": "stdout",
     "output_type": "stream",
     "text": [
      "ipy\n",
      "pyt\n",
      "py\n"
     ]
    }
   ],
   "source": [
    "def first_three(str): \n",
    "    return str[:3] if len(str) > 3 else str \n",
    "print(first_three('ipy')) \n",
    "print(first_three('python')) \n",
    "print(first_three('py'))"
   ]
  },
  {
   "cell_type": "markdown",
   "metadata": {},
   "source": [
    "<b>Q8. Write the python program to print the following floating numbers up to 2 decimal places?</b>"
   ]
  },
  {
   "cell_type": "code",
   "execution_count": 32,
   "metadata": {},
   "outputs": [
    {
     "name": "stdout",
     "output_type": "stream",
     "text": [
      "\n",
      "Original Number:  3.1415926\n",
      "Formatted Number: 3.14\n",
      "Original Number:  12.9999\n",
      "Formatted Number: 13.00\n",
      "\n"
     ]
    }
   ],
   "source": [
    "x = 3.1415926 \n",
    "y = 12.9999 \n",
    "print(\"\\nOriginal Number: \", x) \n",
    "print(\"Formatted Number: \"+\"{:.2f}\".format(x)); \n",
    "print(\"Original Number: \", y) \n",
    "print(\"Formatted Number: \"+\"{:.2f}\".format(y));\n",
    "print()"
   ]
  },
  {
   "cell_type": "markdown",
   "metadata": {},
   "source": [
    "<b>Q9. Write the Python program to format a number with a percentage?</b>"
   ]
  },
  {
   "cell_type": "code",
   "execution_count": 33,
   "metadata": {},
   "outputs": [
    {
     "name": "stdout",
     "output_type": "stream",
     "text": [
      "\n",
      "Original Number:  0.25\n",
      "Formatted Number with percentage: 25.00%\n",
      "Original Number:  -0.25\n",
      "Formatted Number with percentage: -25.00%\n",
      "\n"
     ]
    }
   ],
   "source": [
    "x = 0.25\n",
    "y = -0.25 \n",
    "print(\"\\nOriginal Number: \", x)\n",
    "print(\"Formatted Number with percentage: \"+\"{:.2%}\".format(x));\n",
    "print(\"Original Number: \", y) \n",
    "print(\"Formatted Number with percentage: \"+\"{:.2%}\".format(y));\n",
    "print()"
   ]
  },
  {
   "cell_type": "markdown",
   "metadata": {},
   "source": [
    "<b>Q10. Write the Python program to count occurrences of a substring in a String?</b>"
   ]
  },
  {
   "cell_type": "code",
   "execution_count": 34,
   "metadata": {},
   "outputs": [
    {
     "name": "stdout",
     "output_type": "stream",
     "text": [
      "\n",
      "1\n",
      "\n"
     ]
    }
   ],
   "source": [
    "str1 = 'The quick brown fox jumps over the lazy dog.' \n",
    "print()\n",
    "print(str1.count(\"fox\"))\n",
    "print()"
   ]
  },
  {
   "cell_type": "markdown",
   "metadata": {},
   "source": [
    "<b>Q11. Write the Python program to count repeated characters in a string.</b><br>\n",
    "<br>\n",
    "&nbsp;&nbsp;&nbsp;Sample string: ' thequickbrownjumpsoverthelazydog '<br>\n",
    "&nbsp;&nbsp;&nbsp;Expected output:<br>\n",
    "&nbsp;&nbsp;&nbsp;o 3 <br>\n",
    "&nbsp;&nbsp;&nbsp;e 3 <br>\n",
    "&nbsp;&nbsp;&nbsp;u 2 <br>\n",
    "&nbsp;&nbsp;&nbsp;h 2<br>\n",
    "&nbsp;&nbsp;&nbsp;r 2 <br>\n",
    "&nbsp;&nbsp;&nbsp;t 2"
   ]
  },
  {
   "cell_type": "code",
   "execution_count": 36,
   "metadata": {},
   "outputs": [
    {
     "name": "stdout",
     "output_type": "stream",
     "text": [
      "o 4\n",
      "e 3\n",
      "t 2\n",
      "h 2\n",
      "u 2\n",
      "r 2\n"
     ]
    }
   ],
   "source": [
    "import collections \n",
    "str1 = 'thequickbrownfoxjumpsoverthelazydog' \n",
    "d = collections.defaultdict(int) \n",
    "for c in str1: \n",
    "    d[c] += 1\n",
    "for c in sorted(d, key=d.get, reverse=True):\n",
    "    if d[c] > 1: \n",
    "        print('%s %d' % (c, d[c]))"
   ]
  },
  {
   "cell_type": "markdown",
   "metadata": {},
   "source": [
    "<b>Q12. Write the Python program to print the square and cube symbol in the area of a rectangle and volume of a cylinder?</b><br>\n",
    "&nbsp;&nbsp;Sample output-<br>\n",
    "&nbsp;&nbsp;The area of the rectangle is 1256.66cm2<br>\n",
    "&nbsp;&nbsp;The volume of the cylinder is 1254.725cm3"
   ]
  },
  {
   "cell_type": "code",
   "execution_count": 38,
   "metadata": {},
   "outputs": [
    {
     "name": "stdout",
     "output_type": "stream",
     "text": [
      "The area of the rectangle is 1256.66cm²\n",
      "The volume of the cylinder is 1254.725cm³\n"
     ]
    }
   ],
   "source": [
    "area = 1256.66 \n",
    "volume = 1254.725 \n",
    "decimals = 2 \n",
    "print(\"The area of the rectangle is {0:.{1}f}cm\\u00b2\".format(area, decimals)) \n",
    "decimals = 3 \n",
    "print(\"The volume of the cylinder is {0:.{1}f}cm\\u00b3\".format(volume, decimals))"
   ]
  },
  {
   "cell_type": "markdown",
   "metadata": {},
   "source": [
    "<b>Q13. Write the Python program to check if a string contains all letters of the alphabet?</b>"
   ]
  },
  {
   "cell_type": "code",
   "execution_count": 41,
   "metadata": {},
   "outputs": [
    {
     "name": "stdout",
     "output_type": "stream",
     "text": [
      "True\n",
      "False\n"
     ]
    }
   ],
   "source": [
    "import string \n",
    "alphabet = set(string.ascii_lowercase)\n",
    "input_string = 'The quick brown fox jumps over the lazy dog' \n",
    "print(set(input_string.lower()) >= alphabet) \n",
    "input_string = 'The quick brown fox jumps over the lazy cat' \n",
    "print(set(input_string.lower()) >= alphabet)"
   ]
  },
  {
   "cell_type": "markdown",
   "metadata": {},
   "source": [
    "<b>Q14. Write the Python program to find the second most repeated word in a given string?</b>"
   ]
  },
  {
   "cell_type": "code",
   "execution_count": 51,
   "metadata": {},
   "outputs": [
    {
     "name": "stdout",
     "output_type": "stream",
     "text": [
      "('of', 4)\n"
     ]
    }
   ],
   "source": [
    "def word_count(str): \n",
    "    counts = dict() \n",
    "    words = str.split()\n",
    "    for word in words: \n",
    "        if word in counts: \n",
    "            counts[word] += 1 \n",
    "        else: \n",
    "            counts[word] = 1\n",
    "    counts_x = sorted(counts.items(), key=lambda kv: kv[1])\n",
    "    return counts_x[-2]\n",
    "print(word_count(\"Both of these issues are fixed by postponing the evaluation of annotations. Instead of compiling code which executes expressions in annotations at their definition time, the compiler stores the annotation in a string form equivalent to the AST of the expression in question. If needed, annotations can be resolved at runtime using typing.get_type_hints(). In the common case where this is not required, the annotations are cheaper to store (since short strings are interned by the interpreter) and make startup time faster.\"))"
   ]
  },
  {
   "cell_type": "markdown",
   "metadata": {},
   "source": [
    "<b>Q15. Write the Python program to find the minimum window in the given string, which will contains all the characters of another given strings?</b><br>\n",
    "&nbsp;&nbsp;'Example 1 <br>\n",
    "&nbsp;&nbsp;Input : string1 = \" PRWSOERIUSFK \" <br>\n",
    "&nbsp;&nbsp;string2 = \" OSU \"<br> \n",
    "&nbsp;&nbsp;Output: Minimum window is \"OERIUS\"<br>"
   ]
  },
  {
   "cell_type": "code",
   "execution_count": 65,
   "metadata": {},
   "outputs": [
    {
     "name": "stdout",
     "output_type": "stream",
     "text": [
      "Original Strings:\n",
      " PRWSOERIUSFK \n",
      " OSU\n",
      "Minimum window:\n",
      "\n"
     ]
    }
   ],
   "source": [
    "import collections \n",
    "def min_window(str1, str2): \n",
    "    result_char, missing_char = collections.Counter(str2), len(str2) \n",
    "    i = p = q = 0 \n",
    "    for j, c in enumerate(str1, 1): \n",
    "        missing_char -= result_char[c] > 0 \n",
    "        result_char[c] -= 1 \n",
    "        if not missing_char: \n",
    "            while i < q and result_char[str1[i]] < 0: \n",
    "                result_char[str1[i]] += 1\n",
    "                i += 1 \n",
    "            if not q or j - i <= q - p: \n",
    "                p, q = i, j \n",
    "        return str1[p:q]\n",
    "    \n",
    "str1 = \"PRWSOERIUSFK\" \n",
    "str2 = \"OSU\"\n",
    "print(\"Original Strings:\\n\",str1,\"\\n\",str2)\n",
    "print(\"Minimum window:\") \n",
    "print(min_window(str1,str2))"
   ]
  },
  {
   "cell_type": "markdown",
   "metadata": {},
   "source": [
    "<b>Q16. Write the Python program to find smallest window that contains all characters of the given string?</b>\n",
    "&nbsp;&nbsp;Original Strings: <br>\n",
    "&nbsp;&nbsp;asdaewsqgtwwsa<br>\n",
    "&nbsp;&nbsp;Smallest window that contains all characters of the said string:<br>\n",
    "&nbsp;&nbsp;Daewsqgt"
   ]
  },
  {
   "cell_type": "code",
   "execution_count": 71,
   "metadata": {},
   "outputs": [
    {
     "name": "stdout",
     "output_type": "stream",
     "text": [
      "Original Strings:\n",
      " asdaewsqgtwwsa\n",
      "\n",
      "Smallest window that contains all characters of the said string:\n",
      "a\n"
     ]
    }
   ],
   "source": [
    "from collections import defaultdict\n",
    "def find_sub_string(str): \n",
    "    str_len = len(str) \n",
    "    dist_count_char = len(set([x for x in str]))\n",
    "    ctr, start_pos, start_pos_index, min_len = 0, 0, -1, 9999999999 \n",
    "    curr_count = defaultdict(lambda: 0) \n",
    "    for i in range(str_len):\n",
    "        curr_count[str[i]] += 1\n",
    "    if curr_count[str[i]] == 1: \n",
    "        ctr += 1\n",
    "    if ctr == dist_count_char: \n",
    "        while curr_count[str[start_pos]] > 1: \n",
    "            if curr_count[str[start_pos]] > 1:\n",
    "                curr_count[str[start_pos]] -= 1 \n",
    "            start_pos += 1\n",
    "        len_window = i - start_pos + 1\n",
    "        if min_len > len_window:\n",
    "            min_len = len_window \n",
    "        start_pos_index = start_pos \n",
    "    return str[start_pos_index: start_pos_index + min_len]\n",
    "str1 = \"asdaewsqgtwwsa\" \n",
    "print(\"Original Strings:\\n\",str1)\n",
    "print(\"\\nSmallest window that contains all characters of the said string:\") \n",
    "print(find_sub_string(str1))"
   ]
  },
  {
   "cell_type": "markdown",
   "metadata": {},
   "source": [
    "<b>Q17. Write the Python program to count number of substrings from a given string of lowercase alphabets with exactly k distinct (given) characters?</b><br>\n",
    "&nbsp;&nbsp;Input a string (lowercase alphabets):<br>\n",
    "&nbsp;&nbsp;wolf Input k: 4 <br>\n",
    "&nbsp;&nbsp;Number of substrings with exactly 4 distinct characters: 1"
   ]
  },
  {
   "cell_type": "code",
   "execution_count": 3,
   "metadata": {},
   "outputs": [
    {
     "name": "stdout",
     "output_type": "stream",
     "text": [
      "Input a string (lowercase alphabets):wpbeginner\n",
      "Input k: 4\n",
      "Number of substrings with exactly 4 distinct characters : 8\n"
     ]
    }
   ],
   "source": [
    "def count_k_dist(str1, k): \n",
    "    str_len = len(str1) \n",
    "    result = 0\n",
    "    ctr = [0] * 27\n",
    "    for i in range(0, str_len): \n",
    "        dist_ctr = 0\n",
    "        ctr = [0] * 27\n",
    "        for j in range(i, str_len): \n",
    "            if(ctr[ord(str1[j]) - 97] == 0): \n",
    "                dist_ctr += 1\n",
    "                ctr[ord(str1[j]) - 97] += 1\n",
    "            if(dist_ctr == k): \n",
    "                result += 1 \n",
    "            if(dist_ctr > k): \n",
    "                break\n",
    "    return result\n",
    "str1 = input(\"Input a string (lowercase alphabets):\") \n",
    "k = int(input(\"Input k: \"))\n",
    "print(\"Number of substrings with exactly\", k, \"distinct characters : \", end = \"\") \n",
    "print(count_k_dist(str1, k))"
   ]
  },
  {
   "cell_type": "markdown",
   "metadata": {},
   "source": [
    "<b>Q18. Write the Python program to count number of non-empty substrings of the given string?</b><br>\n",
    "&nbsp;&nbsp;Input a string: w3resource <br>\n",
    "&nbsp;&nbsp;Number of substrings: 55"
   ]
  },
  {
   "cell_type": "code",
   "execution_count": 66,
   "metadata": {},
   "outputs": [
    {
     "name": "stdout",
     "output_type": "stream",
     "text": [
      "Input a string: w3resource\n",
      "Number of substrings:\n",
      "55\n"
     ]
    }
   ],
   "source": [
    "def number_of_substrings(str): \n",
    "    str_len = len(str); \n",
    "    return int(str_len * (str_len + 1) / 2);\n",
    "str1 = input(\"Input a string: \")\n",
    "print(\"Number of substrings:\") \n",
    "print(number_of_substrings(str1))"
   ]
  },
  {
   "cell_type": "markdown",
   "metadata": {},
   "source": [
    "<b>Q19. Write the Python program to count number of substrings with same first and last characters of the given string?</b><br>\n",
    "&nbsp;&nbsp;Input a string: abcd <br>\n",
    "&nbsp;&nbsp;4"
   ]
  },
  {
   "cell_type": "code",
   "execution_count": 78,
   "metadata": {},
   "outputs": [
    {
     "name": "stdout",
     "output_type": "stream",
     "text": [
      "Input a string: abcd\n",
      "4\n"
     ]
    }
   ],
   "source": [
    "def no_of_substring_with_equalEnds(str1): \n",
    "    result = 0; \n",
    "    n = len(str1); \n",
    "    for i in range(n): \n",
    "        for j in range(i, n): \n",
    "            if (str1[i] == str1[j]): \n",
    "                result = result + 1 \n",
    "    return result \n",
    "str1 = input(\"Input a string: \") \n",
    "print(no_of_substring_with_equalEnds(str1))"
   ]
  },
  {
   "cell_type": "markdown",
   "metadata": {},
   "source": [
    "<b>Q20. Write the Python program to count the number of strings where the string length is 2 or more, and first and last character are same from a given list of strings.</b><br>\n",
    "&nbsp;&nbsp;Sample List : ['abc', 'xyz', 'wxw', '1331']<br>\n",
    "&nbsp;&nbsp;Expected Result: 2"
   ]
  },
  {
   "cell_type": "code",
   "execution_count": 84,
   "metadata": {},
   "outputs": [
    {
     "name": "stdout",
     "output_type": "stream",
     "text": [
      "2\n"
     ]
    }
   ],
   "source": [
    "def match_words(words): \n",
    "    ctr = 0\n",
    "    for word in words: \n",
    "        if len(word) > 1 and word[0] == word[-1]: \n",
    "            ctr += 1 \n",
    "    return ctr\n",
    "print(match_words(['abc', 'xyz', 'aba', '1221']))"
   ]
  },
  {
   "cell_type": "markdown",
   "metadata": {},
   "source": [
    "<b>Q21. Write the Python program to get a list, sorted in increasing order by the last element in each tuple from the given list of non-empty tuples?</b><br>\n",
    "&nbsp;&nbsp;Sample List - [ (2, 5), (1, 2), (4, 4), (2, 3), (2, 1) ]<br>\n",
    "&nbsp;&nbsp;Expected Result - [ (2, 1), (1, 2), (2, 3), (4, 4), (2, 5) ]"
   ]
  },
  {
   "cell_type": "code",
   "execution_count": 4,
   "metadata": {},
   "outputs": [
    {
     "name": "stdout",
     "output_type": "stream",
     "text": [
      "[(2, 1), (1, 2), (2, 3), (4, 4), (2, 5)]\n"
     ]
    }
   ],
   "source": [
    "def last(n): return n[-1]\n",
    "def sort_list_last(tuples): \n",
    "    return sorted(tuples, key=last)\n",
    "print(sort_list_last([(2, 5), (1, 2), (4, 4), (2, 3), (2, 1)]))"
   ]
  },
  {
   "cell_type": "markdown",
   "metadata": {},
   "source": [
    "<b>Q22. Write the Python program to remove duplicates from a list?</b>"
   ]
  },
  {
   "cell_type": "code",
   "execution_count": 5,
   "metadata": {},
   "outputs": [
    {
     "name": "stdout",
     "output_type": "stream",
     "text": [
      "{10}\n",
      "{10, 20}\n",
      "{10, 20, 30}\n",
      "{10, 20, 30}\n",
      "{10, 20, 30}\n",
      "{10, 20, 50, 30}\n",
      "{10, 50, 20, 60, 30}\n",
      "{40, 10, 50, 20, 60, 30}\n",
      "{40, 10, 80, 50, 20, 60, 30}\n",
      "{40, 10, 80, 50, 20, 60, 30}\n",
      "{40, 10, 80, 50, 20, 60, 30}\n"
     ]
    }
   ],
   "source": [
    "a = [10,20,30,20,10,50,60,40,80,50,40] \n",
    "dup_items = set() \n",
    "uniq_items = [] \n",
    "for x in a: \n",
    "    if x not in dup_items: \n",
    "        uniq_items.append(x) \n",
    "        dup_items.add(x) \n",
    "    print(dup_items)"
   ]
  },
  {
   "cell_type": "markdown",
   "metadata": {},
   "source": [
    "<b>Q23. Write the Python program to find the list of words that are longer than n from a given list of words?</b>"
   ]
  },
  {
   "cell_type": "code",
   "execution_count": 11,
   "metadata": {},
   "outputs": [
    {
     "name": "stdout",
     "output_type": "stream",
     "text": [
      "['quick', 'brown', 'jumps', 'over', 'lazy']\n"
     ]
    }
   ],
   "source": [
    "def long_words(n, str): \n",
    "    word_len = [] \n",
    "    txt = str.split(\" \") \n",
    "    for x in txt: \n",
    "        if len(x) > n: \n",
    "            word_len.append(x) \n",
    "    return word_len \n",
    "print(long_words(3, \"The quick brown fox jumps over the lazy dog\"))"
   ]
  },
  {
   "cell_type": "markdown",
   "metadata": {},
   "source": [
    "<b>Q24. Write the Python program to print a specified list after removing the 0th, 4th, and 5th elements?</b><br>\n",
    "&nbsp;&nbsp;Sample List - ['Red', 'Green', 'White', 'Black', 'Pink', 'Yellow']<br>\n",
    "&nbsp;&nbsp;Expected Output - ['Green', 'White', 'Black']"
   ]
  },
  {
   "cell_type": "code",
   "execution_count": 12,
   "metadata": {},
   "outputs": [
    {
     "name": "stdout",
     "output_type": "stream",
     "text": [
      "['Green', 'White', 'Black']\n"
     ]
    }
   ],
   "source": [
    "color = ['Red', 'Green', 'White', 'Black', 'Pink', 'Yellow'] \n",
    "color = [x for (i,x) in enumerate(color) \n",
    "         if i not in (0,4,5)] \n",
    "print(color)"
   ]
  },
  {
   "cell_type": "markdown",
   "metadata": {},
   "source": [
    "<b>Q25. Write the Python program to generate all permutations of a list in Python?</b>"
   ]
  },
  {
   "cell_type": "code",
   "execution_count": 13,
   "metadata": {},
   "outputs": [
    {
     "name": "stdout",
     "output_type": "stream",
     "text": [
      "[(1, 2, 3), (1, 3, 2), (2, 1, 3), (2, 3, 1), (3, 1, 2), (3, 2, 1)]\n"
     ]
    }
   ],
   "source": [
    "import itertools \n",
    "print(list(itertools.permutations([1,2,3])))"
   ]
  },
  {
   "cell_type": "markdown",
   "metadata": {},
   "source": [
    "<b>Q26. Write the Python program to convert a pair of values into a sorted unique array?</b><br>\n",
    "&nbsp;&nbsp;Original List- [ (1, 2), (3, 4), (1, 2), (5, 6), (7, 8), (1, 2), (3, 4), (3, 4), (7, 8), (9, 10) ]<br>\n",
    "&nbsp;&nbsp;Sorted Unique Data- [ 1, 2, 3, 4, 5, 6, 7, 8, 9, 10 ]"
   ]
  },
  {
   "cell_type": "code",
   "execution_count": 14,
   "metadata": {},
   "outputs": [
    {
     "name": "stdout",
     "output_type": "stream",
     "text": [
      "Original List:  [(1, 2), (3, 4), (1, 2), (5, 6), (7, 8), (1, 2), (3, 4), (3, 4), (7, 8), (9, 10)]\n",
      "Sorted Unique Data: [1, 2, 3, 4, 5, 6, 7, 8, 9, 10]\n"
     ]
    }
   ],
   "source": [
    "L = [(1, 2), (3, 4), (1, 2), (5, 6), (7, 8), (1, 2), (3, 4), (3, 4), (7, 8), (9, 10)] \n",
    "print(\"Original List: \", L) \n",
    "print(\"Sorted Unique Data:\",sorted(set().union(*L)))"
   ]
  },
  {
   "cell_type": "markdown",
   "metadata": {},
   "source": [
    "<b>Q27. Write the Python class to convert an integer to a roman numeral?</b>"
   ]
  },
  {
   "cell_type": "code",
   "execution_count": 21,
   "metadata": {},
   "outputs": [
    {
     "name": "stdout",
     "output_type": "stream",
     "text": [
      "I\n",
      "MMMM\n"
     ]
    }
   ],
   "source": [
    "class py_solution: \n",
    "    def int_to_Roman(self, num):\n",
    "        val = [ 1000, 900, 500, 400, 100, 90, 50, 40, 10, 9, 5, 4, 1 ] \n",
    "        syb = [ \"M\", \"CM\", \"D\", \"CD\", \"C\", \"XC\", \"L\", \"XL\", \"X\", \"IX\", \"V\", \"IV\", \"I\" ] \n",
    "        roman_num = '' \n",
    "        i = 0 \n",
    "        while num > 0: \n",
    "            for _ in range(num // val[i]): \n",
    "                roman_num += syb[i] \n",
    "                num -= val[i] \n",
    "            i += 1 \n",
    "        return roman_num\n",
    "print(py_solution().int_to_Roman(1)) \n",
    "print(py_solution().int_to_Roman(4000))"
   ]
  },
  {
   "cell_type": "markdown",
   "metadata": {},
   "source": [
    "<b>Q28 Write the Python class to convert a Roman numeral to an integer?</b>"
   ]
  },
  {
   "cell_type": "code",
   "execution_count": 26,
   "metadata": {},
   "outputs": [
    {
     "name": "stdout",
     "output_type": "stream",
     "text": [
      "3986\n",
      "4000\n",
      "100\n"
     ]
    }
   ],
   "source": [
    "class py_solution: \n",
    "    def roman_to_int(self, s): \n",
    "        rom_val = {'I': 1, 'V': 5, 'X': 10, 'L': 50, 'C': 100, 'D': 500, 'M': 1000}\n",
    "        int_val = 0 \n",
    "        for i in range(len(s)): \n",
    "            if i > 0 and rom_val[s[i]] > rom_val[s[i - 1]]: \n",
    "                int_val += rom_val[s[i]] - 2 * rom_val[s[i - 1]] \n",
    "            else: \n",
    "                int_val += rom_val[s[i]] \n",
    "        return int_val\n",
    "print(py_solution().roman_to_int('MMMCMLXXXVI')) \n",
    "print(py_solution().roman_to_int('MMMM')) \n",
    "print(py_solution().roman_to_int('C'))"
   ]
  },
  {
   "cell_type": "markdown",
   "metadata": {},
   "source": [
    "<b>Q29. Write the Python class to find the validity of the string of the parentheses, '(', ')', '{', '}', '[' and '] and the brackets must be closed in the correct order, example - \"()\" and \"()[]{}\" are valid but \"[)\", \"({[)]\" and \"{{{\" are invalid.</b>"
   ]
  },
  {
   "cell_type": "code",
   "execution_count": 32,
   "metadata": {},
   "outputs": [
    {
     "name": "stdout",
     "output_type": "stream",
     "text": [
      "True\n",
      "False\n",
      "True\n"
     ]
    }
   ],
   "source": [
    "class py_solution: \n",
    "    def is_valid_parenthese(self, str1): \n",
    "        stack, pchar = [], {\"(\": \")\", \"{\": \"}\", \"[\": \"]\"} \n",
    "        for parenthese in str1: \n",
    "            if parenthese in pchar: \n",
    "                stack.append(parenthese) \n",
    "            elif len(stack) == 0 or pchar[stack.pop()] != parenthese: \n",
    "                return False \n",
    "        return len(stack) == 0 \n",
    "print(py_solution().is_valid_parenthese(\"(){}[]\")) \n",
    "print(py_solution().is_valid_parenthese(\"()[{)}\")) \n",
    "print(py_solution().is_valid_parenthese(\"()\"))"
   ]
  },
  {
   "cell_type": "markdown",
   "metadata": {},
   "source": [
    "<b>Q30. Write the Python class to get all possible unique subsets from a set of distinct integers?</b><br>\n",
    "&nbsp;&nbsp;Input - [4, 5, 6]<br>\n",
    "&nbsp;&nbsp;Output - [[], [6], [5], [5, 6], [4], [4, 6], [4, 5], [4, 5, 6]]"
   ]
  },
  {
   "cell_type": "code",
   "execution_count": 33,
   "metadata": {},
   "outputs": [
    {
     "name": "stdout",
     "output_type": "stream",
     "text": [
      "[[], [6], [5], [5, 6], [4], [4, 6], [4, 5], [4, 5, 6]]\n"
     ]
    }
   ],
   "source": [
    "class py_solution: \n",
    "    def sub_sets(self, sset): \n",
    "        return self.subsetsRecur([], sorted(sset))\n",
    "    def subsetsRecur(self, current, sset): \n",
    "        if sset: \n",
    "            return self.subsetsRecur(current, sset[1:]) + self.subsetsRecur(current + [sset[0]], sset[1:]) \n",
    "        return [current]\n",
    "print(py_solution().sub_sets([4,5,6]))"
   ]
  },
  {
   "cell_type": "markdown",
   "metadata": {},
   "source": [
    "<b>Q31. Write the Python class to find a pair of elements (indices of the two numbers) from a given array whose sum equals the specific target number?</b><br>\n",
    "&nbsp;&nbsp;Input: numbers- [10,20,10,40,50,60,70], target=50<br>\n",
    "&nbsp;&nbsp;Output- 3, 4"
   ]
  },
  {
   "cell_type": "code",
   "execution_count": 37,
   "metadata": {},
   "outputs": [
    {
     "name": "stdout",
     "output_type": "stream",
     "text": [
      "index1=2, index2=3\n"
     ]
    }
   ],
   "source": [
    "class py_solution: \n",
    "    def twoSum(self, nums, target): \n",
    "        lookup = {} \n",
    "        for i, num in enumerate(nums): \n",
    "            if target - num in lookup: \n",
    "                return (lookup[target - num], i ) \n",
    "            lookup[num] = i \n",
    "print(\"index1=%d, index2=%d\" % py_solution().twoSum((10,20,10,40,50,60,70),50))"
   ]
  },
  {
   "cell_type": "markdown",
   "metadata": {},
   "source": [
    "<b>Q32. Write the Python class to find the three elements that sum to zero from the set of n real numbers?</b><br>\n",
    "&nbsp;&nbsp;Input array- [-25, -10, -7, -3, 2, 4, 8, 10]<br>\n",
    "&nbsp;&nbsp;Output - [[-10, 2, 8], [-7, -3, 10]]"
   ]
  },
  {
   "cell_type": "code",
   "execution_count": 3,
   "metadata": {},
   "outputs": [
    {
     "name": "stdout",
     "output_type": "stream",
     "text": [
      "[[-10, 2, 8], [-7, -3, 10]]\n"
     ]
    }
   ],
   "source": [
    "class py_solution: \n",
    "    def threeSum(self, nums): \n",
    "        nums, result, i = sorted(nums), [], 0 \n",
    "        while i < len(nums) - 2: \n",
    "            j, k = i + 1, len(nums) - 1 \n",
    "            while j < k: \n",
    "                if nums[i] + nums[j] + nums[k] < 0: \n",
    "                    j += 1 \n",
    "                elif nums[i] + nums[j] + nums[k] > 0:\n",
    "                    k -= 1 \n",
    "                else: \n",
    "                    result.append([nums[i], nums[j], nums[k]])\n",
    "                    j, k = j + 1, k - 1 \n",
    "                    while j < k and nums[j] == nums[j - 1]:\n",
    "                        j += 1 \n",
    "                    while j < k and nums[k] == nums[k + 1]: \n",
    "                        k -= 1 \n",
    "            i += 1 \n",
    "            while i < len(nums) - 2 and nums[i] == nums[i - 1]:\n",
    "                i += 1 \n",
    "        return result \n",
    "print(py_solution().threeSum([-25, -10, -7, -3, 2, 4, 8, 10]))"
   ]
  },
  {
   "cell_type": "markdown",
   "metadata": {},
   "source": [
    "<b>Q33. Write the Python class to implement pow(x, n)?</b>"
   ]
  },
  {
   "cell_type": "code",
   "execution_count": 24,
   "metadata": {},
   "outputs": [
    {
     "name": "stdout",
     "output_type": "stream",
     "text": [
      "-1\n",
      "-1\n",
      "-1\n"
     ]
    }
   ],
   "source": [
    "class py_solution: \n",
    "    def pow(self, x, n): \n",
    "        if x==0 or x==1 or n==1: \n",
    "            return x\n",
    "        if x==-1: \n",
    "            if n%2 ==0: \n",
    "                return 1 \n",
    "        else: \n",
    "            return -1 \n",
    "        if n==0: \n",
    "            return 1 \n",
    "        if n<0: \n",
    "            return 1/self.pow(x,-n) \n",
    "        val = self.pow(x,n//2) \n",
    "        if n%2 ==0:\n",
    "            return val*val \n",
    "        return val*val*x\n",
    "print(py_solution().pow(2, -3)); \n",
    "print(py_solution().pow(3, 5)); \n",
    "print(py_solution().pow(100, 0));"
   ]
  },
  {
   "cell_type": "markdown",
   "metadata": {},
   "source": [
    "<b>Q34. Write the Python class which has two methods get_String and print_String. get_String accept the string from the user and print_String print the string in upper case.</b>"
   ]
  },
  {
   "cell_type": "code",
   "execution_count": 10,
   "metadata": {},
   "outputs": [
    {
     "name": "stdout",
     "output_type": "stream",
     "text": [
      "resource\n",
      "RESOURCE\n"
     ]
    }
   ],
   "source": [
    "class IOString(): \n",
    "    def __init__(self): \n",
    "        self.str1 = \"\"\n",
    "    def get_String(self): \n",
    "        self.str1 = input()\n",
    "    def print_String(self): \n",
    "        print(self.str1.upper())\n",
    "str1 = IOString() \n",
    "str1.get_String() \n",
    "str1.print_String()"
   ]
  },
  {
   "cell_type": "markdown",
   "metadata": {},
   "source": [
    "<b>Q35. Write the Python class named Rectangle constructed by a length and width and the method which will compute the area of the rectangle?</b>"
   ]
  },
  {
   "cell_type": "code",
   "execution_count": 17,
   "metadata": {},
   "outputs": [
    {
     "name": "stdout",
     "output_type": "stream",
     "text": [
      "120\n"
     ]
    }
   ],
   "source": [
    "class Rectangle(): \n",
    "    def __init__(self, l, w): \n",
    "        self.length = l \n",
    "        self.width = w \n",
    "    def rectangle_area(self): \n",
    "        return self.length*self.width \n",
    "newRectangle = Rectangle(12, 10) \n",
    "print(newRectangle.rectangle_area())"
   ]
  },
  {
   "cell_type": "markdown",
   "metadata": {},
   "source": [
    "<b>Q36. Write the Python class named Circle constructed by the radius and two methods which will compute the area and perimeter of the circle?</b>"
   ]
  },
  {
   "cell_type": "code",
   "execution_count": 19,
   "metadata": {},
   "outputs": [
    {
     "name": "stdout",
     "output_type": "stream",
     "text": [
      "200.96\n",
      "50.24\n"
     ]
    }
   ],
   "source": [
    "class Circle(): \n",
    "    def __init__(self, r): \n",
    "        self.radius = r\n",
    "    def area(self): \n",
    "        return self.radius**2*3.14\n",
    "    def perimeter(self): \n",
    "        return 2*self.radius*3.14\n",
    "NewCircle = Circle(8) \n",
    "print(NewCircle.area()) \n",
    "print(NewCircle.perimeter())"
   ]
  },
  {
   "cell_type": "markdown",
   "metadata": {},
   "source": [
    "<b>Q37. Write the Python program to get the class name of an instance in Python?</b>"
   ]
  },
  {
   "cell_type": "code",
   "execution_count": 20,
   "metadata": {},
   "outputs": [
    {
     "name": "stdout",
     "output_type": "stream",
     "text": [
      "cycle\n"
     ]
    }
   ],
   "source": [
    "import itertools \n",
    "x = itertools.cycle('ABCD') \n",
    "print(type(x).__name__) "
   ]
  },
  {
   "cell_type": "markdown",
   "metadata": {},
   "source": [
    "<b>Q38. Write the Python program to count the number of students of individual class?</b>\n",
    "&nbsp;&nbsp;Sample data- <br>\n",
    "&nbsp;&nbsp;classes = ( ('V', 1), ('VI', 1), ('V', 2), ('VI', 2), ('VI', 3), ('VII', 1), ) <br>\n",
    "&nbsp;&nbsp;Expected Output- Counter({'VI': 3, 'V': 2, 'VII': 1})"
   ]
  },
  {
   "cell_type": "code",
   "execution_count": 22,
   "metadata": {},
   "outputs": [
    {
     "name": "stdout",
     "output_type": "stream",
     "text": [
      "Counter({'VI': 3, 'V': 2, 'VII': 1})\n"
     ]
    }
   ],
   "source": [
    "from collections import Counter \n",
    "classes = ( ('V', 1), ('VI', 1), ('V', 2), ('VI', 2), ('VI', 3), ('VII', 1),) \n",
    "students = Counter(class_name for class_name, no_students in classes) \n",
    "print(students)"
   ]
  },
  {
   "cell_type": "markdown",
   "metadata": {},
   "source": [
    "<b>Q39. Write the Python program to create an instance of an OrderedDict using the given dictionary and sort dictionary during the creation and print members of the dictionary in reverse order?</b><br>\n",
    "&nbsp;&nbsp;Expected Output-<br>\n",
    "&nbsp;&nbsp;Angola 244.<br>\n",
    "&nbsp;&nbsp;Andorra 376.<br>\n",
    "&nbsp;&nbsp;Algeria 213.<br>\n",
    "&nbsp;&nbsp;Afghanistan 93.<br>\n",
    "&nbsp;&nbsp;Albania 355.<br>\n",
    "&nbsp;&nbsp;In reverse order-<br>\n",
    "&nbsp;&nbsp;Albania 355.<br>\n",
    "&nbsp;&nbsp;Afghanistan 93.<br>\n",
    "&nbsp;&nbsp;Algeria 213.<br>\n",
    "&nbsp;&nbsp;Andorra 376.<br>\n",
    "&nbsp;&nbsp;Angola 244."
   ]
  },
  {
   "cell_type": "code",
   "execution_count": 27,
   "metadata": {},
   "outputs": [
    {
     "name": "stdout",
     "output_type": "stream",
     "text": [
      "Afghanistan 93\n",
      "Albania 355\n",
      "Algeria 213\n",
      "Andorra 376\n",
      "Angola 244\n",
      "\n",
      "In reverse order:\n",
      "Angola 244\n",
      "Andorra 376\n",
      "Algeria 213\n",
      "Albania 355\n",
      "Afghanistan 93\n"
     ]
    }
   ],
   "source": [
    "from collections import OrderedDict \n",
    "dict = {'Afghanistan': 93, 'Albania': 355, 'Algeria': 213, 'Andorra': 376, 'Angola': 244}\n",
    "new_dict = OrderedDict(dict.items()) \n",
    "for key in new_dict: \n",
    "    print (key, new_dict[key])\n",
    "print(\"\\nIn reverse order:\") \n",
    "for key in reversed(new_dict): \n",
    "    print (key, new_dict[key])"
   ]
  },
  {
   "cell_type": "markdown",
   "metadata": {},
   "source": [
    "<b>Q40. Write the Python program to compare two unordered lists (not sets)?</b><br>\n",
    "&nbsp;&nbsp;Expected Output: False"
   ]
  },
  {
   "cell_type": "code",
   "execution_count": 25,
   "metadata": {},
   "outputs": [
    {
     "name": "stdout",
     "output_type": "stream",
     "text": [
      "False\n"
     ]
    }
   ],
   "source": [
    "from collections import Counter \n",
    "def compare_lists(x, y): \n",
    "    return Counter(x) == Counter(y) \n",
    "n1 = [20, 10, 30, 10, 20, 30] \n",
    "n2 = [30, 20, 10, 30, 20, 50] \n",
    "print(compare_lists(n1, n2))"
   ]
  },
  {
   "cell_type": "markdown",
   "metadata": {},
   "source": [
    "<b>Q41. Write the Python program to get an array buffer information?</b><br>\n",
    "&nbsp;&nbsp;Expected Output-<br>\n",
    "&nbsp;&nbsp;Array buffer start address in memory and number of elements. (25855056, 2)"
   ]
  },
  {
   "cell_type": "code",
   "execution_count": 26,
   "metadata": {},
   "outputs": [
    {
     "name": "stdout",
     "output_type": "stream",
     "text": [
      "Array buffer start address in memory and number of elements.\n",
      "(40070856, 2)\n"
     ]
    }
   ],
   "source": [
    "from array import array \n",
    "a = array(\"I\", (12,25))\n",
    "print(\"Array buffer start address in memory and number of elements.\") \n",
    "print(a.buffer_info())"
   ]
  },
  {
   "cell_type": "markdown",
   "metadata": {},
   "source": [
    "<b>Q42. Write the Python program to convert an array to an array of machine values and return the bytes representation?</b><br>\n",
    "&nbsp;&nbsp;Expected Output-<br>\n",
    "&nbsp;&nbsp;Original array- A1: array('i', [1, 2, 3, 4, 5, 6])<br>\n",
    "&nbsp;&nbsp;Array of bytes: b'010000000200000003000000040000000500000006000000'"
   ]
  },
  {
   "cell_type": "code",
   "execution_count": 30,
   "metadata": {},
   "outputs": [
    {
     "name": "stdout",
     "output_type": "stream",
     "text": [
      "Original array:\n",
      "A1: array('i', [1, 2, 3, 4, 5, 6])\n",
      "Array of bytes: b'010000000200000003000000040000000500000006000000'\n"
     ]
    }
   ],
   "source": [
    "import array \n",
    "import binascii \n",
    "a = array.array('i', [1,2,3,4,5,6]) \n",
    "print(\"Original array:\") \n",
    "print('A1:', a) \n",
    "bytes_array = a.tobytes() \n",
    "print('Array of bytes:', binascii.hexlify(bytes_array))"
   ]
  },
  {
   "cell_type": "markdown",
   "metadata": {},
   "source": [
    "<b>Q43. Write the Python program to read a string and interpreting the string as an array of machine values?</b>\n",
    "&nbsp;&nbsp;Expected Output-<br>\n",
    "&nbsp;&nbsp;array1- array('i', [7, 8, 9, 10])<br>\n",
    "&nbsp;&nbsp;Bytes- b'0700000008000000090000000a000000'<br>\n",
    "&nbsp;&nbsp;array2- array('i', [7, 8, 9, 10])"
   ]
  },
  {
   "cell_type": "code",
   "execution_count": 34,
   "metadata": {},
   "outputs": [
    {
     "name": "stdout",
     "output_type": "stream",
     "text": [
      "array1: array('i', [7, 8, 9, 10])\n",
      "Bytes: b'0700000008000000090000000a000000'\n",
      "array2: array('i', [7, 8, 9, 10])\n"
     ]
    }
   ],
   "source": [
    "from array import array \n",
    "import binascii \n",
    "array1 = array('i', [7, 8, 9, 10]) \n",
    "print('array1:', array1) \n",
    "as_bytes = array1.tobytes() \n",
    "print('Bytes:', binascii.hexlify(as_bytes)) \n",
    "array2 = array('i') \n",
    "array2.frombytes(as_bytes) \n",
    "print('array2:', array2)"
   ]
  },
  {
   "cell_type": "markdown",
   "metadata": {},
   "source": [
    "<b>Q44. Write the Python program to push three items into the heap and return the smallest item from the heap. Also, return and pop the smallest item from the heap?</b><br>\n",
    "&nbsp;&nbsp;Expected Output-<br>\n",
    "&nbsp;&nbsp;Items in the heap-<br>\n",
    "&nbsp;&nbsp;('VI', 1).<br>\n",
    "&nbsp;&nbsp;('VII', 3).<br>\n",
    "&nbsp;&nbsp;('VIII', 2).<br>\n",
    "&nbsp;&nbsp;----------------------<br>\n",
    "\n",
    "&nbsp;&nbsp;The smallest item in the heap:<br>\n",
    "&nbsp;&nbsp;('VI', 1).<br>\n",
    "\n",
    "&nbsp;&nbsp;----------------------<br>\n",
    "\n",
    "&nbsp;&nbsp;Pop the smallest item in the heap:<br>\n",
    "&nbsp;&nbsp;('VII', 2).<br>\n",
    "&nbsp;&nbsp;('VIII', 3)."
   ]
  },
  {
   "cell_type": "code",
   "execution_count": 38,
   "metadata": {},
   "outputs": [
    {
     "name": "stdout",
     "output_type": "stream",
     "text": [
      "Items in the heap:\n",
      "('V', 1)\n",
      "('V', 3)\n",
      "('V', 2)\n",
      "----------------------\n",
      "The smallest item in the heap:\n",
      "('V', 1)\n",
      "----------------------\n",
      "Pop the smallest item in the heap:\n",
      "('V', 2)\n",
      "('V', 3)\n"
     ]
    }
   ],
   "source": [
    "import heapq \n",
    "heap = [] \n",
    "heapq.heappush(heap, ('V', 3)) \n",
    "heapq.heappush(heap, ('V', 2)) \n",
    "heapq.heappush(heap, ('V', 1))\n",
    "print(\"Items in the heap:\") \n",
    "for a in heap: \n",
    "    print(a)\n",
    "print(\"----------------------\")\n",
    "print(\"The smallest item in the heap:\") \n",
    "print(heap[0])\n",
    "print(\"----------------------\")\n",
    "print(\"Pop the smallest item in the heap:\") \n",
    "heapq.heappop(heap) \n",
    "for a in heap: \n",
    "    print(a)"
   ]
  },
  {
   "cell_type": "markdown",
   "metadata": {},
   "source": [
    "<b>Q45. Write the Python program to locate the left insertion point for a specified value in sorted order?</b><br>\n",
    "&nbsp;&nbsp;Expected Output:<br>\n",
    "&nbsp;&nbsp;4<br>\n",
    "&nbsp;&nbsp;2"
   ]
  },
  {
   "cell_type": "code",
   "execution_count": 42,
   "metadata": {},
   "outputs": [
    {
     "name": "stdout",
     "output_type": "stream",
     "text": [
      "4\n",
      "2\n"
     ]
    }
   ],
   "source": [
    "import bisect \n",
    "def index(a, x): \n",
    "    i = bisect.bisect_left(a, x) \n",
    "    return i \n",
    "a = [1,2,4,5]\n",
    "print(index(a, 6)) \n",
    "print(index(a, 3))"
   ]
  },
  {
   "cell_type": "markdown",
   "metadata": {},
   "source": [
    "<b>Q46. Write the Python program to create the FIFO queue?</b><br>\n",
    "&nbsp;&nbsp;Expected Output:<br>\n",
    "&nbsp;&nbsp;0 1 2 3"
   ]
  },
  {
   "cell_type": "code",
   "execution_count": 47,
   "metadata": {},
   "outputs": [
    {
     "name": "stdout",
     "output_type": "stream",
     "text": [
      "0 1 2 3 \n",
      "\n"
     ]
    }
   ],
   "source": [
    "import queue \n",
    "q = queue.Queue() \n",
    "for x in range(4): \n",
    "    q.put(str(x))\n",
    "while not q.empty(): \n",
    "    print(q.get(), end=\" \") \n",
    "print(\"\\n\")"
   ]
  },
  {
   "cell_type": "markdown",
   "metadata": {},
   "source": [
    "<b>Q47. Write the Python program to calculate the harmonic sum of n-1. Note: The harmonic sum is the sum of reciprocals of the positive Integers?</b><br>\n"
   ]
  },
  {
   "cell_type": "code",
   "execution_count": 44,
   "metadata": {},
   "outputs": [
    {
     "name": "stdout",
     "output_type": "stream",
     "text": [
      "2.5928571428571425\n",
      "2.083333333333333\n"
     ]
    }
   ],
   "source": [
    "def harmonic_sum(n): \n",
    "    if n < 2: \n",
    "        return 1 \n",
    "    else: \n",
    "        return 1 / n + (harmonic_sum(n - 1)) \n",
    "print(harmonic_sum(7)) \n",
    "print(harmonic_sum(4))"
   ]
  },
  {
   "cell_type": "markdown",
   "metadata": {},
   "source": [
    "<b>Q48. Write the NumPy program to create a 2d array with 6 on the border and 0 inside?</b><br>\n",
    "&nbsp;&nbsp;Expected Output-<br>\n",
    "&nbsp;&nbsp;Original array-<br>\n",
    "&nbsp;&nbsp;[ [6 6 6 6 6]<br>\n",
    "&nbsp;&nbsp;[ 6 6 6 6 6]<br>\n",
    "&nbsp;&nbsp;[ 6 6 6 6 6 ]<br>\n",
    "&nbsp;&nbsp;[ 6 6 6 6 6 ]<br>\n",
    "&nbsp;&nbsp;[ 6 6 6 6 ] ].<br>\n",
    "\n",
    "&nbsp;&nbsp;6 on the border and 0 inside in the array-<br>\n",
    "&nbsp;&nbsp;[[ 6 6 6 6 6]<br>\n",
    "&nbsp;&nbsp;[ 6 0 0 0 6]<br>\n",
    "&nbsp;&nbsp;[ 6 0 0 0 6]<br>\n",
    "&nbsp;&nbsp;[ 6 0 0 0 6]<br>\n",
    "&nbsp;&nbsp;[ 6 6 6 6 6]]."
   ]
  },
  {
   "cell_type": "code",
   "execution_count": 48,
   "metadata": {},
   "outputs": [
    {
     "name": "stdout",
     "output_type": "stream",
     "text": [
      "Original array:\n",
      "[[1. 1. 1. 1. 1.]\n",
      " [1. 1. 1. 1. 1.]\n",
      " [1. 1. 1. 1. 1.]\n",
      " [1. 1. 1. 1. 1.]\n",
      " [1. 1. 1. 1. 1.]]\n",
      "1 on the border and 0 inside in the array\n",
      "[[1. 1. 1. 1. 1.]\n",
      " [1. 0. 0. 0. 1.]\n",
      " [1. 0. 0. 0. 1.]\n",
      " [1. 0. 0. 0. 1.]\n",
      " [1. 1. 1. 1. 1.]]\n"
     ]
    }
   ],
   "source": [
    "import numpy as np \n",
    "x = np.ones((5,5))\n",
    "print(\"Original array:\") \n",
    "print(x)\n",
    "print(\"1 on the border and 0 inside in the array\") \n",
    "x[1:-1,1:-1] = 0 \n",
    "print(x)"
   ]
  },
  {
   "cell_type": "markdown",
   "metadata": {},
   "source": [
    "<b>Q49. Write the NumPy program to create a 8x8 matrix and fill it with the checkerboard pattern?</b><br>\n",
    "&nbsp;&nbsp;Checkerboard pattern- <br>\n",
    "&nbsp;&nbsp;[[3 9 3 9 3 9 3 9]<br>\n",
    "&nbsp;&nbsp;[9 3 9 3 9 3 9 3]<br>\n",
    "&nbsp;&nbsp;[3 9 3 9 3 9 3 9]<br>\n",
    "&nbsp;&nbsp;[9 3 9 3 9 3 9 3]<br>\n",
    "&nbsp;&nbsp;[3 9 3 9 3 9 3 9]<br>\n",
    "&nbsp;&nbsp;[9 3 9 3 9 3 9 3]<br>\n",
    "&nbsp;&nbsp;[3 9 3 9 3 9 3 9]<br>\n",
    "&nbsp;&nbsp;[9 3 9 3 9 3 9 3]]."
   ]
  },
  {
   "cell_type": "code",
   "execution_count": 49,
   "metadata": {},
   "outputs": [
    {
     "name": "stdout",
     "output_type": "stream",
     "text": [
      "Checkerboard pattern:\n",
      "[[0 1 0 1 0 1 0 1]\n",
      " [1 0 1 0 1 0 1 0]\n",
      " [0 1 0 1 0 1 0 1]\n",
      " [1 0 1 0 1 0 1 0]\n",
      " [0 1 0 1 0 1 0 1]\n",
      " [1 0 1 0 1 0 1 0]\n",
      " [0 1 0 1 0 1 0 1]\n",
      " [1 0 1 0 1 0 1 0]]\n"
     ]
    }
   ],
   "source": [
    "import numpy as np \n",
    "x = np.ones((3,3)) \n",
    "print(\"Checkerboard pattern:\") \n",
    "x = np.zeros((8,8),dtype=int) \n",
    "x[1::2,::2] = 1 \n",
    "x[::2,1::2] = 1 \n",
    "print(x)"
   ]
  },
  {
   "cell_type": "markdown",
   "metadata": {},
   "source": [
    "<b>Q50. Write the NumPy program to create an empty and a full array.</b><br>\n",
    "&nbsp;&nbsp;Expected Output-<br>\n",
    "&nbsp;&nbsp;[[4.45057637e-308 1.78021527e-306 8.45549797e-307 1.37962049e-306]<br>\n",
    "&nbsp;&nbsp;[1.11260619e-306 1.78010255e-306 9.79054228e-307 4.45057637e-308]<br>\n",
    "&nbsp;&nbsp;[8.45596650e-307 9.34602321e-307 4.94065646e-322 0.00000000e+000]]<br>\n",
    "&nbsp;&nbsp;[[6 6 6]<br>\n",
    "&nbsp;&nbsp;[6 6 6]<br>\n",
    "&nbsp;&nbsp;[6 6 6]]"
   ]
  },
  {
   "cell_type": "code",
   "execution_count": 50,
   "metadata": {},
   "outputs": [
    {
     "name": "stdout",
     "output_type": "stream",
     "text": [
      "[[1.50664907e-312 0.00000000e+000 8.76794447e+252 2.15895723e+227]\n",
      " [6.48224638e+170 3.67145870e+228 1.17997027e-095 9.03292329e+271]\n",
      " [9.08366793e+223 1.41075687e+232 1.16070543e-028 4.05919345e-317]]\n",
      "[[6 6 6]\n",
      " [6 6 6]\n",
      " [6 6 6]]\n"
     ]
    }
   ],
   "source": [
    "import numpy as np\n",
    "x = np.empty((3,4)) \n",
    "print(x)\n",
    "y = np.full((3,3),6) \n",
    "print(y)"
   ]
  },
  {
   "cell_type": "markdown",
   "metadata": {},
   "source": [
    "<b>Q51. Write the NumPy program to convert the values of Centigrade degrees into the Fahrenheit degrees and the centigrade values are stored in the NumPy array.</b><br>\n",
    "&nbsp;&nbsp;Sample Array -[0, 12, 45.21 ,34, 99.91]<br>\n",
    "&nbsp;&nbsp;Expected Output-<br>\n",
    "&nbsp;&nbsp;Values in Fahrenheit degrees-<br>\n",
    "&nbsp;&nbsp;[ 0. 12. 45.21 34. 99.91]<br>\n",
    "&nbsp;&nbsp;Values in Centigrade degrees-<br>\n",
    "&nbsp;&nbsp;[-17.77777778 -11.11111111 7.33888889 1.11111111 37.72777778]"
   ]
  },
  {
   "cell_type": "code",
   "execution_count": 51,
   "metadata": {},
   "outputs": [
    {
     "name": "stdout",
     "output_type": "stream",
     "text": [
      "Values in Fahrenheit degrees:\n",
      "[ 0.   12.   45.21 34.   99.91]\n",
      "Values in Centigrade degrees:\n",
      "[-17.77777778 -11.11111111   7.33888889   1.11111111  37.72777778]\n"
     ]
    }
   ],
   "source": [
    "import numpy as np \n",
    "fvalues = [0, 12, 45.21, 34, 99.91] \n",
    "F = np.array(fvalues)\n",
    "print(\"Values in Fahrenheit degrees:\") \n",
    "print(F)\n",
    "print(\"Values in Centigrade degrees:\") \n",
    "print(5*F/9 - 5*32/9)"
   ]
  },
  {
   "cell_type": "markdown",
   "metadata": {},
   "source": [
    "<b>Q52. Write the NumPy program to find the real and imaginary parts of an array of complex numbers?</b><br>\n",
    "&nbsp;&nbsp;Expected Output-<br>\n",
    "&nbsp;&nbsp;Original array [ 1.00000000+0.j 0.70710678+0.70710678j]<br>\n",
    "&nbsp;&nbsp;Real part of the array-<br>\n",
    "&nbsp;&nbsp;[ 1. 0.70710678]<br>\n",
    "&nbsp;&nbsp;Imaginary part of the array-<br>\n",
    "&nbsp;&nbsp;[ 0. 0.70710678]"
   ]
  },
  {
   "cell_type": "code",
   "execution_count": 52,
   "metadata": {},
   "outputs": [
    {
     "name": "stdout",
     "output_type": "stream",
     "text": [
      "Original array:x  [1.+0.j]\n",
      "Original array:y  [0.70710678+0.70710678j]\n",
      "Real part of the array:\n",
      "[1.]\n",
      "[0.70710678]\n",
      "Imaginary part of the array:\n",
      "[0.]\n",
      "[0.70710678]\n"
     ]
    }
   ],
   "source": [
    "import numpy as np \n",
    "x = np.sqrt([1+0j]) \n",
    "y = np.sqrt([0+1j]) \n",
    "print(\"Original array:x \",x) \n",
    "print(\"Original array:y \",y)\n",
    "print(\"Real part of the array:\") \n",
    "print(x.real) \n",
    "print(y.real)\n",
    "print(\"Imaginary part of the array:\") \n",
    "print(x.imag) \n",
    "print(y.imag)"
   ]
  },
  {
   "cell_type": "markdown",
   "metadata": {},
   "source": [
    "<b>Q53. Write the NumPy program to test whether each element of a 1-D array is also present in the second array?</b><br>\n",
    "&nbsp;&nbsp;Expected Output-<br>\n",
    "&nbsp;&nbsp;Array1: [ 0 10 20 40 60]<br>\n",
    "&nbsp;&nbsp;Array2: [0, 40]<br>\n",
    "&nbsp;&nbsp;Compare each element of array1 and array2<br>\n",
    "&nbsp;&nbsp;[ True False False True False]"
   ]
  },
  {
   "cell_type": "code",
   "execution_count": 54,
   "metadata": {},
   "outputs": [
    {
     "name": "stdout",
     "output_type": "stream",
     "text": [
      "Array1:  [ 0 10 20 40 60]\n",
      "Array2:  [0, 40]\n",
      "Compare each element of array1 and array2\n",
      "[ True False False  True False]\n"
     ]
    }
   ],
   "source": [
    "import numpy as np \n",
    "array1 = np.array([0, 10, 20, 40, 60]) \n",
    "print(\"Array1: \",array1) \n",
    "array2 = [0, 40] \n",
    "print(\"Array2: \",array2)\n",
    "print(\"Compare each element of array1 and array2\") \n",
    "print(np.in1d(array1, array2))"
   ]
  },
  {
   "cell_type": "markdown",
   "metadata": {},
   "source": [
    "<b>Q54. Write the NumPy program to find common values between two arrays?</b><br>\n",
    "&nbsp;&nbsp;Expected Output-<br>\n",
    "&nbsp;&nbsp;Array1: [ 0 10 20 40 60]<br>\n",
    "&nbsp;&nbsp;Array2: [10, 30, 40]<br>\n",
    "&nbsp;&nbsp;Common values between two arrays-<br>\n",
    "&nbsp;&nbsp;[10 40]"
   ]
  },
  {
   "cell_type": "code",
   "execution_count": 55,
   "metadata": {},
   "outputs": [
    {
     "name": "stdout",
     "output_type": "stream",
     "text": [
      "Array1:  [ 0 10 20 40 60]\n",
      "Array2:  [10, 30, 40]\n",
      "Common values between two arrays:\n",
      "[10 40]\n"
     ]
    }
   ],
   "source": [
    "import numpy as np \n",
    "array1 = np.array([0, 10, 20, 40, 60]) \n",
    "print(\"Array1: \",array1) \n",
    "array2 = [10, 30, 40] \n",
    "print(\"Array2: \",array2)\n",
    "print(\"Common values between two arrays:\") \n",
    "print(np.intersect1d(array1, array2))"
   ]
  },
  {
   "cell_type": "markdown",
   "metadata": {},
   "source": [
    "<b>Q55. Write the NumPy program to get the unique elements of an array?</b><br>\n",
    "&nbsp;&nbsp;Expected Output-<br>\n",
    "&nbsp;&nbsp;Original array-<br>\n",
    "&nbsp;&nbsp;[10 10 20 20 30 30]<br>\n",
    "&nbsp;&nbsp;Unique elements of the above array-<br>\n",
    "&nbsp;&nbsp;[10 20 30]<br>\n",
    "\n",
    "&nbsp;&nbsp;Original array-<br>\n",
    "&nbsp;&nbsp;[[1 1]<br>\n",
    "&nbsp;&nbsp;[2 3]]<br>\n",
    "&nbsp;&nbsp;Unique elements of the above array-<br>\n",
    "&nbsp;&nbsp;[1 2 3]"
   ]
  },
  {
   "cell_type": "code",
   "execution_count": 56,
   "metadata": {},
   "outputs": [
    {
     "name": "stdout",
     "output_type": "stream",
     "text": [
      "Original array:\n",
      "[10 10 20 20 30 30]\n",
      "Unique elements of the above array:\n",
      "[10 20 30]\n",
      "Original array:\n",
      "[[1 1]\n",
      " [2 3]]\n",
      "Unique elements of the above array:\n",
      "[1 2 3]\n"
     ]
    }
   ],
   "source": [
    "import numpy as np\n",
    "x = np.array([10, 10, 20, 20, 30, 30])\n",
    "print(\"Original array:\") \n",
    "print(x)\n",
    "print(\"Unique elements of the above array:\") \n",
    "print(np.unique(x))\n",
    "x = np.array([[1, 1], [2, 3]])\n",
    "print(\"Original array:\") \n",
    "print(x)\n",
    "print(\"Unique elements of the above array:\") \n",
    "print(np.unique(x))"
   ]
  },
  {
   "cell_type": "markdown",
   "metadata": {},
   "source": [
    "<b>Q56. Write the NumPy program to find the set exclusive-or of two arrays. Set exclusive-or will return the sorted, unique values that are in only one (not both) of the input arrays?</b><br>\n",
    "&nbsp;&nbsp;Array1- [ 0 10 20 40 60 80]<br>\n",
    "&nbsp;&nbsp;Array2- [10, 30, 40, 50, 70]<br>\n",
    "&nbsp;&nbsp;Unique values that are in only one (not both) of the input arrays-<br>\n",
    "&nbsp;&nbsp;[ 0 20 30 50 60 70 80]"
   ]
  },
  {
   "cell_type": "code",
   "execution_count": 57,
   "metadata": {},
   "outputs": [
    {
     "name": "stdout",
     "output_type": "stream",
     "text": [
      "Array1:  [ 0 10 20 40 60 80]\n",
      "Array2:  [10, 30, 40, 50, 70]\n",
      "Unique values that are in only one (not both) of the input arrays:\n",
      "[ 0 20 30 50 60 70 80]\n"
     ]
    }
   ],
   "source": [
    "import numpy as np \n",
    "array1 = np.array([0, 10, 20, 40, 60, 80])\n",
    "print(\"Array1: \",array1) \n",
    "array2 = [10, 30, 40, 50, 70] \n",
    "print(\"Array2: \",array2)\n",
    "print(\"Unique values that are in only one (not both) of the input arrays:\") \n",
    "print(np.setxor1d(array1, array2))"
   ]
  },
  {
   "cell_type": "markdown",
   "metadata": {},
   "source": [
    "<b>Q57. Write the NumPy program to test if all elements in an array evaluate to True ?</b>"
   ]
  },
  {
   "cell_type": "code",
   "execution_count": 58,
   "metadata": {},
   "outputs": [
    {
     "name": "stdout",
     "output_type": "stream",
     "text": [
      "False\n",
      "True\n",
      "False\n",
      "True\n"
     ]
    }
   ],
   "source": [
    "import numpy as np \n",
    "print(np.all([[True,False],[True,True]])) \n",
    "print(np.all([[True,True],[True,True]])) \n",
    "print(np.all([10, 20, 0, -50])) \n",
    "print(np.all([10, 20, -50]))"
   ]
  },
  {
   "cell_type": "markdown",
   "metadata": {},
   "source": [
    "<b>Q58 Write the NumPy program to test whether any array element along the given axis evaluates to True?</b>"
   ]
  },
  {
   "cell_type": "code",
   "execution_count": 62,
   "metadata": {},
   "outputs": [
    {
     "name": "stdout",
     "output_type": "stream",
     "text": [
      "False\n",
      "True\n",
      "True\n",
      "True\n"
     ]
    }
   ],
   "source": [
    "import numpy as np \n",
    "print(np.any([[False,False],[False,False]])) \n",
    "print(np.any([[True,True],[True,True]])) \n",
    "print(np.any([10, 20, 0, -50]))\n",
    "print(np.any([10, 20, -50]))"
   ]
  },
  {
   "cell_type": "markdown",
   "metadata": {},
   "source": [
    "<b>Q59. Write the NumPy program to construct an array by repeating?</b><br>\n",
    "&nbsp;&nbsp;Sample array- [1, 2, 3, 4]<br>\n",
    "&nbsp;&nbsp;Expected Output-<br>\n",
    "&nbsp;&nbsp;Original array<br>\n",
    "&nbsp;&nbsp;[1, 2, 3, 4]<br>\n",
    "&nbsp;&nbsp;Repeating 2 times<br>\n",
    "&nbsp;&nbsp;[1 2 3 4 1 2 3 4]<br>\n",
    "&nbsp;&nbsp;Repeating 3 times<br>\n",
    "&nbsp;&nbsp;[1 2 3 4 1 2 3 4 1 2 3 4]"
   ]
  },
  {
   "cell_type": "code",
   "execution_count": 63,
   "metadata": {},
   "outputs": [
    {
     "name": "stdout",
     "output_type": "stream",
     "text": [
      "Original array\n",
      "[1, 2, 3, 4]\n",
      "Repeating 2 times\n",
      "[1 2 3 4 1 2 3 4]\n",
      "Repeating 3 times\n",
      "[1 2 3 4 1 2 3 4 1 2 3 4]\n"
     ]
    }
   ],
   "source": [
    "import numpy as np \n",
    "a = [1, 2, 3, 4]\n",
    "print(\"Original array\") \n",
    "print(a)\n",
    "print(\"Repeating 2 times\") \n",
    "x = np.tile(a, 2) \n",
    "print(x)\n",
    "print(\"Repeating 3 times\") \n",
    "x = np.tile(a, 3) \n",
    "print(x)"
   ]
  },
  {
   "cell_type": "markdown",
   "metadata": {},
   "source": [
    "<b>Q60. Write the NumPy program to find the indices of the maximum and minimum values with the given axis of an array?</b><br>\n",
    "&nbsp;&nbsp;Original array- [1 2 3 4 5 6]<br>\n",
    "&nbsp;&nbsp;Maximum Values- 5<br>\n",
    "&nbsp;&nbsp;Minimum Values- 0"
   ]
  },
  {
   "cell_type": "code",
   "execution_count": 59,
   "metadata": {},
   "outputs": [
    {
     "name": "stdout",
     "output_type": "stream",
     "text": [
      "Original array:  [1 2 3 4 5 6]\n",
      "Maximum Values:  5\n",
      "Minimum Values:  0\n"
     ]
    }
   ],
   "source": [
    "import numpy as np \n",
    "x = np.array([1, 2, 3, 4, 5, 6]) \n",
    "print(\"Original array: \",x) \n",
    "print(\"Maximum Values: \",np.argmax(x))\n",
    "print(\"Minimum Values: \",np.argmin(x))"
   ]
  },
  {
   "cell_type": "markdown",
   "metadata": {},
   "source": [
    "<b>Q61. Write the NumPy program compare two arrays using numpy?</b><br>\n",
    "&nbsp;&nbsp;Array a- [1 2]<br>\n",
    "&nbsp;&nbsp;Array b- [4 5]<br>\n",
    "&nbsp;&nbsp;a > b<br>\n",
    "&nbsp;&nbsp;[False False]<br>\n",
    "&nbsp;&nbsp;a >= b<br>\n",
    "&nbsp;&nbsp;[False False]<br>\n",
    "&nbsp;&nbsp;a < b<br>\n",
    "&nbsp;&nbsp;[ True True]<br>\n",
    "&nbsp;&nbsp;a <= b<br>\n",
    "&nbsp;&nbsp;[ True True]"
   ]
  },
  {
   "cell_type": "code",
   "execution_count": 64,
   "metadata": {},
   "outputs": [
    {
     "name": "stdout",
     "output_type": "stream",
     "text": [
      "Array a:  [1 2]\n",
      "Array b:  [4 5]\n",
      "a > b\n",
      "[False False]\n",
      "a >= b\n",
      "[False False]\n",
      "a < b\n",
      "[ True  True]\n",
      "a <= b\n",
      "[ True  True]\n"
     ]
    }
   ],
   "source": [
    "a = np.array([1, 2])\n",
    "b = np.array([4, 5]) \n",
    "print(\"Array a: \",a) \n",
    "print(\"Array b: \",b)\n",
    "print(\"a > b\") \n",
    "print(np.greater(a, b))\n",
    "print(\"a >= b\") \n",
    "print(np.greater_equal(a, b))\n",
    "print(\"a < b\") \n",
    "print(np.less(a, b))\n",
    "print(\"a <= b\") \n",
    "print(np.less_equal(a, b))"
   ]
  },
  {
   "cell_type": "markdown",
   "metadata": {},
   "source": [
    "<b>Q62. Write the NumPy program to sort an along the first, last axis of an array?</b><br>\n",
    "&nbsp;&nbsp;Sample array- [[2,5],[4,4]]<br>\n",
    "&nbsp;&nbsp;Expected Output-<br>\n",
    "&nbsp;&nbsp;Original array:<br>\n",
    "&nbsp;&nbsp;[[4 6]<br>\n",
    "&nbsp;&nbsp;[2 1]]<br>\n",
    "&nbsp;&nbsp;Sort along the first axis:<br>\n",
    "&nbsp;&nbsp;[[2 1]<br>\n",
    "&nbsp;&nbsp;[4 6]]<br>\n",
    "&nbsp;&nbsp;Sort along the last axis-<br>\n",
    "&nbsp;&nbsp;[[1 2]<br>\n",
    "&nbsp;&nbsp;[4 6]]"
   ]
  },
  {
   "cell_type": "code",
   "execution_count": 65,
   "metadata": {},
   "outputs": [
    {
     "name": "stdout",
     "output_type": "stream",
     "text": [
      "Original array: \n",
      "[[4 6]\n",
      " [2 1]]\n",
      "Sort along the first axis: \n",
      "[[2 1]\n",
      " [4 6]]\n",
      "Sort along the last axis: \n",
      "[[1 2]\n",
      " [4 6]]\n"
     ]
    }
   ],
   "source": [
    "a = np.array([[4, 6],[2, 1]]) \n",
    "print(\"Original array: \") \n",
    "print(a) \n",
    "print(\"Sort along the first axis: \") \n",
    "x = np.sort(a, axis=0) \n",
    "print(x) \n",
    "print(\"Sort along the last axis: \") \n",
    "y = np.sort(x, axis=1) \n",
    "print(y)"
   ]
  },
  {
   "cell_type": "markdown",
   "metadata": {},
   "source": [
    "<b>Q63. Write the NumPy program to sort pairs of first name and last name return their indices (first by last name, then by first name).</b><br>\n",
    "&nbsp;&nbsp;first_names - ( Betsey, Shelley, Lanell, Genesis, Margery )<br>\n",
    "&nbsp;&nbsp;last_names - ( Battle, Brien, Plotner, Stahl, Woolum )<br>\n",
    "&nbsp;&nbsp;Expected Output-<br>\n",
    "&nbsp;&nbsp;[1 3 2 4 0]"
   ]
  },
  {
   "cell_type": "code",
   "execution_count": 66,
   "metadata": {},
   "outputs": [
    {
     "name": "stdout",
     "output_type": "stream",
     "text": [
      "[1 3 2 4 0]\n"
     ]
    }
   ],
   "source": [
    "first_names = ('Margery', 'Betsey', 'Shelley', 'Lanell', 'Genesis')\n",
    "last_names = ('Woolum', 'Battle', 'Plotner', 'Brien', 'Stahl')\n",
    "x = np.lexsort((first_names, last_names)) \n",
    "print(x)"
   ]
  },
  {
   "cell_type": "markdown",
   "metadata": {},
   "source": [
    "<b>Q64. Write the NumPy program to get the values and indices of the elements that are bigger than 10 in the given array?</b><br>\n",
    "&nbsp;&nbsp;Original array-<br>\n",
    "&nbsp;&nbsp;[[ 0 10 20]<br>\n",
    "&nbsp;&nbsp;[20 30 40]]<br>\n",
    "&nbsp;&nbsp;Values bigger than 10 = [20 20 30 40]<br>\n",
    "&nbsp;&nbsp;Their indices are (array([0, 1, 1, 1]), array([2, 0, 1, 2]))"
   ]
  },
  {
   "cell_type": "code",
   "execution_count": 69,
   "metadata": {},
   "outputs": [
    {
     "name": "stdout",
     "output_type": "stream",
     "text": [
      "Original array: \n",
      "[[ 0 10 20]\n",
      " [20 30 40]]\n",
      "Values bigger than 10 = [20 20 30 40]\n",
      "Their indices are  (array([0, 1, 1, 1], dtype=int32), array([2, 0, 1, 2], dtype=int32))\n"
     ]
    }
   ],
   "source": [
    "x = np.array([[0, 10, 20], [20, 30, 40]])\n",
    "print(\"Original array: \") \n",
    "print(x) \n",
    "print(\"Values bigger than 10 =\", x[x>10]) \n",
    "print(\"Their indices are \", np.nonzero(x > 10))"
   ]
  },
  {
   "cell_type": "markdown",
   "metadata": {},
   "source": [
    "<b>Q65. Write the NumPy program to find the memory size of a NumPy array?</b><br>\n",
    "&nbsp;&nbsp;Expected Output-<br>\n",
    "&nbsp;&nbsp;128 bytes"
   ]
  },
  {
   "cell_type": "code",
   "execution_count": 68,
   "metadata": {},
   "outputs": [
    {
     "name": "stdout",
     "output_type": "stream",
     "text": [
      "128 bytes\n"
     ]
    }
   ],
   "source": [
    "n = np.zeros((4,4)) \n",
    "print(\"%d bytes\" % (n.size * n.itemsize))"
   ]
  },
  {
   "cell_type": "markdown",
   "metadata": {},
   "source": [
    " <b>Q66. Write the NumPy program to create an array of ones and an array of zeros?</b><br>\n",
    "&nbsp;&nbsp;Expected Output-<br>\n",
    "&nbsp;&nbsp;Create an array of zeros<br>\n",
    "&nbsp;&nbsp;Default type is float<br>\n",
    "&nbsp;&nbsp;[[ 0. 0.]]<br>\n",
    "&nbsp;&nbsp;Type changes to int<br>\n",
    "&nbsp;&nbsp;[[0 0]]<br>\n",
    "&nbsp;&nbsp;Create an array of ones<br>\n",
    "&nbsp;&nbsp;Default type is float<br>\n",
    "&nbsp;&nbsp;[[ 1. 1.]]<br>\n",
    "&nbsp;&nbsp;Type changes to int<br>\n",
    "&nbsp;&nbsp;[[1 1]]<br>"
   ]
  },
  {
   "cell_type": "code",
   "execution_count": 70,
   "metadata": {},
   "outputs": [
    {
     "name": "stdout",
     "output_type": "stream",
     "text": [
      "Create an array of zeros\n",
      "Default type is float\n",
      "[[0. 0.]]\n",
      "Type changes to int\n",
      "[[0 0]]\n",
      "Create an array of ones\n",
      "Default type is float\n",
      "[[1. 1.]]\n",
      "Type changes to int\n",
      "[[1 1]]\n"
     ]
    }
   ],
   "source": [
    "print(\"Create an array of zeros\")\n",
    "x = np.zeros((1,2))\n",
    "print(\"Default type is float\") \n",
    "print(x)\n",
    "print(\"Type changes to int\") \n",
    "x = np.zeros((1,2), dtype = np.int) \n",
    "print(x)\n",
    "print(\"Create an array of ones\") \n",
    "y= np.ones((1,2))\n",
    "print(\"Default type is float\") \n",
    "print(y)\n",
    "print(\"Type changes to int\") \n",
    "y = np.ones((1,2), dtype = np.int) \n",
    "print(y)"
   ]
  },
  {
   "cell_type": "markdown",
   "metadata": {},
   "source": [
    "<b>Q67. Write the NumPy program to change the dimension of an array?</b><br>\n",
    "&nbsp;&nbsp;Expected Output-<br>\n",
    "&nbsp;&nbsp;6 rows and 0 columns<br>\n",
    "&nbsp;&nbsp;(6,)<br>\n",
    "&nbsp;&nbsp;(3, 3) -> 3 rows and 3 columns<br>\n",
    "&nbsp;&nbsp;[[1 2 3]<br>\n",
    "&nbsp;&nbsp;[4 5 6]<br>\n",
    "&nbsp;&nbsp;[7 8 9]]<br>\n",
    "&nbsp;&nbsp;Change array shape to (3, 3) -> 3 rows and 3 columns<br>\n",
    "&nbsp;&nbsp;[[1 2 3]<br>\n",
    "&nbsp;&nbsp;[4 5 6]<br>\n",
    "&nbsp;&nbsp;[7 8 9]]<br>"
   ]
  },
  {
   "cell_type": "code",
   "execution_count": 71,
   "metadata": {},
   "outputs": [
    {
     "name": "stdout",
     "output_type": "stream",
     "text": [
      "6 rows and 0 columns\n",
      "(6,)\n",
      "(3, 3) -> 3 rows and 3 columns \n",
      "[[1 2 3]\n",
      " [4 5 6]\n",
      " [7 8 9]]\n",
      "Change array shape to (3, 3) -> 3 rows and 3 columns \n",
      "[[1 2 3]\n",
      " [4 5 6]\n",
      " [7 8 9]]\n"
     ]
    }
   ],
   "source": [
    "x = np.array([1, 2, 3, 4, 5, 6])\n",
    "print(\"6 rows and 0 columns\") \n",
    "print(x.shape)\n",
    "y = np.array([[1, 2, 3],[4, 5, 6],[7,8,9]])\n",
    "print(\"(3, 3) -> 3 rows and 3 columns \") \n",
    "print(y)\n",
    "x = np.array([1,2,3,4,5,6,7,8,9])\n",
    "print(\"Change array shape to (3, 3) -> 3 rows and 3 columns \")\n",
    "x.shape = (3, 3) \n",
    "print(x)"
   ]
  },
  {
   "cell_type": "markdown",
   "metadata": {},
   "source": [
    "<b>Q68. Write the NumPy program to create a new shape to an array without changing its data ?</b><br>\n",
    "&nbsp;&nbsp;Reshape 3x2-<br>\n",
    "&nbsp;&nbsp;[[1 2]<br>\n",
    "&nbsp;&nbsp;[3 4]<br>\n",
    "&nbsp;&nbsp;[5 6]]<br>\n",
    "&nbsp;&nbsp;Reshape 2x3-<br>\n",
    "&nbsp;&nbsp;[[1 2 3]<br>\n",
    "&nbsp;&nbsp;[4 5 6]]<br>"
   ]
  },
  {
   "cell_type": "code",
   "execution_count": 72,
   "metadata": {},
   "outputs": [
    {
     "name": "stdout",
     "output_type": "stream",
     "text": [
      "Reshape 3x2:\n",
      "[[1 2]\n",
      " [3 4]\n",
      " [5 6]]\n",
      "Reshape 2x3:\n",
      "[[1 2 3]\n",
      " [4 5 6]]\n"
     ]
    }
   ],
   "source": [
    "x = np.array([1, 2, 3, 4, 5, 6]) \n",
    "y = np.reshape(x,(3,2))\n",
    "print(\"Reshape 3x2:\") \n",
    "print(y) \n",
    "z = np.reshape(x,(2,3))\n",
    "print(\"Reshape 2x3:\")\n",
    "print(z)"
   ]
  },
  {
   "cell_type": "markdown",
   "metadata": {},
   "source": [
    "<b>Q69. Write the NumPy program to create a new array of 3*5, filled with 2?</b><br>\n",
    "&nbsp;&nbsp;Expected Output-<br>\n",
    "&nbsp;&nbsp;[[2 2 2 2 2]<br>\n",
    "&nbsp;&nbsp;[2 2 2 2 2]<br>\n",
    "&nbsp;&nbsp;[2 2 2 2 2]]<br>\n",
    "&nbsp;&nbsp;[[2 2 2 2 2]<br>\n",
    "&nbsp;&nbsp;[2 2 2 2 2]<br>\n",
    "&nbsp;&nbsp;[2 2 2 2 2]]"
   ]
  },
  {
   "cell_type": "code",
   "execution_count": 74,
   "metadata": {},
   "outputs": [
    {
     "name": "stdout",
     "output_type": "stream",
     "text": [
      "[[2 2 2 2 2]\n",
      " [2 2 2 2 2]\n",
      " [2 2 2 2 2]]\n",
      "[[2 2 2 2 2]\n",
      " [2 2 2 2 2]\n",
      " [2 2 2 2 2]]\n"
     ]
    }
   ],
   "source": [
    "x = np.full((3, 5), 2, dtype=np.uint) \n",
    "print(x) \n",
    "y = np.ones([3, 5], dtype=np.uint) *2 \n",
    "print(y)"
   ]
  },
  {
   "cell_type": "markdown",
   "metadata": {},
   "source": [
    "<b>Q70. Write the NumPy program to create a 3-D array with ones on a diagonal and zeros elsewhere?</b><br>\n",
    "&nbsp;&nbsp;Expected Output-<br>\n",
    "&nbsp;&nbsp;[[ 1. 0. 0.]<br>\n",
    "&nbsp;&nbsp;[ 0. 1. 0.]<br>\n",
    "&nbsp;&nbsp;[ 0. 0. 1.]]"
   ]
  },
  {
   "cell_type": "code",
   "execution_count": 75,
   "metadata": {},
   "outputs": [
    {
     "name": "stdout",
     "output_type": "stream",
     "text": [
      "[[1. 0. 0.]\n",
      " [0. 1. 0.]\n",
      " [0. 0. 1.]]\n"
     ]
    }
   ],
   "source": [
    "x = np.eye(3) \n",
    "print(x)"
   ]
  },
  {
   "cell_type": "markdown",
   "metadata": {},
   "source": [
    "<b>Q71. Write the NumPy program to split an array of 14 elements into the 3 arrays and each of which has 2, 4, and 8 elements in original order?</b><br>\n",
    "&nbsp;&nbsp;Expected Output-<br>\n",
    "&nbsp;&nbsp;Original array- [ 1 2 3 4 5 6 7 8 9 10 11 12 13 14]<br>\n",
    "&nbsp;&nbsp;After splitting-<br>\n",
    "&nbsp;&nbsp;[array([1, 2]), array([3, 4, 5, 6]), array([ 7, 8, 9, 10, 11, 12, 13, 14])]"
   ]
  },
  {
   "cell_type": "code",
   "execution_count": 76,
   "metadata": {},
   "outputs": [
    {
     "name": "stdout",
     "output_type": "stream",
     "text": [
      "Original array: [ 1  2  3  4  5  6  7  8  9 10 11 12 13 14]\n",
      "After splitting:\n",
      "[array([1, 2]), array([3, 4, 5, 6]), array([ 7,  8,  9, 10, 11, 12, 13, 14])]\n"
     ]
    }
   ],
   "source": [
    "x = np.arange(1, 15)\n",
    "print(\"Original array:\",x)\n",
    "print(\"After splitting:\") \n",
    "print(np.split(x, [2, 6]))"
   ]
  },
  {
   "cell_type": "markdown",
   "metadata": {},
   "source": [
    "<b>Q72. Write the NumPy program to split of an array of shape 4x4 it into two arrays along the second axis ?</b><br>\n",
    "&nbsp;&nbsp;Sample array -<br>\n",
    "&nbsp;&nbsp;[[ 0 1 2 3]<br>\n",
    "&nbsp;&nbsp;[ 4 5 6 7]<br>\n",
    "&nbsp;&nbsp;[ 8 9 10 11]<br>\n",
    "&nbsp;&nbsp;[12 13 14 15]]<br>\n",
    "&nbsp;&nbsp;Expected Output-<br>\n",
    "&nbsp;&nbsp;[array([[ 0, 1],<br>\n",
    "&nbsp;&nbsp;[ 4, 5],<br>\n",
    "&nbsp;&nbsp;[ 8, 9],<br>\n",
    "&nbsp;&nbsp;[12, 13]]), array([[ 2, 3],<br>\n",
    "&nbsp;&nbsp;[ 6, 7],<br>\n",
    "&nbsp;&nbsp;[10, 11],<br>\n",
    "&nbsp;&nbsp;[14, 15]]), array([], shape=(4, 0), dtype=int64)]"
   ]
  },
  {
   "cell_type": "code",
   "execution_count": 77,
   "metadata": {},
   "outputs": [
    {
     "name": "stdout",
     "output_type": "stream",
     "text": [
      "Original array: [[ 0  1  2  3]\n",
      " [ 4  5  6  7]\n",
      " [ 8  9 10 11]\n",
      " [12 13 14 15]]\n",
      "After splitting horizontally:\n",
      "[array([[ 0,  1],\n",
      "       [ 4,  5],\n",
      "       [ 8,  9],\n",
      "       [12, 13]]), array([[ 2,  3],\n",
      "       [ 6,  7],\n",
      "       [10, 11],\n",
      "       [14, 15]]), array([], shape=(4, 0), dtype=int32)]\n"
     ]
    }
   ],
   "source": [
    "x = np.arange(16).reshape((4, 4)) \n",
    "print(\"Original array:\",x)\n",
    "print(\"After splitting horizontally:\") \n",
    "print(np.hsplit(x, [2, 6]))"
   ]
  },
  {
   "cell_type": "markdown",
   "metadata": {},
   "source": [
    "<b>Q73. Write the NumPy program to create a 5x5 matrix with row values ranging from 0 to 4?</b><br>\n",
    "&nbsp;&nbsp;Original array-<br>\n",
    "&nbsp;&nbsp;[[ 0. 0. 0. 0. 0.]<br>\n",
    "&nbsp;&nbsp;[ 0. 0. 0. 0. 0.]<br>\n",
    "&nbsp;&nbsp;[ 0. 0. 0. 0. 0.]<br>\n",
    "&nbsp;&nbsp;[ 0. 0. 0. 0. 0.]<br>\n",
    "&nbsp;&nbsp;[ 0. 0. 0. 0. 0.]]<br>\n",
    "&nbsp;&nbsp;Row values ranging from 0 to 4.<br>\n",
    "&nbsp;&nbsp;[[ 0. 1. 2. 3. 4.]<br>\n",
    "&nbsp;&nbsp;[ 0. 1. 2. 3. 4.]<br>\n",
    "&nbsp;&nbsp;[ 0. 1. 2. 3. 4.]<br>\n",
    "&nbsp;&nbsp;[ 0. 1. 2. 3. 4.]<br>\n",
    "&nbsp;&nbsp;[ 0. 1. 2. 3. 4.]]<br>"
   ]
  },
  {
   "cell_type": "code",
   "execution_count": 79,
   "metadata": {},
   "outputs": [
    {
     "name": "stdout",
     "output_type": "stream",
     "text": [
      "Original array:\n",
      "[[0. 0. 0. 0. 0.]\n",
      " [0. 0. 0. 0. 0.]\n",
      " [0. 0. 0. 0. 0.]\n",
      " [0. 0. 0. 0. 0.]\n",
      " [0. 0. 0. 0. 0.]]\n",
      "Row values ranging from 0 to 4.\n",
      "[[0. 1. 2. 3. 4.]\n",
      " [0. 1. 2. 3. 4.]\n",
      " [0. 1. 2. 3. 4.]\n",
      " [0. 1. 2. 3. 4.]\n",
      " [0. 1. 2. 3. 4.]]\n"
     ]
    }
   ],
   "source": [
    "x = np.zeros((5,5))\n",
    "print(\"Original array:\") \n",
    "print(x)\n",
    "print(\"Row values ranging from 0 to 4.\") \n",
    "x += np.arange(5) \n",
    "print(x)"
   ]
  },
  {
   "cell_type": "markdown",
   "metadata": {},
   "source": [
    "<b>Q74. Write the NumPy program to create an array of zeros and three column types (integer, float, character)?</b><br>\n",
    "&nbsp;&nbsp;Expected Output-<br>\n",
    "&nbsp;&nbsp;[(1, 2., b'Albert Einstein') (2, 2., b'Edmond Halley')<br>\n",
    "&nbsp;&nbsp;(3, 3., b'Gertrude B. Elion')]"
   ]
  },
  {
   "cell_type": "code",
   "execution_count": 80,
   "metadata": {},
   "outputs": [
    {
     "name": "stdout",
     "output_type": "stream",
     "text": [
      "[(1, 2., b'Albert Einstein') (2, 2., b'Edmond Halley')\n",
      " (3, 3., b'Gertrude B. Elion')]\n"
     ]
    }
   ],
   "source": [
    "x = np.zeros((3,), dtype=('i4,f4,a40')) \n",
    "new_data = [(1, 2., \"Albert Einstein\"), (2, 2., \"Edmond Halley\"), (3, 3., \"Gertrude B. Elion\")] \n",
    "x[:] = new_data \n",
    "print(x)"
   ]
  },
  {
   "cell_type": "markdown",
   "metadata": {},
   "source": [
    "<b>Q75. Write the NumPy program to remove the negative values in the numpy array with 0?</b><br>\n",
    "&nbsp;&nbsp;Expected Output-<br>\n",
    "&nbsp;&nbsp;Original array:<br>\n",
    "&nbsp;&nbsp;[-1 -4 0 2 3 4 5 -6]<br>\n",
    "&nbsp;&nbsp;Replace the negative values of the said array with 0-<br>\n",
    "&nbsp;&nbsp;[0 0 0 2 3 4 5 0]<br>"
   ]
  },
  {
   "cell_type": "code",
   "execution_count": 82,
   "metadata": {},
   "outputs": [
    {
     "name": "stdout",
     "output_type": "stream",
     "text": [
      "Original array:\n",
      "[-1 -4  0  2  3  4  5 -6]\n",
      "Replace the negative values of the said array with 0:\n",
      "[0 0 0 2 3 4 5 0]\n"
     ]
    }
   ],
   "source": [
    "x = np.array([-1, -4, 0, 2, 3, 4, 5, -6])\n",
    "print(\"Original array:\") \n",
    "print(x)\n",
    "print(\"Replace the negative values of the said array with 0:\") \n",
    "x[x < 0] = 0 \n",
    "print(x)"
   ]
  },
  {
   "cell_type": "markdown",
   "metadata": {},
   "source": [
    "<b>Q76. Write the NumPy program to compute the histogram of a set of data?</b>"
   ]
  },
  {
   "cell_type": "code",
   "execution_count": 84,
   "metadata": {},
   "outputs": [
    {
     "data": {
      "image/png": "[encoded data removed]",
      "text/plain": [
       "<Figure size 432x288 with 1 Axes>"
      ]
     },
     "metadata": {
      "needs_background": "light"
     },
     "output_type": "display_data"
    }
   ],
   "source": [
    "import matplotlib.pyplot as plt\n",
    "%matplotlib inline\n",
    "plt.hist([1, 2, 1], bins=[0, 1, 2, 3, 5]) \n",
    "plt.show()"
   ]
  },
  {
   "cell_type": "markdown",
   "metadata": {},
   "source": [
    "<b>Q77. Write the NumPy program to compute the line graph of a set of data?</b>"
   ]
  },
  {
   "cell_type": "code",
   "execution_count": 85,
   "metadata": {},
   "outputs": [
    {
     "name": "stderr",
     "output_type": "stream",
     "text": [
      "C:\\Users\\Sammy\\Anaconda3\\lib\\site-packages\\matplotlib\\figure.py:457: UserWarning: matplotlib is currently using a non-GUI backend, so cannot show the figure\n",
      "  \"matplotlib is currently using a non-GUI backend, \"\n"
     ]
    },
    {
     "data": {
      "image/png": "[encoded data removed]",
      "text/plain": [
       "<Figure size 432x288 with 1 Axes>"
      ]
     },
     "metadata": {
      "needs_background": "light"
     },
     "output_type": "display_data"
    }
   ],
   "source": [
    "arr = np.random.randint(1, 50, 10) \n",
    "y, x = np.histogram(arr, bins=np.arange(51)) \n",
    "fig, ax = plt.subplots() \n",
    "ax.plot(x[:-1], y) \n",
    "fig.show()"
   ]
  },
  {
   "cell_type": "markdown",
   "metadata": {},
   "source": [
    "<b>Q78. Write the NumPy program to extracts all the elements from second row from given (4x4) array?</b><br>\n",
    "&nbsp;&nbsp;Sample Output-<br>\n",
    "&nbsp;&nbsp;Original array-<br>\n",
    "&nbsp;&nbsp;[[ 0 1 2 3]<br>\n",
    "&nbsp;&nbsp;[ 4 5 6 7]<br>\n",
    "&nbsp;&nbsp;[ 8 9 10 11]<br>\n",
    "&nbsp;&nbsp;[12 13 14 15]]<br>\n",
    "&nbsp;&nbsp;Extracted data- Second row<br>\n",
    "&nbsp;&nbsp;[4 5 6 7]"
   ]
  },
  {
   "cell_type": "code",
   "execution_count": 86,
   "metadata": {},
   "outputs": [
    {
     "name": "stdout",
     "output_type": "stream",
     "text": [
      "Original array:\n",
      "[[ 0  1  2  3]\n",
      " [ 4  5  6  7]\n",
      " [ 8  9 10 11]\n",
      " [12 13 14 15]]\n",
      "\n",
      "Extracted data: Second row\n",
      "[4 5 6 7]\n"
     ]
    }
   ],
   "source": [
    "arra_data = np.arange(0,16).reshape((4, 4))\n",
    "print(\"Original array:\") \n",
    "print(arra_data)\n",
    "print(\"\\nExtracted data: Second row\")\n",
    "print(arra_data[1,:])"
   ]
  },
  {
   "cell_type": "markdown",
   "metadata": {},
   "source": [
    "<b>Q79. Write the NumPy program to extract first element of the second row and fourth element of fourth row from a given (4x4) array?</b><br>\n",
    "&nbsp;&nbsp;Sample Output-<br>\n",
    "&nbsp;&nbsp;Original array-<br>\n",
    "&nbsp;&nbsp;[[ 0 1 2 3]<br>\n",
    "&nbsp;&nbsp;[ 4 5 6 7]<br>\n",
    "&nbsp;&nbsp;[ 8 9 10 11]<br>\n",
    "&nbsp;&nbsp;[12 13 14 15]]<br>\n",
    "&nbsp;&nbsp;Extracted data- First element of the second row and fourth element of fourth row<br>\n",
    "&nbsp;&nbsp;[ 4 15]"
   ]
  },
  {
   "cell_type": "code",
   "execution_count": 87,
   "metadata": {},
   "outputs": [
    {
     "name": "stdout",
     "output_type": "stream",
     "text": [
      "Original array:\n",
      "[[ 0  1  2  3]\n",
      " [ 4  5  6  7]\n",
      " [ 8  9 10 11]\n",
      " [12 13 14 15]]\n",
      "\n",
      "Extracted data: First element of the second row and fourth element of fourth row \n",
      "[ 4 15]\n"
     ]
    }
   ],
   "source": [
    "arra_data = np.arange(0,16).reshape((4, 4))\n",
    "print(\"Original array:\") \n",
    "print(arra_data)\n",
    "print(\"\\nExtracted data: First element of the second row and fourth element of fourth row \") \n",
    "print(arra_data[[1,3], [0,3]])"
   ]
  },
  {
   "cell_type": "markdown",
   "metadata": {},
   "source": [
    "<b>Q80. Write the NumPy program to add two arrays A and B of sizes (3,3) and (,3)?</b><br>\n",
    "&nbsp;&nbsp;Sample Output-<br>\n",
    "&nbsp;&nbsp;Original array-<br>\n",
    "&nbsp;&nbsp;Array-1<br>\n",
    "&nbsp;&nbsp;[[1 1 1]<br>\n",
    "&nbsp;&nbsp;[1 1 1]<br>\n",
    "&nbsp;&nbsp;[1 1 1]]<br>\n",
    "&nbsp;&nbsp;Array-2<br>\n",
    "&nbsp;&nbsp;[0 1 2]<br>\n",
    "&nbsp;&nbsp;A + B:<br>\n",
    "&nbsp;&nbsp;[[1 2 3]<br>\n",
    "&nbsp;&nbsp;[1 2 3]<br>\n",
    "&nbsp;&nbsp;[1 2 3]]"
   ]
  },
  {
   "cell_type": "code",
   "execution_count": 89,
   "metadata": {},
   "outputs": [
    {
     "name": "stdout",
     "output_type": "stream",
     "text": [
      "Original array:\n",
      "Array-1\n",
      "[[1. 1. 1.]\n",
      " [1. 1. 1.]\n",
      " [1. 1. 1.]]\n",
      "Array-2\n",
      "[0 1 2]\n",
      "A + B:\n",
      "[[1. 2. 3.]\n",
      " [1. 2. 3.]\n",
      " [1. 2. 3.]]\n"
     ]
    }
   ],
   "source": [
    "A = np.ones((3,3)) \n",
    "B = np.arange(3)\n",
    "print(\"Original array:\")\n",
    "print(\"Array-1\") \n",
    "print(A)\n",
    "print(\"Array-2\")\n",
    "print(B)\n",
    "print(\"A + B:\") \n",
    "new_array = A + B \n",
    "print(new_array)"
   ]
  },
  {
   "cell_type": "markdown",
   "metadata": {},
   "source": [
    "<b>Q81. Write the NumPy program to copy data from a given array to another array?</b><br>\n",
    "&nbsp;&nbsp;Sample Output-<br>\n",
    "&nbsp;&nbsp;Original array-<br>\n",
    "&nbsp;&nbsp;[24 27 30 29 18 14]<br>\n",
    "&nbsp;&nbsp;Copy of the said array-<br>\n",
    "&nbsp;&nbsp;[24 27 30 29 18 14]"
   ]
  },
  {
   "cell_type": "code",
   "execution_count": 92,
   "metadata": {},
   "outputs": [
    {
     "name": "stdout",
     "output_type": "stream",
     "text": [
      "Original array:\n",
      "[24 27 30 29 18 14]\n",
      "\n",
      "Copy of the said array:\n",
      "[24 27 30 29 18 14]\n"
     ]
    }
   ],
   "source": [
    "x = np.array([24, 27, 30, 29, 18, 14])\n",
    "print(\"Original array:\") \n",
    "print(x) \n",
    "y = np.empty_like (x) \n",
    "y[:] = x\n",
    "print(\"\\nCopy of the said array:\") \n",
    "print(y)"
   ]
  },
  {
   "cell_type": "markdown",
   "metadata": {},
   "source": [
    "<b>Q82. Write the NumPy program to calculate the sum of all columns of the 2D numpy array?</b><br>\n",
    "&nbsp;&nbsp;Sample Output-<br>\n",
    "&nbsp;&nbsp;Original array-<br>\n",
    "&nbsp;&nbsp;[[ 0 1 2 3 4 5 6 7 8]<br>\n",
    "&nbsp;&nbsp;[ 9 10 11 12 13 14 15 16 17]<br>\n",
    "&nbsp;&nbsp;[18 19 20 21 22 23 24 25 26]<br>\n",
    "&nbsp;&nbsp;[27 28 29 30 31 32 33 34 35]]<br>\n",
    "&nbsp;&nbsp;Sum of all columns-<br>\n",
    "&nbsp;&nbsp;[54 58 62 66 70 74 78 82 86]"
   ]
  },
  {
   "cell_type": "code",
   "execution_count": 94,
   "metadata": {},
   "outputs": [
    {
     "name": "stdout",
     "output_type": "stream",
     "text": [
      "Original array:\n",
      "[[ 0  1  2  3  4  5  6  7  8]\n",
      " [ 9 10 11 12 13 14 15 16 17]\n",
      " [18 19 20 21 22 23 24 25 26]\n",
      " [27 28 29 30 31 32 33 34 35]]\n",
      "\n",
      "Sum of all columns:\n",
      "[54 58 62 66 70 74 78 82 86]\n"
     ]
    }
   ],
   "source": [
    "num = np.arange(36) \n",
    "arr1 = np.reshape(num, [4, 9]) \n",
    "print(\"Original array:\") \n",
    "print(arr1) \n",
    "result = arr1.sum(axis=0) \n",
    "print(\"\\nSum of all columns:\") \n",
    "print(result)"
   ]
  },
  {
   "cell_type": "markdown",
   "metadata": {},
   "source": [
    "<b>Q83. Write the NumPy program to calculate averages without NaNs along the given array?</b><br>\n",
    "&nbsp;&nbsp;Sample Output-<br>\n",
    "&nbsp;&nbsp;Original array-<br>\n",
    "&nbsp;&nbsp;[[10. 20. 30.]<br>\n",
    "&nbsp;&nbsp;[40. 50. nan]<br>\n",
    "&nbsp;&nbsp;[nan 6. nan]<br>\n",
    "&nbsp;&nbsp;[nan nan nan]]<br>\n",
    "&nbsp;&nbsp;Averages without NaNs along the said array-<br>\n",
    "&nbsp;&nbsp;[20. 45. 6. nan]"
   ]
  },
  {
   "cell_type": "code",
   "execution_count": 95,
   "metadata": {},
   "outputs": [
    {
     "name": "stdout",
     "output_type": "stream",
     "text": [
      "Original array:\n",
      "[[10. 20. 30.]\n",
      " [40. 50. nan]\n",
      " [nan  6. nan]\n",
      " [nan nan nan]]\n",
      "Averages without NaNs along the said array:\n",
      "[20. 45.  6. nan]\n"
     ]
    }
   ],
   "source": [
    "arr1 = np.array([[10, 20 ,30], [40, 50, np.nan], [np.nan, 6, np.nan], [np.nan, np.nan, np.nan]])\n",
    "print(\"Original array:\")\n",
    "print(arr1) \n",
    "temp = np.ma.masked_array(arr1,np.isnan(arr1)) \n",
    "result = np.mean(temp, axis=1)\n",
    "print(\"Averages without NaNs along the said array:\") \n",
    "print(result.filled(np.nan))"
   ]
  },
  {
   "cell_type": "markdown",
   "metadata": {},
   "source": [
    "<b>Q84. Create two arrays of six elements. Write the NumPy program to count the number of instances of a value occurring in one array on the condition of another array.</b><br>\n",
    "&nbsp;&nbsp;Sample Output-<br>\n",
    "&nbsp;&nbsp;Original arrays- [ 10 -10 10 -10 -10 10]<br>\n",
    "&nbsp;&nbsp;[0.85 0.45 0.9 0.8 0.12 0.6 ]<br>\n",
    "&nbsp;&nbsp;Number of instances of a value occurring in one array on the condition of another array: 3<br>"
   ]
  },
  {
   "cell_type": "code",
   "execution_count": 97,
   "metadata": {},
   "outputs": [
    {
     "name": "stdout",
     "output_type": "stream",
     "text": [
      "Original arrays:\n",
      "[ 10 -10  10 -10 -10  10]\n",
      "[0.85 0.45 0.9  0.8  0.12 0.6 ]\n",
      "\n",
      "Number of instances of a value occurring in one aray on the condition of another array:\n",
      "3\n"
     ]
    }
   ],
   "source": [
    "x = np.array([10,-10,10,-10,-10,10]) \n",
    "y = np.array([.85,.45,.9,.8,.12,.6]) \n",
    "print(\"Original arrays:\") \n",
    "print(x) \n",
    "print(y) \n",
    "result = np.sum((x == 10) & (y > .5)) \n",
    "print(\"\\nNumber of instances of a value occurring in one aray on the condition of another array:\") \n",
    "print(result)"
   ]
  },
  {
   "cell_type": "markdown",
   "metadata": {},
   "source": [
    "<b>Q85. Write the NumPy program to convert a Python dictionary to a Numpy ndarray ?</b>\n",
    "&nbsp;&nbsp;Original dictionary-<br>\n",
    "&nbsp;&nbsp;{'column0': {'a': 1, 'b': 0.0, 'c': 0.0, 'd': 2.0},<br>\n",
    "&nbsp;&nbsp;'column1': {'a': 3.0, 'b': 1, 'c': 0.0, 'd': -1.0},<br>\n",
    "&nbsp;&nbsp;'column2': {'a': 4, 'b': 1, 'c': 5.0, 'd': -1.0},<br>\n",
    "&nbsp;&nbsp;'column3': {'a': 3.0, 'b': -1.0, 'c': -1.0, 'd': -1.0}}<br>\n",
    "&nbsp;&nbsp;Type: <class 'dict'><br>\n",
    "&nbsp;&nbsp;ndarray-<br>\n",
    "&nbsp;&nbsp;[[ 1. 0. 0. 2.]<br>\n",
    "&nbsp;&nbsp;[ 3. 1. 0. -1.]<br>\n",
    "&nbsp;&nbsp;[ 4. 1. 5. -1.]<br>\n",
    "&nbsp;&nbsp;[ 3. -1. -1. -1.]]<br>"
   ]
  },
  {
   "cell_type": "code",
   "execution_count": 101,
   "metadata": {},
   "outputs": [
    {
     "name": "stdout",
     "output_type": "stream",
     "text": [
      "\n",
      "Original dictionary:\n",
      "{'column0': {'a': 1, 'b': 0.0, 'c': 0.0, 'd': 2.0}, 'column1': {'a': 3.0, 'b': 1, 'c': 0.0, 'd': -1.0}, 'column2': {'a': 4, 'b': 1, 'c': 5.0, 'd': -1.0}, 'column3': {'a': 3.0, 'b': -1.0, 'c': -1.0, 'd': -1.0}}\n",
      "Type:  <class 'dict'>\n",
      "\n",
      "ndarray:\n",
      "[[ 1.  0.  0.  2.]\n",
      " [ 3.  1.  0. -1.]\n",
      " [ 4.  1.  5. -1.]\n",
      " [ 3. -1. -1. -1.]]\n",
      "Type:  <class 'numpy.ndarray'>\n"
     ]
    }
   ],
   "source": [
    "from ast import literal_eval \n",
    "udict = \"\"\"{\"column0\":{\"a\":1,\"b\":0.0,\"c\":0.0,\"d\":2.0},\n",
    "\"column1\":{\"a\":3.0,\"b\":1,\"c\":0.0,\"d\":-1.0},\n",
    "\"column2\":{\"a\":4,\"b\":1,\"c\":5.0,\"d\":-1.0},\n",
    "\"column3\":{\"a\":3.0,\"b\":-1.0,\"c\":-1.0,\"d\":-1.0}\n",
    "}\"\"\" \n",
    "t = literal_eval(udict)\n",
    "print(\"\\nOriginal dictionary:\") \n",
    "print(t) \n",
    "print(\"Type: \",type(t))\n",
    "result_nparra = np.array([[v[j]  \n",
    "for j in ['a', 'b', 'c', 'd']] \n",
    "for k, v in t.items()])\n",
    "print(\"\\nndarray:\") \n",
    "print(result_nparra) \n",
    "print(\"Type: \",type(result_nparra))"
   ]
  },
  {
   "cell_type": "markdown",
   "metadata": {},
   "source": [
    "<b>Q86. Write the Numpy program to find and store the non-zero unique rows in an array after comparing each row with other row in the given matrix?</b><br>\n",
    "&nbsp;&nbsp;Original array-<br>\n",
    "&nbsp;&nbsp;[[ 1 1 0]<br>\n",
    "&nbsp;&nbsp;[ 0 0 0]<br>\n",
    "&nbsp;&nbsp;[ 0 2 3]<br>\n",
    "&nbsp;&nbsp;[ 0 0 0]<br>\n",
    "&nbsp;&nbsp;[ 0 -1 1]<br>\n",
    "&nbsp;&nbsp;[ 0 0 0]]<br>\n",
    "&nbsp;&nbsp;Non-zero unique rows-<br>\n",
    "&nbsp;&nbsp;[[ 1 1 0]<br>\n",
    "&nbsp;&nbsp;[ 0 2 3]<br>\n",
    "&nbsp;&nbsp;[ 0 -1 1]]"
   ]
  },
  {
   "cell_type": "code",
   "execution_count": 102,
   "metadata": {},
   "outputs": [
    {
     "name": "stdout",
     "output_type": "stream",
     "text": [
      "Original array:\n",
      "[[ 1  1  0]\n",
      " [ 0  0  0]\n",
      " [ 0  2  3]\n",
      " [ 0  0  0]\n",
      " [ 0 -1  1]\n",
      " [ 0  0  0]]\n",
      "\n",
      "Non-zero unique rows:\n",
      "[[ 1  1  0]\n",
      " [ 0  2  3]\n",
      " [ 0 -1  1]]\n"
     ]
    }
   ],
   "source": [
    "arra = np.array([[ 1, 1, 0], [ 0, 0, 0], [ 0, 2, 3], [ 0, 0, 0], [ 0, -1, 1], [ 0, 0, 0]])\n",
    "print(\"Original array:\") \n",
    "print(arra) \n",
    "temp = {(0, 0, 0)} \n",
    "result = [] \n",
    "for idx, row in enumerate(map(tuple, arra)): \n",
    "    if row not in temp: \n",
    "        result.append(idx)\n",
    "print(\"\\nNon-zero unique rows:\") \n",
    "print(arra[result])"
   ]
  },
  {
   "cell_type": "markdown",
   "metadata": {},
   "source": [
    "<b>Q87. Write the NumPy program to multiply the matrix by another matrix of complex numbers and create a new matrix of complex numbers?</b><br>\n",
    "&nbsp;&nbsp;Sample output-<br>\n",
    "&nbsp;&nbsp;First array-<br>\n",
    "&nbsp;&nbsp;[ 1.+2.j 3.+4.j]<br>\n",
    "&nbsp;&nbsp;Second array-<br>\n",
    "&nbsp;&nbsp;[ 5.+6.j 7.+8.j]<br>\n",
    "&nbsp;&nbsp;Product of above two arrays-<br>\n",
    "&nbsp;&nbsp;(70-8j)"
   ]
  },
  {
   "cell_type": "code",
   "execution_count": 104,
   "metadata": {},
   "outputs": [
    {
     "name": "stdout",
     "output_type": "stream",
     "text": [
      "First array:\n",
      "[1.+2.j 3.+4.j]\n",
      "Second array:\n",
      "[5.+6.j 7.+8.j]\n",
      "Product of above two arrays:\n",
      "(70-8j)\n"
     ]
    }
   ],
   "source": [
    "x = np.array([1+2j,3+4j]) \n",
    "print(\"First array:\") \n",
    "print(x) \n",
    "y = np.array([5+6j,7+8j]) \n",
    "print(\"Second array:\") \n",
    "print(y) \n",
    "z = np.vdot(x, y)\n",
    "print(\"Product of above two arrays:\") \n",
    "print(z)"
   ]
  },
  {
   "cell_type": "markdown",
   "metadata": {},
   "source": [
    "<b>Q88. Write a NumPy program to generate the matrix product of two Arrays?</b><br>\n",
    "&nbsp;&nbsp;Sample Output-<br>\n",
    "&nbsp;&nbsp;Matrices and vectors.<br>\n",
    "&nbsp;&nbsp;x-<br>\n",
    "&nbsp;&nbsp;[[1, 0], [1, 1]]<br>\n",
    "&nbsp;&nbsp;y- [[3, 1], [2, 2]]<br>\n",
    "&nbsp;&nbsp;Matrix product of above two arrays-<br>\n",
    "&nbsp;&nbsp;[[3 1]<br>\n",
    "&nbsp;&nbsp;[5 3]]"
   ]
  },
  {
   "cell_type": "code",
   "execution_count": 106,
   "metadata": {},
   "outputs": [
    {
     "name": "stdout",
     "output_type": "stream",
     "text": [
      "Matrices and vectors.\n",
      "x:\n",
      "[[1, 0], [1, 1]]\n",
      "y:\n",
      "[[3, 1], [2, 2]]\n",
      "Matrix product of above two arrays:\n",
      "[[3 1]\n",
      " [5 3]]\n"
     ]
    }
   ],
   "source": [
    "x = [[1, 0], [1, 1]] \n",
    "y = [[3, 1], [2, 2]]\n",
    "print(\"Matrices and vectors.\")\n",
    "print(\"x:\") \n",
    "print(x)\n",
    "print(\"y:\") \n",
    "print(y)\n",
    "print(\"Matrix product of above two arrays:\") \n",
    "print(np.matmul(x, y))"
   ]
  },
  {
   "cell_type": "markdown",
   "metadata": {},
   "source": [
    "<b>Q89. Write the NumPy program to find roots of the following Polynomials?</b><br>\n",
    "&nbsp;&nbsp;a) (x2 - 4x + 7)<br>\n",
    "&nbsp;&nbsp;b) x4 - 11x3 + 9x2 + 11x ? 10<br>\n",
    "&nbsp;&nbsp;Sample output-<br>\n",
    "&nbsp;&nbsp;Roots of the first polynomial-<br>\n",
    "&nbsp;&nbsp;[ 1. 1.]<br>\n",
    "&nbsp;&nbsp;Roots of the second polynomial- [ 11.04461946+0.j -0.87114210+0.j 0.91326132+0.4531004j 0.91326132-0.4531004j ]"
   ]
  },
  {
   "cell_type": "code",
   "execution_count": 107,
   "metadata": {},
   "outputs": [
    {
     "name": "stdout",
     "output_type": "stream",
     "text": [
      "Roots of the first polynomial:\n",
      "[1. 1.]\n",
      "Roots of the second polynomial:\n",
      "[11.04461946+0.j        -0.8711421 +0.j         0.91326132+0.4531004j\n",
      "  0.91326132-0.4531004j]\n"
     ]
    }
   ],
   "source": [
    "print(\"Roots of the first polynomial:\") \n",
    "print(np.roots([1, -2, 1])) \n",
    "print(\"Roots of the second polynomial:\") \n",
    "print(np.roots([1, -12, 10, 7, -10]))"
   ]
  },
  {
   "cell_type": "markdown",
   "metadata": {},
   "source": [
    "<b>Q90. Write the NumPy program to calculate inverse of sine, cosine, and inverse tangent for all elements in a given array?</b><br>\n",
    "&nbsp;&nbsp;Sample output-<br>\n",
    "&nbsp;&nbsp;Inverse sine-<br>\n",
    "&nbsp;&nbsp;[-1.57079633 0. 1.57079633]<br>\n",
    "&nbsp;&nbsp;Inverse cosine-<br> \n",
    "&nbsp;&nbsp;[3.14159265 1.57079633 0. ]<br>\n",
    "&nbsp;&nbsp;Inverse tangent- [-0.78539816 0. 0.78539816]"
   ]
  },
  {
   "cell_type": "code",
   "execution_count": 108,
   "metadata": {},
   "outputs": [
    {
     "name": "stdout",
     "output_type": "stream",
     "text": [
      "Inverse sine: [-1.57079633  0.          1.57079633]\n",
      "Inverse cosine: [3.14159265 1.57079633 0.        ]\n",
      "Inverse tangent: [-0.78539816  0.          0.78539816]\n"
     ]
    }
   ],
   "source": [
    "x = np.array([-1., 0, 1.]) \n",
    "print(\"Inverse sine:\", np.arcsin(x)) \n",
    "print(\"Inverse cosine:\", np.arccos(x)) \n",
    "print(\"Inverse tangent:\", np.arctan(x))"
   ]
  },
  {
   "cell_type": "markdown",
   "metadata": {},
   "source": [
    "<b>Q91. Write the NumPy program to calculate the difference between in neighbouring elements, element-wise of a given array?</b><br>\n",
    "&nbsp;&nbsp;Sample output-<br>\n",
    "&nbsp;&nbsp;Original array-<br>\n",
    "&nbsp;&nbsp;[1 3 5 7 0]<br>\n",
    "&nbsp;&nbsp;Difference between neighbouring elements,<br>\n",
    "&nbsp;&nbsp;element-wise of the said array- [ 2 2 2 -7]"
   ]
  },
  {
   "cell_type": "code",
   "execution_count": 109,
   "metadata": {},
   "outputs": [
    {
     "name": "stdout",
     "output_type": "stream",
     "text": [
      "Original array: \n",
      "[1 3 5 7 0]\n",
      "Difference between neighboring elements, element-wise of the said array.\n",
      "[ 2  2  2 -7]\n"
     ]
    }
   ],
   "source": [
    "x = np.array([1, 3, 5, 7, 0])\n",
    "print(\"Original array: \") \n",
    "print(x)\n",
    "print(\"Difference between neighboring elements, element-wise of the said array.\") \n",
    "print(np.diff(x))"
   ]
  },
  {
   "cell_type": "markdown",
   "metadata": {},
   "source": [
    "<b>Q92. Write the Python program to find the maximum and the minimum value of a given flattened array?</b><br>\n",
    "&nbsp;&nbsp;Expected Output-<br>\n",
    "&nbsp;&nbsp;Original flattened array-<br>\n",
    "&nbsp;&nbsp;[[0 1]<br>\n",
    "&nbsp;&nbsp;[2 3]]<br>\n",
    "&nbsp;&nbsp;Maximum value of the above flattened array- 3 Minimum value of the above flattened array- 0"
   ]
  },
  {
   "cell_type": "code",
   "execution_count": 110,
   "metadata": {},
   "outputs": [
    {
     "name": "stdout",
     "output_type": "stream",
     "text": [
      "Original flattened array:\n",
      "[[0 1]\n",
      " [2 3]]\n",
      "Maximum value of the above flattened array:\n",
      "3\n",
      "Minimum value of the above flattened array:\n",
      "0\n"
     ]
    }
   ],
   "source": [
    "a = np.arange(4).reshape((2,2)) \n",
    "print(\"Original flattened array:\") \n",
    "print(a) \n",
    "print(\"Maximum value of the above flattened array:\") \n",
    "print(np.amax(a)) \n",
    "print(\"Minimum value of the above flattened array:\") \n",
    "print(np.amin(a))"
   ]
  },
  {
   "cell_type": "markdown",
   "metadata": {},
   "source": [
    "<b>Q93. Write the NumPy program to calculate the difference between in the maximum and the minimum values of a given array along the second axis ?</b><br>\n",
    "&nbsp;&nbsp;Expected Output-<br>\n",
    "&nbsp;&nbsp;Original array-<br>\n",
    "&nbsp;&nbsp;[[ 0 1 2 3 4 5]<br>\n",
    "&nbsp;&nbsp;[ 6 7 8 9 10 11]]<br>\n",
    "&nbsp;&nbsp;Difference between the maximum and the minimum values of the said array- [5 5]"
   ]
  },
  {
   "cell_type": "code",
   "execution_count": 111,
   "metadata": {},
   "outputs": [
    {
     "name": "stdout",
     "output_type": "stream",
     "text": [
      "\n",
      "Original array:\n",
      "[[ 0  1  2  3  4  5]\n",
      " [ 6  7  8  9 10 11]]\n",
      "\n",
      "Difference between the maximum and the minimum values of the said array:\n",
      "[5 5]\n"
     ]
    }
   ],
   "source": [
    "x = np.arange(12).reshape((2, 6))\n",
    "print(\"\\nOriginal array:\")\n",
    "print(x) \n",
    "r1 = np.ptp(x, 1)\n",
    "r2 = np.amax(x, 1) - np.amin(x, 1) \n",
    "assert np.allclose(r1, r2)\n",
    "print(\"\\nDifference between the maximum and the minimum values of the said array:\") \n",
    "print(r1)"
   ]
  },
  {
   "cell_type": "markdown",
   "metadata": {},
   "source": [
    "<b>Q94. Write the NumPy program to compute the weighted of the given array ?</b><br>\n",
    "&nbsp;&nbsp;Sample Output-<br>\n",
    "&nbsp;&nbsp;Original array-<br>\n",
    "&nbsp;&nbsp;[0 1 2 3 4]<br>\n",
    "&nbsp;&nbsp;Weighted average of the said array- 2.6666666666666665"
   ]
  },
  {
   "cell_type": "code",
   "execution_count": 3,
   "metadata": {},
   "outputs": [
    {
     "name": "stdout",
     "output_type": "stream",
     "text": [
      "\n",
      "Original array:\n",
      "[0 1 2 3 4]\n",
      "\n",
      "Weighted average of the said array:\n",
      "2.6666666666666665\n"
     ]
    }
   ],
   "source": [
    "import numpy as np\n",
    "x = np.arange(5)\n",
    "print(\"\\nOriginal array:\") \n",
    "print(x) \n",
    "weights = np.arange(1, 6) \n",
    "r1 = np.average(x, weights=weights) \n",
    "r2 = (x*(weights/weights.sum())).sum() \n",
    "assert np.allclose(r1, r2)\n",
    "print(\"\\nWeighted average of the said array:\")\n",
    "print(r1)"
   ]
  },
  {
   "cell_type": "markdown",
   "metadata": {},
   "source": [
    "<b>Q95. Write the NumPy program to compute the mean, standard deviation, and the variance of a given array along the second axis?</b><br>\n",
    "&nbsp;&nbsp;Sample output-<br>\n",
    "&nbsp;&nbsp;Original array-<br>\n",
    "&nbsp;&nbsp;[0 1 2 3 4 5]<br>\n",
    "&nbsp;&nbsp;Mean- 2.5<br>\n",
    "&nbsp;&nbsp;std- 1<br>\n",
    "&nbsp;&nbsp;variance- 2.9166666666666665"
   ]
  },
  {
   "cell_type": "code",
   "execution_count": 6,
   "metadata": {},
   "outputs": [
    {
     "name": "stdout",
     "output_type": "stream",
     "text": [
      "\n",
      "Original array:\n",
      "[0 1 2 3 4 5]\n",
      "\n",
      "Mean:  2.5\n",
      "\n",
      "std:  1\n",
      "\n",
      "variance:  2.9166666666666665\n"
     ]
    }
   ],
   "source": [
    "x = np.arange(6)\n",
    "print(\"\\nOriginal array:\") \n",
    "print(x) \n",
    "r1 = np.mean(x) \n",
    "r2 = np.average(x) \n",
    "assert np.allclose(r1, r2) \n",
    "print(\"\\nMean: \", r1)\n",
    "r1 = np.std(x) \n",
    "r2 = np.sqrt(np.mean((x - np.mean(x)) ** 2 )) \n",
    "assert np.allclose(r1, r2)\n",
    "print(\"\\nstd: \", 1) \n",
    "r1= np.var(x) \n",
    "r2 = np.mean((x - np.mean(x)) ** 2 ) \n",
    "assert np.allclose(r1, r2) \n",
    "print(\"\\nvariance: \", r1)"
   ]
  },
  {
   "cell_type": "markdown",
   "metadata": {},
   "source": [
    "<b>Q96. Write the Numpy program to compute the covariance matrix of the two given arrays?</b><br>\n",
    "&nbsp;&nbsp;Sample Output-<br>\n",
    "&nbsp;&nbsp;Original array1-<br>\n",
    "&nbsp;&nbsp;[0 1 2]<br>\n",
    "&nbsp;&nbsp;Original array1-<br>\n",
    "&nbsp;&nbsp;[2 1 0]<br>\n",
    "&nbsp;&nbsp;Covariance matrix of the said arrays-<br>\n",
    "&nbsp;&nbsp;[[ 1. -1.]<br>\n",
    "&nbsp;&nbsp;[-1. 1.]]"
   ]
  },
  {
   "cell_type": "code",
   "execution_count": 7,
   "metadata": {},
   "outputs": [
    {
     "name": "stdout",
     "output_type": "stream",
     "text": [
      "\n",
      "Original array1:\n",
      "[0 1 2]\n",
      "\n",
      "Original array1:\n",
      "[2 1 0]\n",
      "\n",
      "Covariance matrix of the said arrays:\n",
      " [[ 1. -1.]\n",
      " [-1.  1.]]\n"
     ]
    }
   ],
   "source": [
    "x = np.array([0, 1, 2]) \n",
    "y = np.array([2, 1, 0]) \n",
    "print(\"\\nOriginal array1:\") \n",
    "print(x) \n",
    "print(\"\\nOriginal array1:\") \n",
    "print(y) \n",
    "print(\"\\nCovariance matrix of the said arrays:\\n\",np.cov(x, y))"
   ]
  },
  {
   "cell_type": "markdown",
   "metadata": {},
   "source": [
    "<b>Q97. Write a NumPy program to compute the cross-correlation of two given arrays ?</b><br>\n",
    "&nbsp;&nbsp;Sample Output-<br>\n",
    "&nbsp;&nbsp;Original array1-<br>\n",
    "&nbsp;&nbsp;[0 1 3]<br>\n",
    "&nbsp;&nbsp;Original array1-<br>\n",
    "&nbsp;&nbsp;[2 4 5]<br>\n",
    "&nbsp;&nbsp;Cross-correlation of the said arrays- [ [ 2.33333333 2.16666667 ]<br>\n",
    "&nbsp;&nbsp;[ 2.16666667 2.33333333 ] ]"
   ]
  },
  {
   "cell_type": "code",
   "execution_count": 9,
   "metadata": {},
   "outputs": [
    {
     "name": "stdout",
     "output_type": "stream",
     "text": [
      "\n",
      "Original array1:\n",
      "[0 1 3]\n",
      "\n",
      "Original array1:\n",
      "[2 4 5]\n",
      "\n",
      "Cross-correlation of the said arrays:\n",
      " [[2.33333333 2.16666667]\n",
      " [2.16666667 2.33333333]]\n"
     ]
    }
   ],
   "source": [
    "x = np.array([0, 1, 3]) \n",
    "y = np.array([2, 4, 5])\n",
    "print(\"\\nOriginal array1:\")\n",
    "print(x)\n",
    "print(\"\\nOriginal array1:\") \n",
    "print(y) \n",
    "print(\"\\nCross-correlation of the said arrays:\\n\",np.cov(x, y))"
   ]
  },
  {
   "cell_type": "markdown",
   "metadata": {},
   "source": [
    "<b>Q98. Write the NumPy program to compute Pearson product-moment correlation coefficients of two given arrays?</b><br>\n",
    "&nbsp;&nbsp;Sample Output-<br>\n",
    "&nbsp;&nbsp;Original array1-<br>\n",
    "&nbsp;&nbsp;[0 1 3]<br>\n",
    "&nbsp;&nbsp;Original array1-<br>\n",
    "&nbsp;&nbsp;[2 4 5]<br>\n",
    "&nbsp;&nbsp;Pearson product-moment correlation coefficients of the said arrays-<br>\n",
    "&nbsp;&nbsp;[[1. 0.92857143]<br>\n",
    "&nbsp;&nbsp;[0.92857143 1. ]]"
   ]
  },
  {
   "cell_type": "code",
   "execution_count": 10,
   "metadata": {},
   "outputs": [
    {
     "name": "stdout",
     "output_type": "stream",
     "text": [
      "\n",
      "Original array1:\n",
      "[0 1 3]\n",
      "\n",
      "Original array1:\n",
      "[2 4 5]\n",
      "\n",
      "Pearson product-moment correlation coefficients of the said arrays:\n",
      " [[1.         0.92857143]\n",
      " [0.92857143 1.        ]]\n"
     ]
    }
   ],
   "source": [
    "x = np.array([0, 1, 3]) \n",
    "y = np.array([2, 4, 5])\n",
    "print(\"\\nOriginal array1:\") \n",
    "print(x)\n",
    "print(\"\\nOriginal array1:\") \n",
    "print(y)\n",
    "print(\"\\nPearson product-moment correlation coefficients of the said arrays:\\n\",np.corrcoef(x, y))"
   ]
  },
  {
   "cell_type": "markdown",
   "metadata": {},
   "source": [
    "<b>Q99. Write the python program to count the number of occurrences of each value in a given array of non-negative integers?</b><br>\n",
    "&nbsp;&nbsp;Sample Output-<br>\n",
    "&nbsp;&nbsp;Original array-<br>\n",
    "&nbsp;&nbsp;[0, 1, 6, 1, 4, 1, 2, 2, 7]<br>\n",
    "&nbsp;&nbsp;Number of occurrences of each value in array-<br>\n",
    "&nbsp;&nbsp;[1 3 2 0 1 0 1 1]"
   ]
  },
  {
   "cell_type": "code",
   "execution_count": 11,
   "metadata": {},
   "outputs": [
    {
     "name": "stdout",
     "output_type": "stream",
     "text": [
      "Original array:\n",
      "[0, 1, 6, 1, 4, 1, 2, 2, 7]\n",
      "Number of occurrences of each value in array: \n",
      "[1 3 2 0 1 0 1 1]\n"
     ]
    }
   ],
   "source": [
    "array1 = [0, 1, 6, 1, 4, 1, 2, 2, 7] \n",
    "print(\"Original array:\") \n",
    "print(array1) \n",
    "print(\"Number of occurrences of each value in array: \") \n",
    "print(np.bincount(array1))"
   ]
  },
  {
   "cell_type": "markdown",
   "metadata": {},
   "source": [
    "<b>Q100. Write a Numpy program to compute the histogram of nums against the bins?</b><br>\n",
    "&nbsp;&nbsp;Sample Output-<br>\n",
    "&nbsp;&nbsp;nums- [0.5 0.7 1. 1.2 1.3 2.1]<br>\n",
    "&nbsp;&nbsp;bins- [0 1 2 3]<br>\n",
    "&nbsp;&nbsp;Result- (array([2, 3, 1], dtype=int64),array([0, 1, 2, 3]))"
   ]
  },
  {
   "cell_type": "code",
   "execution_count": 14,
   "metadata": {},
   "outputs": [
    {
     "name": "stdout",
     "output_type": "stream",
     "text": [
      "nums:  [0.5 0.7 1.  1.2 1.3 2.1]\n",
      "bins:  [0 1 2 3]\n",
      "Result: (array([2, 3, 1], dtype=int32), array([0, 1, 2, 3]))\n"
     ]
    },
    {
     "data": {
      "image/png": "[encoded data removed]",
      "text/plain": [
       "<Figure size 432x288 with 1 Axes>"
      ]
     },
     "metadata": {
      "needs_background": "light"
     },
     "output_type": "display_data"
    }
   ],
   "source": [
    "import matplotlib.pyplot as plt\n",
    "%matplotlib inline\n",
    "nums = np.array([0.5, 0.7, 1.0, 1.2, 1.3, 2.1]) \n",
    "bins = np.array([0, 1, 2, 3]) \n",
    "print(\"nums: \",nums) \n",
    "print(\"bins: \",bins) \n",
    "print(\"Result:\", np.histogram(nums, bins)) \n",
    "plt.hist(nums, bins=bins) \n",
    "plt.show()"
   ]
  },
  {
   "cell_type": "markdown",
   "metadata": {},
   "source": [
    "<b>Q101. Write the Python program to add, subtract, multiply and divide two pandas series ?</b><br>\n",
    "&nbsp;&nbsp;Sample Series-<br>\n",
    "&nbsp;&nbsp;[2, 4, 6, 8, 10],<br>\n",
    "&nbsp;&nbsp;[1, 3, 5, 7, 9]"
   ]
  },
  {
   "cell_type": "code",
   "execution_count": 16,
   "metadata": {},
   "outputs": [
    {
     "name": "stdout",
     "output_type": "stream",
     "text": [
      "Add two Series:\n",
      "0     3\n",
      "1     7\n",
      "2    11\n",
      "3    15\n",
      "4    19\n",
      "dtype: int64\n",
      "Subtract two Series:\n",
      "0    1\n",
      "1    1\n",
      "2    1\n",
      "3    1\n",
      "4    1\n",
      "dtype: int64\n",
      "Multiply two Series:\n",
      "0     2\n",
      "1    12\n",
      "2    30\n",
      "3    56\n",
      "4    90\n",
      "dtype: int64\n",
      "Divide Series1 by Series2:\n",
      "0    2.000000\n",
      "1    1.333333\n",
      "2    1.200000\n",
      "3    1.142857\n",
      "4    1.111111\n",
      "dtype: float64\n"
     ]
    }
   ],
   "source": [
    "import pandas as pd\n",
    "ds1 = pd.Series([2, 4, 6, 8, 10]) \n",
    "ds2 = pd.Series([1, 3, 5, 7, 9]) \n",
    "ds = ds1 + ds2\n",
    "print(\"Add two Series:\")\n",
    "print(ds)\n",
    "print(\"Subtract two Series:\") \n",
    "ds = ds1 - ds2 \n",
    "print(ds)\n",
    "print(\"Multiply two Series:\") \n",
    "ds = ds1 * ds2 \n",
    "print(ds)\n",
    "print(\"Divide Series1 by Series2:\") \n",
    "ds = ds1 / ds2 \n",
    "print(ds)"
   ]
  },
  {
   "cell_type": "markdown",
   "metadata": {},
   "source": [
    "<b>Q102. Write a Python program to convert a dictionary to the Pandas Series?</b><br>\n",
    "&nbsp;&nbsp;Sample Series-<br>\n",
    "&nbsp;&nbsp;Original dictionary-<br>\n",
    "&nbsp;&nbsp;{'a': 100, 'b': 200, 'c': 300, 'd': 400, 'e': 800}<br>\n",
    "&nbsp;&nbsp;Converted series -<br>\n",
    "&nbsp;&nbsp;a 100<br>\n",
    "&nbsp;&nbsp;b 200<br>\n",
    "&nbsp;&nbsp;c 300<br>\n",
    "&nbsp;&nbsp;d 400<br>\n",
    "&nbsp;&nbsp;e 800<br>"
   ]
  },
  {
   "cell_type": "code",
   "execution_count": 18,
   "metadata": {},
   "outputs": [
    {
     "name": "stdout",
     "output_type": "stream",
     "text": [
      "Original dictionary:\n",
      "{'a': 100, 'b': 200, 'c': 300, 'd': 400, 'e': 800}\n",
      "Converted series:\n",
      "a    100\n",
      "b    200\n",
      "c    300\n",
      "d    400\n",
      "e    800\n",
      "dtype: int64\n"
     ]
    }
   ],
   "source": [
    "d1 = {'a': 100, 'b': 200, 'c':300, 'd':400, 'e':800}\n",
    "print(\"Original dictionary:\") \n",
    "print(d1) \n",
    "new_series = pd.Series(d1)\n",
    "print(\"Converted series:\") \n",
    "print(new_series)"
   ]
  },
  {
   "cell_type": "markdown",
   "metadata": {},
   "source": [
    " <b>Q103. Write a python program to change the data type of given a column or a Series?</b><br>\n",
    " &nbsp;&nbsp;Sample Series-<br>\n",
    " &nbsp;&nbsp;Original Data Series- 0 100<br>\n",
    " &nbsp;&nbsp;1 200<br>\n",
    " &nbsp;&nbsp;2 python<br>\n",
    " &nbsp;&nbsp;3 300.12<br>\n",
    " &nbsp;&nbsp;4 400<br>\n",
    " &nbsp;&nbsp;dtype- object<br>\n",
    " &nbsp;&nbsp;Change the said data type to numeric-<br>\n",
    " &nbsp;&nbsp;0 100.00<br>\n",
    " &nbsp;&nbsp;1 200.00<br>\n",
    " &nbsp;&nbsp;2 NaN<br>\n",
    " &nbsp;&nbsp;3 300.12<br>\n",
    " &nbsp;&nbsp;4 400.00<br>\n",
    " &nbsp;&nbsp;dtype- float64<br>"
   ]
  },
  {
   "cell_type": "code",
   "execution_count": 19,
   "metadata": {},
   "outputs": [
    {
     "name": "stdout",
     "output_type": "stream",
     "text": [
      "Original Data Series:\n",
      "0       100\n",
      "1       200\n",
      "2    python\n",
      "3    300.12\n",
      "4       400\n",
      "dtype: object\n",
      "Change the said data type to numeric:\n",
      "0    100.00\n",
      "1    200.00\n",
      "2       NaN\n",
      "3    300.12\n",
      "4    400.00\n",
      "dtype: float64\n"
     ]
    }
   ],
   "source": [
    "s1 = pd.Series(['100', '200', 'python', '300.12', '400'])\n",
    "print(\"Original Data Series:\") \n",
    "print(s1)\n",
    "print(\"Change the said data type to numeric:\") \n",
    "s2 = pd.to_numeric(s1, errors='coerce') \n",
    "print(s2)"
   ]
  },
  {
   "cell_type": "markdown",
   "metadata": {},
   "source": [
    "<b>Q104. Write the python pandas program to convert the first column of a DataFrame as a Series?</b><br>\n",
    "&nbsp;&nbsp;Sample Output-<br>\n",
    "&nbsp;&nbsp;Original DataFrame-<br>\n",
    "&nbsp;&nbsp;col1 col2 col3<br>\n",
    "&nbsp;&nbsp;0 1 4 7<br>\n",
    "&nbsp;&nbsp;1 2 5 5<br>\n",
    "&nbsp;&nbsp;2 3 6 8<br>\n",
    "&nbsp;&nbsp;3 4 9 12<br>\n",
    "&nbsp;&nbsp;4 7 5 1<br>\n",
    "&nbsp;&nbsp;5 11 0 11<br>\n",
    "&nbsp;&nbsp;1st column as a Series-<br>\n",
    "&nbsp;&nbsp;0 1<br>\n",
    "&nbsp;&nbsp;1 2<br>\n",
    "&nbsp;&nbsp;2 3<br>\n",
    "&nbsp;&nbsp;3 4<br>\n",
    "&nbsp;&nbsp;4 7<br>\n",
    "&nbsp;&nbsp;5 11<br>\n",
    "&nbsp;&nbsp;Name- col1, dtype- int64<br>\n",
    "&nbsp;&nbsp;<class 'pandas.core.series.Series'><br>"
   ]
  },
  {
   "cell_type": "code",
   "execution_count": 22,
   "metadata": {},
   "outputs": [
    {
     "name": "stdout",
     "output_type": "stream",
     "text": [
      "Original DataFrame\n",
      "   col1  col2  col3\n",
      "0     1     4     7\n",
      "1     2     5     5\n",
      "2     3     6     8\n",
      "3     4     9    12\n",
      "4     7     5     1\n",
      "5    11     0    11\n",
      "\n",
      "1st column as a Series:\n",
      "0     1\n",
      "1     2\n",
      "2     3\n",
      "3     4\n",
      "4     7\n",
      "5    11\n",
      "Name: col1, dtype: int64\n",
      "<class 'pandas.core.series.Series'>\n"
     ]
    }
   ],
   "source": [
    "d = {'col1': [1, 2, 3, 4, 7, 11], 'col2': [4, 5, 6, 9, 5, 0], 'col3': [7, 5, 8, 12, 1,11]} \n",
    "df = pd.DataFrame(data=d)\n",
    "print(\"Original DataFrame\") \n",
    "print(df) \n",
    "s1 = df.ix[:,0]\n",
    "print(\"\\n1st column as a Series:\") \n",
    "print(s1) \n",
    "print(type(s1))"
   ]
  },
  {
   "cell_type": "markdown",
   "metadata": {},
   "source": [
    "<b>Q105. Write a pandas program to create the mean and standard deviation of the data of a given Series?</b><br>\n",
    "&nbsp;&nbsp;Sample Output-<br>\n",
    "&nbsp;&nbsp;Original Data Series-<br>\n",
    "&nbsp;&nbsp;0 1<br>\n",
    "&nbsp;&nbsp;1 2<br>\n",
    "&nbsp;&nbsp;2 3<br>\n",
    "&nbsp;&nbsp;3 4<br>\n",
    "&nbsp;&nbsp;4 5<br>\n",
    "&nbsp;&nbsp;5 6<br>\n",
    "&nbsp;&nbsp;6 7<br>\n",
    "&nbsp;&nbsp;7 8<br>\n",
    "&nbsp;&nbsp;8 9<br>\n",
    "&nbsp;&nbsp;9 5<br>\n",
    "&nbsp;&nbsp;10 3<br>\n",
    "&nbsp;&nbsp;dtype- int64<br>\n",
    "&nbsp;&nbsp;Mean of the said Data Series-<br>\n",
    "&nbsp;&nbsp;4.81818181818<br>\n",
    "&nbsp;&nbsp;Standard deviation of the said Data Series-<br>\n",
    "&nbsp;&nbsp;2.52262489555<br>"
   ]
  },
  {
   "cell_type": "code",
   "execution_count": 23,
   "metadata": {},
   "outputs": [
    {
     "name": "stdout",
     "output_type": "stream",
     "text": [
      "Original Data Series:\n",
      "0     1\n",
      "1     2\n",
      "2     3\n",
      "3     4\n",
      "4     5\n",
      "5     6\n",
      "6     7\n",
      "7     8\n",
      "8     9\n",
      "9     5\n",
      "10    3\n",
      "dtype: int64\n",
      "Mean of the said Data Series:\n",
      "4.818181818181818\n",
      "Standard deviation of the said Data Series:\n",
      "2.522624895547565\n"
     ]
    }
   ],
   "source": [
    "s = pd.Series(data = [1,2,3,4,5,6,7,8,9,5,3])\n",
    "print(\"Original Data Series:\") \n",
    "print(s)\n",
    "print(\"Mean of the said Data Series:\") \n",
    "print(s.mean())\n",
    "print(\"Standard deviation of the said Data Series:\") \n",
    "print(s.std())"
   ]
  },
  {
   "cell_type": "markdown",
   "metadata": {},
   "source": [
    "<b>Q106. Write a pandas program to get powers of an array values element-wise?</b><br>\n",
    "&nbsp;&nbsp;Note First array elements raised the powers from the second array.<br>\n",
    "&nbsp;&nbsp;Sample data: {'X ':[78,85,96,80,86], ' Y ':[84,94,89,83,86],'Z':[86,97,96,72,83]}<br>\n",
    "&nbsp;&nbsp;Expected Output:<br>\n",
    "&nbsp;&nbsp;X Y Z<br>\n",
    "&nbsp;&nbsp;0 78 84 86<br>\n",
    "&nbsp;&nbsp;1 85 94 97<br>\n",
    "&nbsp;&nbsp;2 96 89 96<br>\n",
    "&nbsp;&nbsp;3 80 83 72<br>\n",
    "&nbsp;&nbsp;4 86 86 83<br>"
   ]
  },
  {
   "cell_type": "code",
   "execution_count": 24,
   "metadata": {},
   "outputs": [
    {
     "name": "stdout",
     "output_type": "stream",
     "text": [
      "    X   Y   Z\n",
      "0  78  84  86\n",
      "1  85  94  97\n",
      "2  96  89  96\n",
      "3  80  83  72\n",
      "4  86  86  83\n"
     ]
    }
   ],
   "source": [
    "df = pd.DataFrame({'X':[78,85,96,80,86], 'Y':[84,94,89,83,86],'Z':[86,97,96,72,83]}); \n",
    "print(df)"
   ]
  },
  {
   "cell_type": "markdown",
   "metadata": {},
   "source": [
    "<b>Q107. Write the pandas program to get the first 3 rows of a given DataFrame?</b><br>\n",
    "&nbsp;&nbsp;Sample Python dictionary data and list labels-<br>\n",
    "&nbsp;&nbsp;exam_data = {'name': ['Anastasia', 'Dima', 'Katherine', 'James', 'Emily', 'Michael',<br>\n",
    "&nbsp;&nbsp;'Matthew', 'Laura', 'Kevin', 'Jonas'],<br>\n",
    "&nbsp;&nbsp;'score': [12.5, 9, 16.5, np.nan, 9, 20, 14.5, np.nan, 8, 19],<br>\n",
    "&nbsp;&nbsp;'attempts'- [1, 3, 2, 3, 2, 3, 1, 1, 2, 1],<br>\n",
    "&nbsp;&nbsp;'qualify'- [ 'yes', 'no', 'yes' , 'no', ' no ', ' yes ', 'yes', 'no', 'no', 'yes' ] }<br>\n",
    "&nbsp;&nbsp;labels = ['a', 'b', 'c', 'd', 'e', 'f', 'g', 'h', 'i', 'j' ]<br>\n",
    "&nbsp;&nbsp;Expected Output-<br>\n",
    "&nbsp;&nbsp;First three rows of the data frame-<br>\n",
    "&nbsp;&nbsp;attempts name qualify score<br>\n",
    "&nbsp;&nbsp;a 1 Anastasia yes 12.5<br>\n",
    "&nbsp;&nbsp;b 3 Dima no 9.0<br>\n",
    "&nbsp;&nbsp;c 2 Katherine yes 16.5<br>"
   ]
  },
  {
   "cell_type": "code",
   "execution_count": 26,
   "metadata": {},
   "outputs": [
    {
     "name": "stdout",
     "output_type": "stream",
     "text": [
      "First three rows of the data frame:\n",
      "        name  score  attempts qualify\n",
      "a  Anastasia   12.5         1     yes\n",
      "b       Dima    9.0         3      no\n",
      "c  Katherine   16.5         2     yes\n"
     ]
    }
   ],
   "source": [
    "exam_data = {'name': ['Anastasia', 'Dima', 'Katherine', 'James', 'Emily', 'Michael', 'Matthew', 'Laura', 'Kevin', 'Jonas'], \n",
    "             'score': [12.5, 9, 16.5, np.nan, 9, 20, 14.5, np.nan, 8, 19], \n",
    "             'attempts': [1, 3, 2, 3, 2, 3, 1, 1, 2, 1], \n",
    "             'qualify': ['yes', 'no', 'yes', 'no', 'no', 'yes', 'yes', 'no', 'no', 'yes']} \n",
    "labels = ['a', 'b', 'c', 'd', 'e', 'f', 'g', 'h', 'i', 'j']\n",
    "df = pd.DataFrame(exam_data , index=labels)\n",
    "print(\"First three rows of the data frame:\") \n",
    "print(df.iloc[:3])"
   ]
  },
  {
   "cell_type": "markdown",
   "metadata": {},
   "source": [
    "<b>Q108: Write the pandas program to select the specified columns and the rows from a given data frame?</b><br>\n",
    "&nbsp;&nbsp;Sample Python dictionary data and list labels-<br>\n",
    "&nbsp;&nbsp;Select 'name' and 'score' columns in rows 1, 3, 5, 6 from the following data frame.<br>\n",
    "&nbsp;&nbsp;exam_data = {'name ': [ 'Anastasia', 'Dima', 'Katherine', 'James', 'Emily', 'Michael',<br>\n",
    "&nbsp;&nbsp;'Matthew', 'Laura', 'Kevin', 'Jonas'],<br>\n",
    "&nbsp;&nbsp;'score'- [12.5, 9, 16.5, np.nan, 9, 20, 14.5, np.nan, 8, 19],<br>\n",
    "&nbsp;&nbsp;'attempts'- [1, 3, 2, 3, 2, 3, 1, 1, 2, 1],<br>\n",
    "&nbsp;&nbsp;'qualify'- ['yes', 'no', 'yes', 'no', 'no', 'yes', 'yes', 'no', 'no', 'yes'] }<br>\n",
    "&nbsp;&nbsp;labels = ['a ', ' b ', ' c ', ' d ', ' e ', ' f ', ' g ', 'h', 'i', 'j']<br>\n",
    "&nbsp;&nbsp;Expected Output-<br>\n",
    "&nbsp;&nbsp;Select specific columns and rows-<br>\n",
    "&nbsp;&nbsp;name score<br>\n",
    "&nbsp;&nbsp;b Dima 9.0<br>\n",
    "&nbsp;&nbsp;d James NaN<br>\n",
    "&nbsp;&nbsp;f Michael 20.0<br>\n",
    "&nbsp;&nbsp;g Matthew 14.5<br>"
   ]
  },
  {
   "cell_type": "code",
   "execution_count": 27,
   "metadata": {},
   "outputs": [
    {
     "name": "stdout",
     "output_type": "stream",
     "text": [
      "Select specific columns and rows:\n",
      "   score qualify\n",
      "b    9.0      no\n",
      "d    NaN      no\n",
      "f   20.0     yes\n",
      "g   14.5     yes\n"
     ]
    }
   ],
   "source": [
    "exam_data = {'name': ['Anastasia', 'Dima', 'Katherine', 'James', 'Emily', 'Michael', 'Matthew', 'Laura', 'Kevin', 'Jonas'], 'score': [12.5, 9, 16.5, np.nan, 9, 20, 14.5, np.nan, 8, 19], \n",
    "             'attempts': [1, 3, 2, 3, 2, 3, 1, 1, 2, 1], \n",
    "             'qualify': ['yes', 'no', 'yes', 'no', 'no', 'yes', 'yes', 'no', 'no', 'yes']} \n",
    "labels = ['a', 'b', 'c', 'd', 'e', 'f', 'g', 'h', 'i', 'j'] \n",
    "df = pd.DataFrame(exam_data , index=labels) \n",
    "print(\"Select specific columns and rows:\")\n",
    "print(df.iloc[[1, 3, 5, 6], [1, 3]])"
   ]
  },
  {
   "cell_type": "markdown",
   "metadata": {},
   "source": [
    "<b>Q109. Write the pandas program to calculate mean score for each different student in DataFrame?</b><br>\n",
    "&nbsp;&nbsp;Sample Python dictionary data and list labels-<br>\n",
    "&nbsp;&nbsp;exam_data = {'name': ['Anastasia', 'Dima', 'Katherine', 'James', 'Emily', 'Michael',<br>\n",
    "&nbsp;&nbsp;'Matthew', 'Laura', 'Kevin', 'Jonas'],<br>\n",
    "&nbsp;&nbsp;'score': [12.5, 9, 16.5, np.nan, 9, 20, 14.5, np.nan, 8, 19],<br>\n",
    "&nbsp;&nbsp;'attempts'- [1, 3, 2, 3, 2, 3, 1, 1, 2, 1],<br>\n",
    "&nbsp;&nbsp;'qualify'- ['yes', 'no', ' yes ', ' no ', ' no ', ' yes ', ' yes ', ' no ', ' no ', ' yes '] }<br>\n",
    "&nbsp;&nbsp;labels = ['a', 'b', 'c', 'd', 'e', 'f', 'g', 'h', 'i', 'j']<br>\n",
    "&nbsp;&nbsp;Expected Output-<br>\n",
    "&nbsp;&nbsp;Mean score for each different student in data frame:<br>\n",
    "&nbsp;&nbsp;13.5625<br>"
   ]
  },
  {
   "cell_type": "code",
   "execution_count": 29,
   "metadata": {},
   "outputs": [
    {
     "name": "stdout",
     "output_type": "stream",
     "text": [
      "\n",
      "Mean score for each different student in data frame:\n",
      "13.5625\n"
     ]
    }
   ],
   "source": [
    "exam_data = {'name': ['Anastasia', 'Dima', 'Katherine', 'James', 'Emily', 'Michael', 'Matthew', 'Laura', 'Kevin', 'Jonas'], \n",
    "             'score': [12.5, 9, 16.5, np.nan, 9, 20, 14.5, np.nan, 8, 19], \n",
    "             'attempts': [1, 3, 2, 3, 2, 3, 1, 1, 2, 1], \n",
    "             'qualify': ['yes', 'no', 'yes', 'no', 'no', 'yes', 'yes', 'no', 'no', 'yes']} \n",
    "labels = ['a', 'b', 'c', 'd', 'e', 'f', 'g', 'h', 'i', 'j']\n",
    "df = pd.DataFrame(exam_data , index=labels)\n",
    "print(\"\\nMean score for each different student in data frame:\") \n",
    "print(df['score'].mean())"
   ]
  },
  {
   "cell_type": "markdown",
   "metadata": {},
   "source": [
    "<b>Q110. Write the Pandas program to rename columns of a given DataFrame ?</b><br>\n",
    "&nbsp;&nbsp;Sample data-<br>\n",
    "&nbsp;&nbsp;Original data frame<br>\n",
    "&nbsp;&nbsp;col1 col2 col3<br>\n",
    "&nbsp;&nbsp;0 1 4 7<br>\n",
    "&nbsp;&nbsp;1 2 5 8<br>\n",
    "&nbsp;&nbsp;2 3 6 9<br>\n",
    "&nbsp;&nbsp;New data frame after renaming columns:<br>\n",
    "&nbsp;&nbsp;Column1 Column2 Column3<br>\n",
    "&nbsp;&nbsp;0 1 4 7<br>\n",
    "&nbsp;&nbsp;1 2 5 8<br>\n",
    "&nbsp;&nbsp;2 3 6 9<br>"
   ]
  },
  {
   "cell_type": "code",
   "execution_count": 30,
   "metadata": {},
   "outputs": [
    {
     "name": "stdout",
     "output_type": "stream",
     "text": [
      "Original DataFrame\n",
      "   col1  col2  col3\n",
      "0     1     4     7\n",
      "1     2     5     8\n",
      "2     3     6     9\n",
      "New DataFrame after renaming columns:\n",
      "   Column1  Column2  Column3\n",
      "0        1        4        7\n",
      "1        2        5        8\n",
      "2        3        6        9\n"
     ]
    }
   ],
   "source": [
    "d = {'col1': [1, 2, 3], 'col2': [4, 5, 6], 'col3': [7, 8, 9]} \n",
    "df = pd.DataFrame(data=d)\n",
    "print(\"Original DataFrame\") \n",
    "print(df) \n",
    "df.columns = ['Column1', 'Column2', 'Column3'] \n",
    "df = df.rename(columns={'col1': 'Column1', 'col2': 'Column2', 'col3': 'Column3'})\n",
    "print(\"New DataFrame after renaming columns:\") \n",
    "print(df)"
   ]
  },
  {
   "cell_type": "markdown",
   "metadata": {},
   "source": [
    "<b>Q111. Write a pandas program to count city-wise number of people from a given of data set (city, name of the person)?</b><br>\n",
    "&nbsp;&nbsp;Sample data-<br>\n",
    "&nbsp;&nbsp;city Number of people<br>\n",
    "&nbsp;&nbsp;0 California 4<br>\n",
    "&nbsp;&nbsp;1 Georgia 2<br>\n",
    "&nbsp;&nbsp;2 Los Angeles 4<br>"
   ]
  },
  {
   "cell_type": "code",
   "execution_count": 31,
   "metadata": {},
   "outputs": [
    {
     "name": "stdout",
     "output_type": "stream",
     "text": [
      "          city  Number of people\n",
      "0   California                 4\n",
      "1      Georgia                 2\n",
      "2  Los Angeles                 4\n"
     ]
    }
   ],
   "source": [
    "df1 = pd.DataFrame({'name': ['Anastasia', 'Dima', 'Katherine', 'James', 'Emily', 'Michael', 'Matthew', 'Laura', 'Kevin', 'Jonas'], \n",
    "                    'city': ['California', 'Los Angeles', 'California', 'California', 'California', 'Los Angeles', 'Los Angeles', 'Georgia', 'Georgia', 'Los Angeles']}) \n",
    "g1 = df1.groupby([\"city\"]).size().reset_index(name='Number of people') \n",
    "print(g1)"
   ]
  },
  {
   "cell_type": "markdown",
   "metadata": {},
   "source": [
    "<b>Q112. Write a pandas program to widen output display to see more columns?</b><br>\n",
    "&nbsp;&nbsp;Sample data-<br>\n",
    "&nbsp;&nbsp;Original data frame<br>\n",
    "&nbsp;&nbsp;col1 col2 col3<br>\n",
    "&nbsp;&nbsp;0 1 4 7<br>\n",
    "&nbsp;&nbsp;1 4 5 8<br>\n",
    "&nbsp;&nbsp;2 3 6 9<br>\n",
    "&nbsp;&nbsp;3 4 7 0<br>\n",
    "&nbsp;&nbsp;4 5 8 1<br>"
   ]
  },
  {
   "cell_type": "code",
   "execution_count": 34,
   "metadata": {},
   "outputs": [
    {
     "name": "stdout",
     "output_type": "stream",
     "text": [
      "Original DataFrame\n",
      "   col1  col2  col3\n",
      "0     1     4     7\n",
      "1     4     5     8\n",
      "2     3     6     9\n",
      "3     4     7     0\n",
      "4     5     8     1\n"
     ]
    }
   ],
   "source": [
    "d = {'col1': [1, 4, 3, 4, 5], 'col2': [4, 5, 6, 7, 8], 'col3': [7, 8, 9, 0, 1]} \n",
    "df = pd.DataFrame(data=d) \n",
    "pd.set_option('display.max_rows', 500) \n",
    "pd.set_option('display.max_columns', 500) \n",
    "pd.set_option('display.width', 1000)\n",
    "print(\"Original DataFrame\") \n",
    "print(df)"
   ]
  },
  {
   "cell_type": "markdown",
   "metadata": {},
   "source": [
    "<b>Q113. Write a pandas program to convert the data frame column type from string to DateTime?</b><br>\n",
    "&nbsp;&nbsp;Sample data-<br>\n",
    "&nbsp;&nbsp;String Date-<br>\n",
    "&nbsp;&nbsp;0 3/11/2000<br>\n",
    "&nbsp;&nbsp;1 3/12/2000<br>\n",
    "&nbsp;&nbsp;2 3/13/2000<br>\n",
    "&nbsp;&nbsp;dtype- object<br>\n",
    "&nbsp;&nbsp;Original DataFrame (string to datetime)-<br>\n",
    "&nbsp;&nbsp;0<br>\n",
    "&nbsp;&nbsp;0 2000-03-11<br>\n",
    "&nbsp;&nbsp;1 2000-03-12<br>\n",
    "&nbsp;&nbsp;2 2000-03-13<br>"
   ]
  },
  {
   "cell_type": "code",
   "execution_count": 35,
   "metadata": {},
   "outputs": [
    {
     "name": "stdout",
     "output_type": "stream",
     "text": [
      "String Date:\n",
      "0    3/11/2000\n",
      "1    3/12/2000\n",
      "2    3/13/2000\n",
      "dtype: object\n",
      "Original DataFrame (string to datetime):\n",
      "           0\n",
      "0 2000-03-11\n",
      "1 2000-03-12\n",
      "2 2000-03-13\n"
     ]
    }
   ],
   "source": [
    "s = pd.Series(['3/11/2000', '3/12/2000', '3/13/2000'])\n",
    "print(\"String Date:\") \n",
    "print(s) \n",
    "r = pd.to_datetime(pd.Series(s)) \n",
    "df = pd.DataFrame(r)\n",
    "print(\"Original DataFrame (string to datetime):\") \n",
    "print(df)"
   ]
  },
  {
   "cell_type": "markdown",
   "metadata": {},
   "source": [
    "<b>Q114. Write a pandas program to append the data to an empty DataFrame?</b><br>\n",
    "&nbsp;&nbsp;Sample data-<br>\n",
    "&nbsp;&nbsp;Original DataFrame- After appending some data: col1 col2 0 0 0 1 1 1 2 2 2<br>"
   ]
  },
  {
   "cell_type": "code",
   "execution_count": 36,
   "metadata": {},
   "outputs": [
    {
     "name": "stdout",
     "output_type": "stream",
     "text": [
      "After appending some data:\n",
      "   col1  col2\n",
      "0     0     0\n",
      "1     1     1\n",
      "2     2     2\n"
     ]
    }
   ],
   "source": [
    "df = pd.DataFrame() \n",
    "data = pd.DataFrame({\"col1\": range(3),\"col2\": range(3)})\n",
    "print(\"After appending some data:\") \n",
    "df = df.append(data) \n",
    "print(df)"
   ]
  },
  {
   "cell_type": "markdown",
   "metadata": {},
   "source": [
    "<b>Q115. Write a pandas program to count the number of columns of a DataFrame?</b><br>\n",
    "&nbsp;&nbsp;Sample Output-<br>\n",
    "&nbsp;&nbsp;Original DataFrame<br>\n",
    "&nbsp;&nbsp;col1 col2 col3<br>\n",
    "&nbsp;&nbsp;0 1 4 7<br>\n",
    "&nbsp;&nbsp;1 2 5 8<br>\n",
    "&nbsp;&nbsp;2 3 6 12<br>\n",
    "&nbsp;&nbsp;3 4 9 1<br>\n",
    "&nbsp;&nbsp;4 7 5 11<br>\n",
    "&nbsp;&nbsp;Number of columns- 3<br>"
   ]
  },
  {
   "cell_type": "code",
   "execution_count": 37,
   "metadata": {},
   "outputs": [
    {
     "name": "stdout",
     "output_type": "stream",
     "text": [
      "Original DataFrame\n",
      "   col1  col2  col3\n",
      "0     1     4     7\n",
      "1     2     5     8\n",
      "2     3     6    12\n",
      "3     4     9     1\n",
      "4     7     5    11\n",
      "\n",
      "Number of columns:\n",
      "3\n"
     ]
    }
   ],
   "source": [
    "d = {'col1': [1, 2, 3, 4, 7], 'col2': [4, 5, 6, 9, 5], 'col3': [7, 8, 12, 1, 11]} \n",
    "df = pd.DataFrame(data=d) \n",
    "print(\"Original DataFrame\") \n",
    "print(df) \n",
    "print(\"\\nNumber of columns:\") \n",
    "print(len(df.columns))"
   ]
  },
  {
   "cell_type": "markdown",
   "metadata": {},
   "source": [
    "<b>Q116. Write a Pandas program to remove the last n rows of a given DataFrame ?</b><br>\n",
    "&nbsp;&nbsp;Sample Output:<br>\n",
    "&nbsp;&nbsp;Original DataFrame<br>\n",
    "&nbsp;&nbsp;col1 col2 col3<br>\n",
    "&nbsp;&nbsp;0 1 4 7<br>\n",
    "&nbsp;&nbsp;1 2 5 5<br>\n",
    "&nbsp;&nbsp;2 3 6 8<br>\n",
    "&nbsp;&nbsp;3 4 9 12<br>\n",
    "&nbsp;&nbsp;4 7 5 1<br>\n",
    "&nbsp;&nbsp;5 11 0 11<br>\n",
    "&nbsp;&nbsp;After removing last 3 rows of the said DataFrame-<br>\n",
    "&nbsp;&nbsp;col1 col2 col3<br>\n",
    "&nbsp;&nbsp;0 1 4 7<br>\n",
    "&nbsp;&nbsp;1 2 5 5<br>\n",
    "&nbsp;&nbsp;2 3 6 8<br>"
   ]
  },
  {
   "cell_type": "code",
   "execution_count": 40,
   "metadata": {},
   "outputs": [
    {
     "name": "stdout",
     "output_type": "stream",
     "text": [
      "Original DataFrame\n",
      "   col1  col2  col3\n",
      "0     1     4     7\n",
      "1     2     5     5\n",
      "2     3     6     8\n",
      "3     4     9    12\n",
      "4     7     5     1\n",
      "5    11     0    11\n",
      "\n",
      "After removing last 3 rows of the said DataFrame:\n",
      "   col1  col2  col3\n",
      "0     1     4     7\n",
      "1     2     5     5\n",
      "2     3     6     8\n"
     ]
    }
   ],
   "source": [
    "d = {'col1': [1, 2, 3, 4, 7, 11], 'col2': [4, 5, 6, 9, 5, 0], 'col3': [7, 5, 8, 12, 1,11]} \n",
    "df = pd.DataFrame(data=d)\n",
    "print(\"Original DataFrame\") \n",
    "print(df)\n",
    "print(\"\\nAfter removing last 3 rows of the said DataFrame:\") \n",
    "df1 = df.iloc[:3] \n",
    "print(df1)"
   ]
  },
  {
   "cell_type": "markdown",
   "metadata": {},
   "source": [
    "<b>Q117. Write a Pandas program to import excel data (coalpublic2013.xlsx ) into a Pandas data frame.</b>"
   ]
  },
  {
   "cell_type": "code",
   "execution_count": 52,
   "metadata": {},
   "outputs": [
    {
     "name": "stdout",
     "output_type": "stream",
     "text": [
      "<bound method NDFrame.head of     Year  MSHA ID                       Mine_Name  Production  Labor_Hours\n",
      "0   2013   103381            Tacoa Highwall Miner       56004        22392\n",
      "1   2013   103404                Reid School Mine       28807        28447\n",
      "2   2013   100759  North River #1 Underground Min     1440115       474784\n",
      "3   2013   103246                      Bear Creek       87587        29193\n",
      "4   2013   103451                     Knight Mine      147499        46393\n",
      "5   2013   103433              Crane Central Mine       69339        47195\n",
      "6   2013   100329                    Concord Mine           0       144002\n",
      "7   2013   100851                  Oak Grove Mine     2269014      1001809\n",
      "8   2013   102901                Shoal Creek Mine           0        12396\n",
      "9   2013   102901                Shoal Creek Mine     1453024      1237415\n",
      "10  2013   103180             Sloan Mountain Mine      327780       196963\n",
      "11  2013   103182                        Fishtrap      175058        87314\n",
      "12  2013   103285                     Narley Mine      154861        90584\n",
      "13  2013   103332                   Powhatan Mine      140521        61394\n",
      "14  2013   103375                    Johnson Mine         580         1900\n",
      "15  2013   103419               Maxine-Pratt Mine      125824       107469\n",
      "16  2013   103432                   Skelton Creek        8252          220\n",
      "17  2013   103437         Black Warrior Mine No 1      145924        70926\n",
      "18  2013   102976   Piney Woods Preparation Plant           0        14828\n",
      "19  2013   102976   Piney Woods Preparation Plant           0        23193\n",
      "20  2013   103380                          Calera           0        12621\n",
      "21  2013   103380                          Calera           0         1402\n",
      "22  2013   103422                 Clark No 1 Mine      122727       140250\n",
      "23  2013   103467             Helena Surface Mine       59664        30539\n",
      "24  2013   101247                       No 4 Mine     2622528      1551141\n",
      "25  2013   101401                       No 7 Mine     5405412      2464719\n",
      "26  2013   103172  Searles Mine No. 2, 3, 4, 5, 6      258078       119542\n",
      "27  2013   103179             Fleetwood Mine No 1       75937        63745\n",
      "28  2013   103303                    Shannon Mine      317491       164388\n",
      "29  2013   103323                   Deerlick Mine      133452        46381\n",
      "30  2013   103364           Brc Alabama No. 7 Llc           0        14324\n",
      "31  2013   103436                Swann's Crossing      137511        77190\n",
      "32  2013   100347                    Choctaw Mine      537429       215295\n",
      "33  2013   101362                 Manchester Mine      219457       116914\n",
      "34  2013   102996                  Jap Creek Mine      375715       164093\n",
      "35  2013   103155              Corinth Prep Plant           0        27996\n",
      "36  2013   103155              Corinth Prep Plant           0        51994\n",
      "37  2013   103195     Mccollum/Sparks Branch Mine       71910        17411\n",
      "38  2013   103342             Reese's Branch Mine      263888       115123\n",
      "39  2013   103370             Cresent Valley Mine        2860          621\n",
      "40  2013   103372                 Cane Creek Mine       66258        32401\n",
      "41  2013   103376                      Town Creek      299167       176499\n",
      "42  2013   103389                Carbon Hill Mine       76241        84966\n",
      "43  2013   103410                Coal Valley Mine      407841       158591\n",
      "44  2013   103423                Dutton Hill Mine       37275         9162\n",
      "45  2013  1519322                         Ghm #25       25054         3108\n",
      "46  2013   103321                  Poplar Springs      189370        76366\n",
      "47  2013   103358                       Old Union      284563       161805\n",
      "48  2013  5000030                        Usibelli     1631584       286079\n",
      "49  2013   201195                    Kayenta Mine     7602722      1015333>\n"
     ]
    }
   ],
   "source": [
    "df = pd.read_excel('coalpublic2013.xlsx') \n",
    "print(df.head)"
   ]
  },
  {
   "cell_type": "markdown",
   "metadata": {},
   "source": [
    "<b>Q118. Write a Pandas program to import excel data (coalpublic2013.xlsx ) into a data frame and find details where \"Mine Name\" starts with \"P.</b>"
   ]
  },
  {
   "cell_type": "code",
   "execution_count": 53,
   "metadata": {},
   "outputs": [
    {
     "data": {
      "text/html": [
       "<div>\n",
       "<style scoped>\n",
       "    .dataframe tbody tr th:only-of-type {\n",
       "        vertical-align: middle;\n",
       "    }\n",
       "\n",
       "    .dataframe tbody tr th {\n",
       "        vertical-align: top;\n",
       "    }\n",
       "\n",
       "    .dataframe thead th {\n",
       "        text-align: right;\n",
       "    }\n",
       "</style>\n",
       "<table border=\"1\" class=\"dataframe\">\n",
       "  <thead>\n",
       "    <tr style=\"text-align: right;\">\n",
       "      <th></th>\n",
       "      <th>Year</th>\n",
       "      <th>MSHA ID</th>\n",
       "      <th>Mine_Name</th>\n",
       "      <th>Production</th>\n",
       "      <th>Labor_Hours</th>\n",
       "    </tr>\n",
       "  </thead>\n",
       "  <tbody>\n",
       "    <tr>\n",
       "      <th>13</th>\n",
       "      <td>2013</td>\n",
       "      <td>103332</td>\n",
       "      <td>Powhatan Mine</td>\n",
       "      <td>140521</td>\n",
       "      <td>61394</td>\n",
       "    </tr>\n",
       "    <tr>\n",
       "      <th>18</th>\n",
       "      <td>2013</td>\n",
       "      <td>102976</td>\n",
       "      <td>Piney Woods Preparation Plant</td>\n",
       "      <td>0</td>\n",
       "      <td>14828</td>\n",
       "    </tr>\n",
       "    <tr>\n",
       "      <th>19</th>\n",
       "      <td>2013</td>\n",
       "      <td>102976</td>\n",
       "      <td>Piney Woods Preparation Plant</td>\n",
       "      <td>0</td>\n",
       "      <td>23193</td>\n",
       "    </tr>\n",
       "    <tr>\n",
       "      <th>46</th>\n",
       "      <td>2013</td>\n",
       "      <td>103321</td>\n",
       "      <td>Poplar Springs</td>\n",
       "      <td>189370</td>\n",
       "      <td>76366</td>\n",
       "    </tr>\n",
       "  </tbody>\n",
       "</table>\n",
       "</div>"
      ],
      "text/plain": [
       "    Year  MSHA ID                      Mine_Name  Production  Labor_Hours\n",
       "13  2013   103332                  Powhatan Mine      140521        61394\n",
       "18  2013   102976  Piney Woods Preparation Plant           0        14828\n",
       "19  2013   102976  Piney Woods Preparation Plant           0        23193\n",
       "46  2013   103321                 Poplar Springs      189370        76366"
      ]
     },
     "execution_count": 53,
     "metadata": {},
     "output_type": "execute_result"
    }
   ],
   "source": [
    "df = pd.read_excel('coalpublic2013.xlsx') \n",
    "df[df[\"Mine_Name\"].map(lambda x: x.startswith('P'))].head()"
   ]
  },
  {
   "cell_type": "markdown",
   "metadata": {},
   "source": [
    "<b>Q119. Write a Pandas program to import excel data (employee.xlsx ) into a Pandas dataframe and find the list of employees where hire_date> 01-01-07.</b>"
   ]
  },
  {
   "cell_type": "code",
   "execution_count": 54,
   "metadata": {},
   "outputs": [
    {
     "data": {
      "text/html": [
       "<div>\n",
       "<style scoped>\n",
       "    .dataframe tbody tr th:only-of-type {\n",
       "        vertical-align: middle;\n",
       "    }\n",
       "\n",
       "    .dataframe tbody tr th {\n",
       "        vertical-align: top;\n",
       "    }\n",
       "\n",
       "    .dataframe thead th {\n",
       "        text-align: right;\n",
       "    }\n",
       "</style>\n",
       "<table border=\"1\" class=\"dataframe\">\n",
       "  <thead>\n",
       "    <tr style=\"text-align: right;\">\n",
       "      <th></th>\n",
       "      <th>emp_id</th>\n",
       "      <th>first_name</th>\n",
       "      <th>last_name</th>\n",
       "      <th>hire_date</th>\n",
       "    </tr>\n",
       "  </thead>\n",
       "  <tbody>\n",
       "    <tr>\n",
       "      <th>4</th>\n",
       "      <td>104</td>\n",
       "      <td>Bruce</td>\n",
       "      <td>Ernst</td>\n",
       "      <td>2007-05-21</td>\n",
       "    </tr>\n",
       "    <tr>\n",
       "      <th>7</th>\n",
       "      <td>107</td>\n",
       "      <td>Diana</td>\n",
       "      <td>Lorentz</td>\n",
       "      <td>2007-02-07</td>\n",
       "    </tr>\n",
       "    <tr>\n",
       "      <th>13</th>\n",
       "      <td>113</td>\n",
       "      <td>Luis</td>\n",
       "      <td>Popp</td>\n",
       "      <td>2007-12-07</td>\n",
       "    </tr>\n",
       "    <tr>\n",
       "      <th>19</th>\n",
       "      <td>119</td>\n",
       "      <td>Karen</td>\n",
       "      <td>Colmenares</td>\n",
       "      <td>2007-08-10</td>\n",
       "    </tr>\n",
       "  </tbody>\n",
       "</table>\n",
       "</div>"
      ],
      "text/plain": [
       "    emp_id first_name   last_name  hire_date\n",
       "4      104      Bruce       Ernst 2007-05-21\n",
       "7      107      Diana     Lorentz 2007-02-07\n",
       "13     113       Luis        Popp 2007-12-07\n",
       "19     119      Karen  Colmenares 2007-08-10"
      ]
     },
     "execution_count": 54,
     "metadata": {},
     "output_type": "execute_result"
    }
   ],
   "source": [
    "df = pd.read_excel('\\employee.xlsx') \n",
    "df[df['hire_date'] >='20070101']"
   ]
  },
  {
   "cell_type": "markdown",
   "metadata": {},
   "source": [
    "<b>Q120. Write a Pandas program to import excel data (employee.xlsx ) into a Pandas dataframe and find a list of the employees of a specified year</b>"
   ]
  },
  {
   "cell_type": "code",
   "execution_count": 55,
   "metadata": {},
   "outputs": [
    {
     "data": {
      "text/html": [
       "<div>\n",
       "<style scoped>\n",
       "    .dataframe tbody tr th:only-of-type {\n",
       "        vertical-align: middle;\n",
       "    }\n",
       "\n",
       "    .dataframe tbody tr th {\n",
       "        vertical-align: top;\n",
       "    }\n",
       "\n",
       "    .dataframe thead th {\n",
       "        text-align: right;\n",
       "    }\n",
       "</style>\n",
       "<table border=\"1\" class=\"dataframe\">\n",
       "  <thead>\n",
       "    <tr style=\"text-align: right;\">\n",
       "      <th></th>\n",
       "      <th>emp_id</th>\n",
       "      <th>first_name</th>\n",
       "      <th>last_name</th>\n",
       "    </tr>\n",
       "    <tr>\n",
       "      <th>hire_date</th>\n",
       "      <th></th>\n",
       "      <th></th>\n",
       "      <th></th>\n",
       "    </tr>\n",
       "  </thead>\n",
       "  <tbody>\n",
       "    <tr>\n",
       "      <th>2005-09-21</th>\n",
       "      <td>101</td>\n",
       "      <td>Neena</td>\n",
       "      <td>Kochhar</td>\n",
       "    </tr>\n",
       "    <tr>\n",
       "      <th>2005-06-25</th>\n",
       "      <td>105</td>\n",
       "      <td>David</td>\n",
       "      <td>Austin</td>\n",
       "    </tr>\n",
       "    <tr>\n",
       "      <th>2005-09-28</th>\n",
       "      <td>110</td>\n",
       "      <td>John</td>\n",
       "      <td>Chen</td>\n",
       "    </tr>\n",
       "    <tr>\n",
       "      <th>2005-09-30</th>\n",
       "      <td>111</td>\n",
       "      <td>Ismael</td>\n",
       "      <td>Sciarra</td>\n",
       "    </tr>\n",
       "    <tr>\n",
       "      <th>2005-12-24</th>\n",
       "      <td>116</td>\n",
       "      <td>Shelli</td>\n",
       "      <td>Baida</td>\n",
       "    </tr>\n",
       "    <tr>\n",
       "      <th>2005-07-24</th>\n",
       "      <td>117</td>\n",
       "      <td>Sigal</td>\n",
       "      <td>Tobias</td>\n",
       "    </tr>\n",
       "  </tbody>\n",
       "</table>\n",
       "</div>"
      ],
      "text/plain": [
       "            emp_id first_name last_name\n",
       "hire_date                              \n",
       "2005-09-21     101      Neena   Kochhar\n",
       "2005-06-25     105      David    Austin\n",
       "2005-09-28     110       John      Chen\n",
       "2005-09-30     111     Ismael   Sciarra\n",
       "2005-12-24     116     Shelli     Baida\n",
       "2005-07-24     117      Sigal    Tobias"
      ]
     },
     "execution_count": 55,
     "metadata": {},
     "output_type": "execute_result"
    }
   ],
   "source": [
    "df = pd.read_excel('employee.xlsx') \n",
    "df2 = df.set_index(['hire_date']) \n",
    "result = df2[\"2005\"] \n",
    "result"
   ]
  },
  {
   "cell_type": "markdown",
   "metadata": {},
   "source": [
    "<b>Q121. Write a pandas program to import three datasheets from a given excel data (coalpublic2013.xlsx ) in to a single dataframe.</b>"
   ]
  },
  {
   "cell_type": "code",
   "execution_count": 56,
   "metadata": {},
   "outputs": [
    {
     "name": "stdout",
     "output_type": "stream",
     "text": [
      "    emp_id   first_name    last_name  hire_date\n",
      "0      100       Steven         King 2003-06-17\n",
      "1      101        Neena      Kochhar 2005-09-21\n",
      "2      102          Lex      De Haan 2001-01-13\n",
      "3      103    Alexander       Hunold 2006-01-03\n",
      "4      104        Bruce        Ernst 2007-05-21\n",
      "5      105        David       Austin 2005-06-25\n",
      "6      106        Valli    Pataballa 2006-02-05\n",
      "7      107        Diana      Lorentz 2007-02-07\n",
      "8      108        Nancy    Greenberg 2002-08-17\n",
      "9      109       Daniel       Faviet 2002-08-16\n",
      "10     110         John         Chen 2005-09-28\n",
      "11     111       Ismael      Sciarra 2005-09-30\n",
      "12     112  Jose Manuel        Urman 2006-03-07\n",
      "13     113         Luis         Popp 2007-12-07\n",
      "14     114          Den     Raphaely 2002-12-07\n",
      "15     115    Alexander         Khoo 2003-05-18\n",
      "16     116       Shelli        Baida 2005-12-24\n",
      "17     117        Sigal       Tobias 2005-07-24\n",
      "18     118          Guy       Himuro 2006-11-15\n",
      "19     119        Karen   Colmenares 2007-08-10\n",
      "0      120      Matthew        Weiss 2004-07-18\n",
      "1      121         Adam        Fripp 2005-04-10\n",
      "2      122        Payam     Kaufling 2003-05-01\n",
      "3      123       Shanta      Vollman 2005-10-10\n",
      "4      124        Kevin      Mourgos 2007-11-16\n",
      "5      125        Julia        Nayer 2005-07-16\n",
      "6      126        Irene  Mikkilineni 2006-09-28\n",
      "7      127        James       Landry 2007-01-14\n",
      "8      128       Steven       Markle 2008-03-08\n",
      "9      129        Laura       Bissot 2005-08-20\n",
      "10     130        Mozhe     Atkinson 2005-10-30\n",
      "11     131        James       Marlow 2005-02-16\n",
      "12     132           TJ        Olson 2007-04-10\n",
      "13     133        Jason       Mallin 2004-06-14\n",
      "14     134      Michael       Rogers 2006-08-26\n",
      "15     135           Ki          Gee 2007-12-12\n",
      "16     136        Hazel   Philtanker 2008-02-06\n",
      "17     137       Renske       Ladwig 2003-07-14\n",
      "18     138      Stephen       Stiles 2005-10-26\n",
      "0      141       Trenna         Rajs 2003-10-17\n",
      "1      142       Curtis       Davies 2005-01-29\n",
      "2      143      Randall        Matos 2006-03-15\n",
      "3      144        Peter       Vargas 2006-07-09\n",
      "4      145         John      Russell 2004-10-01\n",
      "5      146        Karen     Partners 2005-01-05\n",
      "6      147      Alberto    Errazuriz 2005-03-10\n",
      "7      148       Gerald    Cambrault 2007-10-15\n",
      "8      149        Eleni      Zlotkey 2008-01-29\n"
     ]
    }
   ],
   "source": [
    "df1 = pd.read_excel('employee.xlsx',sheet_name=0) \n",
    "df2 = pd.read_excel('employee.xlsx',sheet_name=1) \n",
    "df3 = pd.read_excel('employee.xlsx',sheet_name=2) \n",
    "df = pd.concat([df1, df2, df3]) \n",
    "print(df)"
   ]
  },
  {
   "cell_type": "markdown",
   "metadata": {},
   "source": [
    "<b>Q 122. Write a pandas program to import three datasheets from a given excel data (employee.xlsx ) into a single data frame and export the result into new Excel file.</b>"
   ]
  },
  {
   "cell_type": "code",
   "execution_count": 57,
   "metadata": {},
   "outputs": [],
   "source": [
    "df1 = pd.read_excel('employee.xlsx',sheet_name=0) \n",
    "df2 = pd.read_excel('employee.xlsx',sheet_name=1) \n",
    "df3 = pd.read_excel('employee.xlsx',sheet_name=2) \n",
    "df = pd.concat([df1, df2, df3]) \n",
    "df.to_excel('e:\\output.xlsx', index=False)"
   ]
  },
  {
   "cell_type": "markdown",
   "metadata": {},
   "source": [
    "<b>Q123. Write a pandas program to create the Pivot table with multiple indexes from the data set of the titanic.csv.</b>"
   ]
  },
  {
   "cell_type": "code",
   "execution_count": 58,
   "metadata": {},
   "outputs": [
    {
     "name": "stdout",
     "output_type": "stream",
     "text": [
      "              Unnamed: 15  adult_male  alone      fare  parch  pclass  sibsp  survived\n",
      "sex    age                                                                            \n",
      "female 0.75           0.0         0.0    0.0   38.5166      2       6      4         2\n",
      "       1.00           0.0         0.0    0.0   26.8750      3       6      1         2\n",
      "       2.00           0.0         0.0    0.0  259.4750      9      15      9         2\n",
      "       3.00           0.0         0.0    0.0   62.6542      3       5      4         1\n",
      "       4.00           0.0         0.0    0.0  114.1417      6      13      4         5\n",
      "       5.00           0.0         0.0    1.0   90.8708      5      11      7         4\n",
      "       6.00           0.0         0.0    0.0   64.2750      3       5      4         1\n",
      "       7.00           0.0         0.0    0.0   26.2500      2       2      0         1\n",
      "       8.00           0.0         0.0    0.0   47.3250      3       5      3         1\n",
      "       9.00           0.0         0.0    0.0  108.7958      7      12     10         0\n",
      "       10.00          0.0         0.0    0.0   24.1500      2       3      0         0\n",
      "       11.00          0.0         0.0    0.0   31.2750      2       3      4         0\n",
      "       13.00          0.0         0.0    1.0   26.7292      1       5      0         2\n",
      "       14.00          0.0         0.0    1.0  169.1667      2       9      3         3\n",
      "       14.50          0.0         0.0    0.0   14.4542      0       3      1         0\n",
      "       15.00          0.0         0.0    2.0  241.0459      1      10      1         4\n",
      "       16.00          0.0         0.0    3.0  246.2625      4      12      5         5\n",
      "       17.00          0.0         0.0    3.0  210.7833      2      12      6         5\n",
      "       18.00          0.0         0.0    4.0  697.0167      9      31      6         8\n",
      "       19.00          0.0         0.0    3.0  215.0959      2      13      3         7\n",
      "       20.00          0.0         0.0    1.0   18.4875      0       6      1         0\n",
      "       21.00          0.0         0.0    4.0  410.4333      4      16      5         4\n",
      "       22.00          0.0         0.0    7.0  444.1084      6      26      3        10\n",
      "       23.00          0.0         0.0    3.0  405.5417      2      10      4         4\n",
      "       24.00          0.0         0.0    7.0  772.1708     15      31     10        14\n",
      "       25.00          0.0         0.0    1.0  223.2500      4      11      3         2\n",
      "       26.00          0.0         0.0    3.0  136.7292      1      12      2         3\n",
      "       27.00          0.0         0.0    2.0   76.8916      3      15      2         5\n",
      "       28.00          0.0         0.0    4.0  110.9458      1      16      3         5\n",
      "       29.00          0.0         0.0    2.0  320.6208      7      16      3         5\n",
      "       30.00          0.0         0.0    9.0  465.9917      1      20      4         9\n",
      "       30.50          0.0         0.0    1.0    7.7500      0       3      0         0\n",
      "       31.00          0.0         0.0    2.0  359.4542      4      16      4         5\n",
      "       32.00          0.0         0.0    2.0  104.7917      1       6      1         2\n",
      "       32.50          0.0         0.0    1.0   13.0000      0       2      0         1\n",
      "       33.00          0.0         0.0    1.0  299.2000      4      10      6         6\n",
      "       34.00          0.0         0.0    2.0   79.0000      2       8      1         4\n",
      "       35.00          0.0         0.0    3.0  967.7875      1      11      5         8\n",
      "       36.00          0.0         0.0    3.0  396.0333      4      12      3         7\n",
      "       37.00          0.0         0.0    1.0    9.5875      0       3      0         0\n",
      "       38.00          0.0         0.0    3.0  423.1958      5       8      2         4\n",
      "       39.00          0.0         0.0    0.0  389.9916     13      10      5         4\n",
      "       40.00          0.0         0.0    3.0  365.1875      2      11      3         5\n",
      "       41.00          0.0         0.0    1.0  213.9000      8       9      0         2\n",
      "       42.00          0.0         0.0    2.0  266.5250      0       5      1         3\n",
      "       43.00          0.0         0.0    0.0  258.2375      7       4      1         1\n",
      "       44.00          0.0         0.0    1.0  111.7000      1       4      1         2\n",
      "       45.00          0.0         0.0    2.0  254.7209      7      14      3         3\n",
      "       47.00          0.0         0.0    0.0   67.0542      1       4      2         1\n",
      "       48.00          0.0         0.0    1.0  164.9042      5       7      3         3\n",
      "       49.00          0.0         0.0    1.0  102.6584      0       2      1         2\n",
      "       50.00          0.0         0.0    3.0  323.2333      2       8      0         4\n",
      "       51.00          0.0         0.0    0.0   77.9583      0       1      1         1\n",
      "       52.00          0.0         0.0    0.0  171.7667      1       2      2         2\n",
      "       53.00          0.0         0.0    0.0   51.4792      0       1      2         1\n",
      "       54.00          0.0         0.0    0.0  160.6667      3       4      3         3\n",
      "       55.00          0.0         0.0    1.0   16.0000      0       2      0         1\n",
      "       56.00          0.0         0.0    0.0   83.1583      1       1      0         1\n",
      "       57.00          0.0         0.0    1.0   10.5000      0       2      0         0\n",
      "       58.00          0.0         0.0    2.0  326.5333      1       3      0         3\n",
      "       60.00          0.0         0.0    0.0   75.2500      0       1      1         1\n",
      "       62.00          0.0         0.0    1.0   80.0000      0       1      0         1\n",
      "       63.00          0.0         0.0    1.0   87.5458      0       4      1         2\n",
      "male   0.42           0.0         0.0    0.0    8.5167      1       3      0         1\n",
      "       0.67           0.0         0.0    0.0   14.5000      1       2      1         1\n",
      "       0.83           0.0         0.0    0.0   47.7500      3       4      1         2\n",
      "       0.92           0.0         0.0    0.0  151.5500      2       1      1         1\n",
      "       1.00           0.0         0.0    0.0  183.1667      8      13     12         3\n",
      "       2.00           0.0         0.0    0.0  115.8875      4      11     12         1\n",
      "       3.00           0.0         0.0    0.0   92.0375      5      10      7         4\n",
      "       4.00           0.0         0.0    0.0  181.2916      8      13     12         2\n",
      "       6.00           0.0         0.0    0.0   12.4750      1       3      0         1\n",
      "       7.00           0.0         0.0    0.0   68.8125      2       6      8         0\n",
      "       8.00           0.0         0.0    0.0   65.8750      2       5      5         1\n",
      "       9.00           0.0         0.0    0.0  114.7125      7      12     10         2\n",
      "       10.00          0.0         0.0    0.0   27.9000      2       3      3         0\n",
      "       11.00          0.0         0.0    1.0  185.6875      4       7      6         1\n",
      "       12.00          0.0         0.0    0.0   11.2417      0       3      1         1\n",
      "       14.00          0.0         0.0    0.0   86.5875      3       6      9         0\n",
      "       15.00          0.0         0.0    0.0    7.2292      1       3      1         0\n",
      "       16.00          0.0        11.0    7.0  191.4042      5      31      8         1\n",
      "       17.00          0.0         7.0    4.0  158.2792      3      19      2         1\n",
      "       18.00          0.0        13.0    9.0  292.6333      2      33      4         1\n",
      "       19.00          0.0        18.0   15.0  481.6415      3      46      5         2\n",
      "       20.00          0.0        13.0   11.0  110.8751      1      39      2         3\n",
      "       20.50          0.0         1.0    1.0    7.2500      0       3      0         0\n",
      "       21.00          0.0        17.0   14.0  347.1416      1      46      3         1\n",
      "       22.00          0.0        15.0   14.0  244.5207      0      43      1         1\n",
      "       23.00          0.0        10.0    8.0  164.3791      2      22      2         1\n",
      "       23.50          0.0         1.0    1.0    7.2292      0       3      0         0\n",
      "       24.00          0.0        14.0   10.0  518.8999      1      35      5         1\n",
      "       24.50          0.0         1.0    1.0    8.0500      0       3      0         0\n",
      "       25.00          0.0        18.0   11.0  338.3126      2      45      7         4\n",
      "       26.00          0.0        13.0    9.0  206.8333      2      36      5         3\n",
      "       27.00          0.0        12.0    9.0  469.6125      2      25      2         6\n",
      "       28.00          0.0        18.0   14.0  414.5582      1      42      4         2\n",
      "       28.50          0.0         2.0    2.0   23.3292      0       6      0         0\n",
      "       29.00          0.0        13.0    9.0  221.1957      0      32      4         3\n",
      "       30.00          0.0        14.0   12.0  172.5500      0      35      2         1\n",
      "       30.50          0.0         1.0    1.0    8.0500      0       3      0         0\n",
      "       31.00          0.0        10.0    6.0  269.7000      2      20      4         3\n",
      "       32.00          0.0        15.0   12.0  333.0291      0      40      4         7\n",
      "       32.50          0.0         1.0    0.0   30.0708      0       2      1         0\n",
      "       33.00          0.0         9.0    8.0   88.1833      1      24      1         0\n",
      "       34.00          0.0        11.0    7.0  170.5458      1      25      4         2\n",
      "       34.50          0.0         1.0    1.0    6.4375      0       3      0         0\n",
      "       35.00          0.0        10.0   10.0  639.8375      0      22      0         3\n",
      "       36.00          0.0        15.0    9.0  923.1958      6      29      5         4\n",
      "       36.50          0.0         1.0    0.0   26.0000      2       2      0         0\n",
      "       37.00          0.0         5.0    0.0  169.2792      2       8      5         1\n",
      "       38.00          0.0         6.0    4.0  267.0708      1      12      1         1\n",
      "       39.00          0.0         8.0    7.0  123.2750      5      19      1         1\n",
      "       40.00          0.0         7.0    5.0  117.2416      5      15      2         1\n",
      "       40.50          0.0         2.0    1.0   22.2500      2       6      0         0\n",
      "       41.00          0.0         2.0    1.0   21.2333      0       6      2         0\n",
      "       42.00          0.0        10.0    6.0  216.1084      1      21      3         3\n",
      "       43.00          0.0         3.0    2.0   40.7500      1       8      1         0\n",
      "       44.00          0.0         6.0    3.0  156.1250      1      15      3         1\n",
      "       45.00          0.0         6.0    5.0  187.1000      0      10      1         2\n",
      "       45.50          0.0         2.0    2.0   35.7250      0       4      0         0\n",
      "       46.00          0.0         3.0    2.0  166.3750      0       4      1         0\n",
      "       47.00          0.0         7.0    7.0  181.3583      0      12      0         0\n",
      "       48.00          0.0         5.0    3.0  176.1334      0       8      2         3\n",
      "       49.00          0.0         4.0    1.0  256.9167      1       6      3         2\n",
      "       50.00          0.0         5.0    2.0  317.0250      0       8      4         1\n",
      "       51.00          0.0         6.0    5.0  123.3084      1      13      0         1\n",
      "       52.00          0.0         4.0    3.0  136.6500      1       6      1         1\n",
      "       54.00          0.0         5.0    3.0  195.1500      1       8      1         0\n",
      "       55.00          0.0         1.0    1.0   30.5000      0       1      0         0\n",
      "       55.50          0.0         1.0    1.0    8.0500      0       3      0         0\n",
      "       56.00          0.0         3.0    3.0   92.7458      0       3      0         1\n",
      "       57.00          0.0         1.0    1.0   12.3500      0       2      0         0\n",
      "       58.00          0.0         2.0    1.0  142.9750      2       2      0         0\n",
      "       59.00          0.0         2.0    2.0   20.7500      0       5      0         0\n",
      "       60.00          0.0         3.0    1.0  144.7500      2       4      2         1\n",
      "       61.00          0.0         3.0    3.0   72.0583      0       5      0         0\n",
      "       62.00          0.0         3.0    3.0   63.6000      0       4      0         1\n",
      "       64.00          0.0         2.0    1.0  289.0000      4       2      1         0\n",
      "       65.00          0.0         3.0    2.0   96.2792      1       5      0         0\n",
      "       66.00          0.0         1.0    1.0   10.5000      0       2      0         0\n",
      "       70.00          0.0         2.0    1.0   81.5000      1       3      1         0\n",
      "       70.50          0.0         1.0    1.0    7.7500      0       3      0         0\n",
      "       71.00          0.0         2.0    2.0   84.1584      0       2      0         0\n",
      "       74.00          0.0         1.0    1.0    7.7750      0       3      0         0\n",
      "       80.00          0.0         1.0    1.0   30.0000      0       1      0         1\n"
     ]
    }
   ],
   "source": [
    "df = pd.read_csv('titanic.csv')\n",
    "result = pd.pivot_table(df, index = [\"sex\",\"age\"], aggfunc=np.sum) \n",
    "print(result)"
   ]
  },
  {
   "cell_type": "markdown",
   "metadata": {},
   "source": [
    "<b>Q124. Write a Pandas program to create the Pivot table and find survival rate by gender?</b>"
   ]
  },
  {
   "cell_type": "code",
   "execution_count": 59,
   "metadata": {},
   "outputs": [
    {
     "name": "stdout",
     "output_type": "stream",
     "text": [
      "        survived\n",
      "sex             \n",
      "female  0.742038\n",
      "male    0.188908\n"
     ]
    }
   ],
   "source": [
    "df = pd.read_csv('titanic.csv') \n",
    "result=df.groupby('sex')[['survived']].mean() \n",
    "print(result)"
   ]
  },
  {
   "cell_type": "markdown",
   "metadata": {},
   "source": [
    "<b>Q125. Write a pandas program to make partition each of the passengers into 4 categories based on their age.</b>"
   ]
  },
  {
   "cell_type": "code",
   "execution_count": 60,
   "metadata": {},
   "outputs": [
    {
     "name": "stdout",
     "output_type": "stream",
     "text": [
      "0      (10, 30]\n",
      "1      (30, 60]\n",
      "2      (10, 30]\n",
      "3      (30, 60]\n",
      "4      (30, 60]\n",
      "5           NaN\n",
      "6      (30, 60]\n",
      "7       (0, 10]\n",
      "8      (10, 30]\n",
      "9      (10, 30]\n",
      "10      (0, 10]\n",
      "11     (30, 60]\n",
      "12     (10, 30]\n",
      "13     (30, 60]\n",
      "14     (10, 30]\n",
      "15     (30, 60]\n",
      "16      (0, 10]\n",
      "17          NaN\n",
      "18     (30, 60]\n",
      "19          NaN\n",
      "20     (30, 60]\n",
      "21     (30, 60]\n",
      "22     (10, 30]\n",
      "23     (10, 30]\n",
      "24      (0, 10]\n",
      "25     (30, 60]\n",
      "26          NaN\n",
      "27     (10, 30]\n",
      "28          NaN\n",
      "29          NaN\n",
      "30     (30, 60]\n",
      "31          NaN\n",
      "32          NaN\n",
      "33     (60, 80]\n",
      "34     (10, 30]\n",
      "35     (30, 60]\n",
      "36          NaN\n",
      "37     (10, 30]\n",
      "38     (10, 30]\n",
      "39     (10, 30]\n",
      "40     (30, 60]\n",
      "41     (10, 30]\n",
      "42          NaN\n",
      "43      (0, 10]\n",
      "44     (10, 30]\n",
      "45          NaN\n",
      "46          NaN\n",
      "47          NaN\n",
      "48          NaN\n",
      "49     (10, 30]\n",
      "50      (0, 10]\n",
      "51     (10, 30]\n",
      "52     (30, 60]\n",
      "53     (10, 30]\n",
      "54     (60, 80]\n",
      "55          NaN\n",
      "56     (10, 30]\n",
      "57     (10, 30]\n",
      "58      (0, 10]\n",
      "59     (10, 30]\n",
      "60     (10, 30]\n",
      "61     (30, 60]\n",
      "62     (30, 60]\n",
      "63      (0, 10]\n",
      "64          NaN\n",
      "65          NaN\n",
      "66     (10, 30]\n",
      "67     (10, 30]\n",
      "68     (10, 30]\n",
      "69     (10, 30]\n",
      "70     (30, 60]\n",
      "71     (10, 30]\n",
      "72     (10, 30]\n",
      "73     (10, 30]\n",
      "74     (30, 60]\n",
      "75     (10, 30]\n",
      "76          NaN\n",
      "77          NaN\n",
      "78      (0, 10]\n",
      "79     (10, 30]\n",
      "80     (10, 30]\n",
      "81     (10, 30]\n",
      "82          NaN\n",
      "83     (10, 30]\n",
      "84     (10, 30]\n",
      "85     (30, 60]\n",
      "86     (10, 30]\n",
      "87          NaN\n",
      "88     (10, 30]\n",
      "89     (10, 30]\n",
      "90     (10, 30]\n",
      "91     (10, 30]\n",
      "92     (30, 60]\n",
      "93     (10, 30]\n",
      "94     (30, 60]\n",
      "95          NaN\n",
      "96     (60, 80]\n",
      "97     (10, 30]\n",
      "98     (30, 60]\n",
      "99     (30, 60]\n",
      "100    (10, 30]\n",
      "101         NaN\n",
      "102    (10, 30]\n",
      "103    (30, 60]\n",
      "104    (30, 60]\n",
      "105    (10, 30]\n",
      "106    (10, 30]\n",
      "107         NaN\n",
      "108    (30, 60]\n",
      "109         NaN\n",
      "110    (30, 60]\n",
      "111    (10, 30]\n",
      "112    (10, 30]\n",
      "113    (10, 30]\n",
      "114    (10, 30]\n",
      "115    (10, 30]\n",
      "116    (60, 80]\n",
      "117    (10, 30]\n",
      "118    (10, 30]\n",
      "119     (0, 10]\n",
      "120    (10, 30]\n",
      "121         NaN\n",
      "122    (30, 60]\n",
      "123    (30, 60]\n",
      "124    (30, 60]\n",
      "125    (10, 30]\n",
      "126         NaN\n",
      "127    (10, 30]\n",
      "128         NaN\n",
      "129    (30, 60]\n",
      "130    (30, 60]\n",
      "131    (10, 30]\n",
      "132    (30, 60]\n",
      "133    (10, 30]\n",
      "134    (10, 30]\n",
      "135    (10, 30]\n",
      "136    (10, 30]\n",
      "137    (30, 60]\n",
      "138    (10, 30]\n",
      "139    (10, 30]\n",
      "140         NaN\n",
      "141    (10, 30]\n",
      "142    (10, 30]\n",
      "143    (10, 30]\n",
      "144    (10, 30]\n",
      "145    (10, 30]\n",
      "146    (10, 30]\n",
      "147     (0, 10]\n",
      "148    (30, 60]\n",
      "149    (30, 60]\n",
      "150    (30, 60]\n",
      "151    (10, 30]\n",
      "152    (30, 60]\n",
      "153    (30, 60]\n",
      "154         NaN\n",
      "155    (30, 60]\n",
      "156    (10, 30]\n",
      "157    (10, 30]\n",
      "158         NaN\n",
      "159         NaN\n",
      "160    (30, 60]\n",
      "161    (30, 60]\n",
      "162    (10, 30]\n",
      "163    (10, 30]\n",
      "164     (0, 10]\n",
      "165     (0, 10]\n",
      "166         NaN\n",
      "167    (30, 60]\n",
      "168         NaN\n",
      "169    (10, 30]\n",
      "170    (60, 80]\n",
      "171     (0, 10]\n",
      "172     (0, 10]\n",
      "173    (10, 30]\n",
      "174    (30, 60]\n",
      "175    (10, 30]\n",
      "176         NaN\n",
      "177    (30, 60]\n",
      "178    (10, 30]\n",
      "179    (30, 60]\n",
      "180         NaN\n",
      "181         NaN\n",
      "182     (0, 10]\n",
      "183     (0, 10]\n",
      "184     (0, 10]\n",
      "185         NaN\n",
      "186         NaN\n",
      "187    (30, 60]\n",
      "188    (30, 60]\n",
      "189    (30, 60]\n",
      "190    (30, 60]\n",
      "191    (10, 30]\n",
      "192    (10, 30]\n",
      "193     (0, 10]\n",
      "194    (30, 60]\n",
      "195    (30, 60]\n",
      "196         NaN\n",
      "197    (30, 60]\n",
      "198         NaN\n",
      "199    (10, 30]\n",
      "200    (10, 30]\n",
      "201         NaN\n",
      "202    (30, 60]\n",
      "203    (30, 60]\n",
      "204    (10, 30]\n",
      "205     (0, 10]\n",
      "206    (30, 60]\n",
      "207    (10, 30]\n",
      "208    (10, 30]\n",
      "209    (30, 60]\n",
      "210    (10, 30]\n",
      "211    (30, 60]\n",
      "212    (10, 30]\n",
      "213    (10, 30]\n",
      "214         NaN\n",
      "215    (30, 60]\n",
      "216    (10, 30]\n",
      "217    (30, 60]\n",
      "218    (30, 60]\n",
      "219    (10, 30]\n",
      "220    (10, 30]\n",
      "221    (10, 30]\n",
      "222    (30, 60]\n",
      "223         NaN\n",
      "224    (30, 60]\n",
      "225    (10, 30]\n",
      "226    (10, 30]\n",
      "227    (10, 30]\n",
      "228    (10, 30]\n",
      "229         NaN\n",
      "230    (30, 60]\n",
      "231    (10, 30]\n",
      "232    (30, 60]\n",
      "233     (0, 10]\n",
      "234    (10, 30]\n",
      "235         NaN\n",
      "236    (30, 60]\n",
      "237     (0, 10]\n",
      "238    (10, 30]\n",
      "239    (30, 60]\n",
      "240         NaN\n",
      "241         NaN\n",
      "242    (10, 30]\n",
      "243    (10, 30]\n",
      "244    (10, 30]\n",
      "245    (30, 60]\n",
      "246    (10, 30]\n",
      "247    (10, 30]\n",
      "248    (30, 60]\n",
      "249    (30, 60]\n",
      "         ...   \n",
      "641    (10, 30]\n",
      "642     (0, 10]\n",
      "643         NaN\n",
      "644     (0, 10]\n",
      "645    (30, 60]\n",
      "646    (10, 30]\n",
      "647    (30, 60]\n",
      "648         NaN\n",
      "649    (10, 30]\n",
      "650         NaN\n",
      "651    (10, 30]\n",
      "652    (10, 30]\n",
      "653         NaN\n",
      "654    (10, 30]\n",
      "655    (10, 30]\n",
      "656         NaN\n",
      "657    (30, 60]\n",
      "658    (10, 30]\n",
      "659    (30, 60]\n",
      "660    (30, 60]\n",
      "661    (30, 60]\n",
      "662    (30, 60]\n",
      "663    (30, 60]\n",
      "664    (10, 30]\n",
      "665    (30, 60]\n",
      "666    (10, 30]\n",
      "667         NaN\n",
      "668    (30, 60]\n",
      "669         NaN\n",
      "670    (30, 60]\n",
      "671    (30, 60]\n",
      "672    (60, 80]\n",
      "673    (30, 60]\n",
      "674         NaN\n",
      "675    (10, 30]\n",
      "676    (10, 30]\n",
      "677    (10, 30]\n",
      "678    (30, 60]\n",
      "679    (30, 60]\n",
      "680         NaN\n",
      "681    (10, 30]\n",
      "682    (10, 30]\n",
      "683    (10, 30]\n",
      "684    (30, 60]\n",
      "685    (10, 30]\n",
      "686    (10, 30]\n",
      "687    (10, 30]\n",
      "688    (10, 30]\n",
      "689    (10, 30]\n",
      "690    (30, 60]\n",
      "691     (0, 10]\n",
      "692         NaN\n",
      "693    (10, 30]\n",
      "694    (30, 60]\n",
      "695    (30, 60]\n",
      "696    (30, 60]\n",
      "697         NaN\n",
      "698    (30, 60]\n",
      "699    (30, 60]\n",
      "700    (10, 30]\n",
      "701    (30, 60]\n",
      "702    (10, 30]\n",
      "703    (10, 30]\n",
      "704    (10, 30]\n",
      "705    (30, 60]\n",
      "706    (30, 60]\n",
      "707    (30, 60]\n",
      "708    (10, 30]\n",
      "709         NaN\n",
      "710    (10, 30]\n",
      "711         NaN\n",
      "712    (30, 60]\n",
      "713    (10, 30]\n",
      "714    (30, 60]\n",
      "715    (10, 30]\n",
      "716    (30, 60]\n",
      "717    (10, 30]\n",
      "718         NaN\n",
      "719    (30, 60]\n",
      "720     (0, 10]\n",
      "721    (10, 30]\n",
      "722    (30, 60]\n",
      "723    (30, 60]\n",
      "724    (10, 30]\n",
      "725    (10, 30]\n",
      "726    (10, 30]\n",
      "727         NaN\n",
      "728    (10, 30]\n",
      "729    (10, 30]\n",
      "730    (10, 30]\n",
      "731    (10, 30]\n",
      "732         NaN\n",
      "733    (10, 30]\n",
      "734    (10, 30]\n",
      "735    (10, 30]\n",
      "736    (30, 60]\n",
      "737    (30, 60]\n",
      "738         NaN\n",
      "739         NaN\n",
      "740         NaN\n",
      "741    (30, 60]\n",
      "742    (10, 30]\n",
      "743    (10, 30]\n",
      "744    (30, 60]\n",
      "745    (60, 80]\n",
      "746    (10, 30]\n",
      "747    (10, 30]\n",
      "748    (10, 30]\n",
      "749    (30, 60]\n",
      "750     (0, 10]\n",
      "751     (0, 10]\n",
      "752    (30, 60]\n",
      "753    (10, 30]\n",
      "754    (30, 60]\n",
      "755     (0, 10]\n",
      "756    (10, 30]\n",
      "757    (10, 30]\n",
      "758    (30, 60]\n",
      "759    (30, 60]\n",
      "760         NaN\n",
      "761    (30, 60]\n",
      "762    (10, 30]\n",
      "763    (30, 60]\n",
      "764    (10, 30]\n",
      "765    (30, 60]\n",
      "766         NaN\n",
      "767    (30, 60]\n",
      "768         NaN\n",
      "769    (30, 60]\n",
      "770    (10, 30]\n",
      "771    (30, 60]\n",
      "772    (30, 60]\n",
      "773         NaN\n",
      "774    (30, 60]\n",
      "775    (10, 30]\n",
      "776         NaN\n",
      "777     (0, 10]\n",
      "778         NaN\n",
      "779    (30, 60]\n",
      "780    (10, 30]\n",
      "781    (10, 30]\n",
      "782    (10, 30]\n",
      "783         NaN\n",
      "784    (10, 30]\n",
      "785    (10, 30]\n",
      "786    (10, 30]\n",
      "787     (0, 10]\n",
      "788     (0, 10]\n",
      "789    (30, 60]\n",
      "790         NaN\n",
      "791    (10, 30]\n",
      "792         NaN\n",
      "793         NaN\n",
      "794    (10, 30]\n",
      "795    (30, 60]\n",
      "796    (30, 60]\n",
      "797    (30, 60]\n",
      "798    (10, 30]\n",
      "799    (10, 30]\n",
      "800    (30, 60]\n",
      "801    (30, 60]\n",
      "802    (10, 30]\n",
      "803     (0, 10]\n",
      "804    (10, 30]\n",
      "805    (30, 60]\n",
      "806    (30, 60]\n",
      "807    (10, 30]\n",
      "808    (30, 60]\n",
      "809    (30, 60]\n",
      "810    (10, 30]\n",
      "811    (30, 60]\n",
      "812    (30, 60]\n",
      "813     (0, 10]\n",
      "814    (30, 60]\n",
      "815         NaN\n",
      "816    (10, 30]\n",
      "817    (30, 60]\n",
      "818    (30, 60]\n",
      "819     (0, 10]\n",
      "820    (30, 60]\n",
      "821    (10, 30]\n",
      "822    (30, 60]\n",
      "823    (10, 30]\n",
      "824     (0, 10]\n",
      "825         NaN\n",
      "826         NaN\n",
      "827     (0, 10]\n",
      "828         NaN\n",
      "829    (60, 80]\n",
      "830    (10, 30]\n",
      "831     (0, 10]\n",
      "832         NaN\n",
      "833    (10, 30]\n",
      "834    (10, 30]\n",
      "835    (30, 60]\n",
      "836    (10, 30]\n",
      "837         NaN\n",
      "838    (30, 60]\n",
      "839         NaN\n",
      "840    (10, 30]\n",
      "841    (10, 30]\n",
      "842    (10, 30]\n",
      "843    (30, 60]\n",
      "844    (10, 30]\n",
      "845    (30, 60]\n",
      "846         NaN\n",
      "847    (30, 60]\n",
      "848    (10, 30]\n",
      "849         NaN\n",
      "850     (0, 10]\n",
      "851    (60, 80]\n",
      "852     (0, 10]\n",
      "853    (10, 30]\n",
      "854    (30, 60]\n",
      "855    (10, 30]\n",
      "856    (30, 60]\n",
      "857    (30, 60]\n",
      "858    (10, 30]\n",
      "859         NaN\n",
      "860    (30, 60]\n",
      "861    (10, 30]\n",
      "862    (30, 60]\n",
      "863         NaN\n",
      "864    (10, 30]\n",
      "865    (30, 60]\n",
      "866    (10, 30]\n",
      "867    (30, 60]\n",
      "868         NaN\n",
      "869     (0, 10]\n",
      "870    (10, 30]\n",
      "871    (30, 60]\n",
      "872    (30, 60]\n",
      "873    (30, 60]\n",
      "874    (10, 30]\n",
      "875    (10, 30]\n",
      "876    (10, 30]\n",
      "877    (10, 30]\n",
      "878         NaN\n",
      "879    (30, 60]\n",
      "880    (10, 30]\n",
      "881    (30, 60]\n",
      "882    (10, 30]\n",
      "883    (10, 30]\n",
      "884    (10, 30]\n",
      "885    (30, 60]\n",
      "886    (10, 30]\n",
      "887    (10, 30]\n",
      "888         NaN\n",
      "889    (10, 30]\n",
      "890    (30, 60]\n",
      "Name: age, Length: 891, dtype: category\n",
      "Categories (4, interval[int64]): [(0, 10] < (10, 30] < (30, 60] < (60, 80]]\n"
     ]
    }
   ],
   "source": [
    "df = pd.read_csv('titanic.csv') \n",
    "result = pd.cut(df['age'], [0, 10, 30, 60, 80]) \n",
    "print(result)"
   ]
  },
  {
   "cell_type": "markdown",
   "metadata": {},
   "source": [
    "<b>Q126. Write a pandas program to create the Pivot table and find survival rate by the gender, age of the different categories of various classes.</b>"
   ]
  },
  {
   "cell_type": "code",
   "execution_count": 63,
   "metadata": {},
   "outputs": [
    {
     "name": "stdout",
     "output_type": "stream",
     "text": [
      "class               First    Second     Third\n",
      "sex    age                                   \n",
      "female (0, 20]   0.928571  1.000000  0.510638\n",
      "       (20, 55]  0.968750  0.912281  0.407407\n",
      "male   (0, 20]   0.571429  0.526316  0.197368\n",
      "       (20, 55]  0.440000  0.054054  0.134503\n"
     ]
    }
   ],
   "source": [
    "df = pd.read_csv('titanic.csv') \n",
    "age = pd.cut(df['age'], [0, 20, 55]) \n",
    "result = df.pivot_table('survived', index=['sex', age], columns='class') \n",
    "print(result)"
   ]
  },
  {
   "cell_type": "markdown",
   "metadata": {},
   "source": [
    "<b>Q127. Write a pandas program to create the Pivot table and calculate number of women and men were in a particular cabin class.</b>"
   ]
  },
  {
   "cell_type": "code",
   "execution_count": 64,
   "metadata": {},
   "outputs": [
    {
     "name": "stdout",
     "output_type": "stream",
     "text": [
      "       Unnamed: 15       adult_male            age          alive           alone           class           deck        embark_town           embarked           fare           parch           sibsp           survived            who          \n",
      "pclass           1  2  3          1    2    3    1   2    3     1    2    3     1    2    3     1    2    3    1   2  3           1    2    3        1    2    3    1    2    3     1    2    3     1    2    3        1    2    3    1    2    3\n",
      "sex                                                                                                                                                                                                                                              \n",
      "female           0  0  0         94   76  144   85  74  102    94   76  144    94   76  144    94   76  144   81  10  6          92   76  144       92   76  144   94   76  144    94   76  144    94   76  144       94   76  144   94   76  144\n",
      "male             0  0  0        122  108  347  101  99  253   122  108  347   122  108  347   122  108  347   94   6  6         122  108  347      122  108  347  122  108  347   122  108  347   122  108  347      122  108  347  122  108  347\n"
     ]
    }
   ],
   "source": [
    "df = pd.read_csv('titanic.csv') \n",
    "result = df.pivot_table(index=['sex'], columns=['pclass'], aggfunc='count') \n",
    "print(result)"
   ]
  },
  {
   "cell_type": "markdown",
   "metadata": {},
   "source": [
    "<b>Q128. Write a pandas program to create the Pivot table and separate the gender according to whether they travelled alone or not to get the probability of survival</b>"
   ]
  },
  {
   "cell_type": "code",
   "execution_count": 65,
   "metadata": {},
   "outputs": [
    {
     "name": "stdout",
     "output_type": "stream",
     "text": [
      "class            First    Second     Third\n",
      "sex    alone                              \n",
      "female False  0.966667  0.931818  0.416667\n",
      "       True   0.970588  0.906250  0.616667\n",
      "male   False  0.425532  0.277778  0.180723\n",
      "       True   0.333333  0.097222  0.121212\n"
     ]
    }
   ],
   "source": [
    "df = pd.read_csv('titanic.csv') \n",
    "result = df.pivot_table( 'survived' , [ 'sex' , 'alone' ] , 'class' ) \n",
    "print(result)"
   ]
  },
  {
   "cell_type": "markdown",
   "metadata": {},
   "source": [
    "<b>Q129. Write a pandas program to create the Pivot table and find the probability of survival by class, gender, solo boarding, and the port of embarkation.</b>"
   ]
  },
  {
   "cell_type": "code",
   "execution_count": 66,
   "metadata": {},
   "outputs": [
    {
     "name": "stdout",
     "output_type": "stream",
     "text": [
      "embark_town  Cherbourg                     Queenstown                  Southampton                    \n",
      "class            First    Second     Third      First Second     Third       First    Second     Third\n",
      "sex    alone                                                                                          \n",
      "female False  1.000000  1.000000  0.611111        1.0    NaN  0.625000    0.941176  0.923077  0.327586\n",
      "       True   0.944444  1.000000  0.800000        NaN    1.0  0.760000    1.000000  0.892857  0.466667\n",
      "male   False  0.473684  0.166667  0.500000        0.0    NaN  0.100000    0.407407  0.300000  0.142857\n",
      "       True   0.347826  0.250000  0.151515        NaN    0.0  0.068966    0.326923  0.089552  0.123762\n"
     ]
    }
   ],
   "source": [
    "df = pd.read_csv('titanic.csv') \n",
    "result = df.pivot_table('survived', ['sex' , 'alone' ], [ 'embark_town', 'class' ]) \n",
    "print(result)"
   ]
  },
  {
   "cell_type": "markdown",
   "metadata": {},
   "source": [
    "<b>Q130. Write a pandas program to get current date, oldest date and number of days between Current date and the oldest date of Ufo dataset.</b>"
   ]
  },
  {
   "cell_type": "code",
   "execution_count": 32,
   "metadata": {},
   "outputs": [
    {
     "name": "stdout",
     "output_type": "stream",
     "text": [
      "Original Dataframe:\n",
      "          Date_time                  city state/province country UFO_shape  \\\n",
      "0  10/10/1949 20:30            san marcos             tx      us  cylinder   \n",
      "1  10/10/1949 21:00          lackland afb             tx     NaN     light   \n",
      "2  10/10/1955 17:00  chester (uk/england)            NaN      gb    circle   \n",
      "3  10/10/1956 21:00                  edna             tx      us    circle   \n",
      "4  10/10/1960 20:00               kaneohe             hi      us     light   \n",
      "\n",
      "  length_of_encounter_seconds described_duration_of_encounter  \\\n",
      "0                        2700                      45 minutes   \n",
      "1                        7200                         1-2 hrs   \n",
      "2                          20                      20 seconds   \n",
      "3                          20                        1/2 hour   \n",
      "4                         900                      15 minutes   \n",
      "\n",
      "                                         description date_documented  \\\n",
      "0  This event took place in early fall around 194...       4/27/2004   \n",
      "1  1949 Lackland AFB&#44 TX.  Lights racing acros...      12/16/2005   \n",
      "2  Green/Orange circular disc over Chester&#44 En...       1/21/2008   \n",
      "3  My older brother and twin sister were leaving ...       1/17/2004   \n",
      "4  AS a Marine 1st Lt. flying an FJ4B fighter/att...       1/22/2004   \n",
      "\n",
      "     latitude   longitude  \n",
      "0  29.8830556  -97.941111  \n",
      "1    29.38421  -98.581082  \n",
      "2        53.2   -2.916667  \n",
      "3  28.9783333  -96.645833  \n",
      "4  21.4180556 -157.803611  \n",
      "\n",
      "Current date of Ufo dataset:\n",
      "9/9/2013 9:51\n",
      "\n",
      "Oldest date of Ufo dataset:\n",
      "1/1/1944 12:00\n",
      "\n",
      "Number of days between Current date and oldest date of Ufo dataset:\n",
      "7190\n"
     ]
    }
   ],
   "source": [
    "df = pd.read_csv(r'ufo.csv') \n",
    "print(\"Original Dataframe:\") \n",
    "print(df.head())\n",
    "print(\"\\nCurrent date of Ufo dataset:\") \n",
    "print(df.Date_time.max())\n",
    "print(\"\\nOldest date of Ufo dataset:\") \n",
    "print(df.Date_time.min())\n",
    "print(\"\\nNumber of days between Current date and oldest date of Ufo dataset:\") \n",
    "print(printDate(df.Date_time.max() - (df.Date_time.min()). days))"
   ]
  },
  {
   "cell_type": "markdown",
   "metadata": {},
   "source": [
    "<b>Q131. Write a pandas program to get all sighting days of the unidentified flying object (ufo) between 1950-10-10 and 1960-10- 10.</b>"
   ]
  },
  {
   "cell_type": "code",
   "execution_count": 5,
   "metadata": {},
   "outputs": [
    {
     "name": "stdout",
     "output_type": "stream",
     "text": [
      "Original Dataframe:\n",
      "            Date_time                  city state/province country UFO_shape  \\\n",
      "0 1949-10-10 20:30:00            san marcos             tx      us  cylinder   \n",
      "1 1949-10-10 21:00:00          lackland afb             tx     NaN     light   \n",
      "2 1955-10-10 17:00:00  chester (uk/england)            NaN      gb    circle   \n",
      "3 1956-10-10 21:00:00                  edna             tx      us    circle   \n",
      "4 1960-10-10 20:00:00               kaneohe             hi      us     light   \n",
      "\n",
      "   length_of_encounter_seconds described_duration_of_encounter  \\\n",
      "0                         2700                      45 minutes   \n",
      "1                         7200                         1-2 hrs   \n",
      "2                           20                      20 seconds   \n",
      "3                           20                        1/2 hour   \n",
      "4                          900                      15 minutes   \n",
      "\n",
      "                                         description date_documented  \\\n",
      "0  This event took place in early fall around 194...       4/27/2004   \n",
      "1  1949 Lackland AFB&#44 TX.  Lights racing acros...      12/16/2005   \n",
      "2  Green/Orange circular disc over Chester&#44 En...       1/21/2008   \n",
      "3  My older brother and twin sister were leaving ...       1/17/2004   \n",
      "4  AS a Marine 1st Lt. flying an FJ4B fighter/att...       1/22/2004   \n",
      "\n",
      "    latitude   longitude  \n",
      "0  29.883056  -97.941111  \n",
      "1  29.384210  -98.581082  \n",
      "2  53.200000   -2.916667  \n",
      "3  28.978333  -96.645833  \n",
      "4  21.418056 -157.803611  \n",
      "\n",
      "Sighting days of the unidentified flying object (ufo) between 1949-10-10 and 1960-10-10:\n",
      "            Date_time                  city state/province country UFO_shape  \\\n",
      "2 1955-10-10 17:00:00  chester (uk/england)            NaN      gb    circle   \n",
      "3 1956-10-10 21:00:00                  edna             tx      us    circle   \n",
      "4 1960-10-10 20:00:00               kaneohe             hi      us     light   \n",
      "\n",
      "   length_of_encounter_seconds described_duration_of_encounter  \\\n",
      "2                           20                      20 seconds   \n",
      "3                           20                        1/2 hour   \n",
      "4                          900                      15 minutes   \n",
      "\n",
      "                                         description date_documented  \\\n",
      "2  Green/Orange circular disc over Chester&#44 En...       1/21/2008   \n",
      "3  My older brother and twin sister were leaving ...       1/17/2004   \n",
      "4  AS a Marine 1st Lt. flying an FJ4B fighter/att...       1/22/2004   \n",
      "\n",
      "    latitude   longitude  \n",
      "2  53.200000   -2.916667  \n",
      "3  28.978333  -96.645833  \n",
      "4  21.418056 -157.803611  \n"
     ]
    }
   ],
   "source": [
    "df = pd.read_csv(r'ufo.csv') \n",
    "df['Date_time'] = df['Date_time'].astype('datetime64[ns]')\n",
    "print(\"Original Dataframe:\") \n",
    "print(df.head())\n",
    "print(\"\\nSighting days of the unidentified flying object (ufo) between 1949-10-10 and 1960-10-10:\") \n",
    "selected_period = df[(df['Date_time'] >= '1950-01-01 00:00:00') & (df['Date_time'] <= '1960-12-31 23:59:59')] \n",
    "print(selected_period)"
   ]
  },
  {
   "cell_type": "markdown",
   "metadata": {},
   "source": [
    "<b>Q132. Write a Pandas program to extract the year, month, day, hour, minute, second, and weekday from unidentified flying object (UFO) reporting date.</b>"
   ]
  },
  {
   "cell_type": "code",
   "execution_count": 4,
   "metadata": {},
   "outputs": [
    {
     "name": "stdout",
     "output_type": "stream",
     "text": [
      "Original Dataframe:\n",
      "            Date_time                  city state/province country UFO_shape  \\\n",
      "0 1949-10-10 20:30:00            san marcos             tx      us  cylinder   \n",
      "1 1949-10-10 21:00:00          lackland afb             tx     NaN     light   \n",
      "2 1955-10-10 17:00:00  chester (uk/england)            NaN      gb    circle   \n",
      "3 1956-10-10 21:00:00                  edna             tx      us    circle   \n",
      "4 1960-10-10 20:00:00               kaneohe             hi      us     light   \n",
      "\n",
      "   length_of_encounter_seconds described_duration_of_encounter  \\\n",
      "0                         2700                      45 minutes   \n",
      "1                         7200                         1-2 hrs   \n",
      "2                           20                      20 seconds   \n",
      "3                           20                        1/2 hour   \n",
      "4                          900                      15 minutes   \n",
      "\n",
      "                                         description date_documented  \\\n",
      "0  This event took place in early fall around 194...       4/27/2004   \n",
      "1  1949 Lackland AFB&#44 TX.  Lights racing acros...      12/16/2005   \n",
      "2  Green/Orange circular disc over Chester&#44 En...       1/21/2008   \n",
      "3  My older brother and twin sister were leaving ...       1/17/2004   \n",
      "4  AS a Marine 1st Lt. flying an FJ4B fighter/att...       1/22/2004   \n",
      "\n",
      "    latitude   longitude  \n",
      "0  29.883056  -97.941111  \n",
      "1  29.384210  -98.581082  \n",
      "2  53.200000   -2.916667  \n",
      "3  28.978333  -96.645833  \n",
      "4  21.418056 -157.803611  \n",
      "\n",
      "Year:\n",
      "0    1949\n",
      "1    1949\n",
      "2    1955\n",
      "3    1956\n",
      "4    1960\n",
      "Name: Date_time, dtype: int64\n",
      "\n",
      "Month:\n",
      "0    10\n",
      "1    10\n",
      "2    10\n",
      "3    10\n",
      "4    10\n",
      "Name: Date_time, dtype: int64\n",
      "\n",
      "Day:\n",
      "0    10\n",
      "1    10\n",
      "2    10\n",
      "3    10\n",
      "4    10\n",
      "Name: Date_time, dtype: int64\n",
      "\n",
      "Hour:\n",
      "0    20\n",
      "1    21\n",
      "2    17\n",
      "3    21\n",
      "4    20\n",
      "Name: Date_time, dtype: int64\n",
      "\n",
      "Minute:\n",
      "0    30\n",
      "1     0\n",
      "2     0\n",
      "3     0\n",
      "4     0\n",
      "Name: Date_time, dtype: int64\n",
      "\n",
      "Second:\n",
      "0    0\n",
      "1    0\n",
      "2    0\n",
      "3    0\n",
      "4    0\n",
      "Name: Date_time, dtype: int64\n",
      "\n",
      "Weekday:\n",
      "0       Monday\n",
      "1       Monday\n",
      "2       Monday\n",
      "3    Wednesday\n",
      "4       Monday\n",
      "Name: Date_time, dtype: object\n"
     ]
    }
   ],
   "source": [
    "df = pd.read_csv(r'ufo.csv') \n",
    "df['Date_time'] = df['Date_time'].astype('datetime64[ns]')\n",
    "\n",
    "print(\"Original Dataframe:\")\n",
    "print(df.head())\n",
    "print(\"\\nYear:\")\n",
    "print(df.Date_time.dt.year.head())\n",
    "print(\"\\nMonth:\") \n",
    "print(df.Date_time.dt.month.head())\n",
    "print(\"\\nDay:\") \n",
    "print(df.Date_time.dt.day.head())\n",
    "print(\"\\nHour:\") \n",
    "print(df.Date_time.dt.hour.head())\n",
    "print(\"\\nMinute:\")\n",
    "print(df.Date_time.dt.minute.head())\n",
    "print(\"\\nSecond:\") \n",
    "print(df.Date_time.dt.second.head())\n",
    "print(\"\\nWeekday:\") \n",
    "print(df.Date_time.dt.weekday_name.head())"
   ]
  },
  {
   "cell_type": "markdown",
   "metadata": {},
   "source": [
    "<b>Q133. Write a pandas program to count year-country wise frequency of reporting dates of the unidentified flying object(UFO).</b>"
   ]
  },
  {
   "cell_type": "code",
   "execution_count": 8,
   "metadata": {},
   "outputs": [
    {
     "name": "stdout",
     "output_type": "stream",
     "text": [
      "Original Dataframe:\n",
      "            Date_time                  city state/province country UFO_shape  \\\n",
      "0 1949-10-10 20:30:00            san marcos             tx      us  cylinder   \n",
      "1 1949-10-10 21:00:00          lackland afb             tx     NaN     light   \n",
      "2 1955-10-10 17:00:00  chester (uk/england)            NaN      gb    circle   \n",
      "3 1956-10-10 21:00:00                  edna             tx      us    circle   \n",
      "4 1960-10-10 20:00:00               kaneohe             hi      us     light   \n",
      "\n",
      "   length_of_encounter_seconds described_duration_of_encounter  \\\n",
      "0                         2700                      45 minutes   \n",
      "1                         7200                         1-2 hrs   \n",
      "2                           20                      20 seconds   \n",
      "3                           20                        1/2 hour   \n",
      "4                          900                      15 minutes   \n",
      "\n",
      "                                         description date_documented  \\\n",
      "0  This event took place in early fall around 194...       4/27/2004   \n",
      "1  1949 Lackland AFB&#44 TX.  Lights racing acros...      12/16/2005   \n",
      "2  Green/Orange circular disc over Chester&#44 En...       1/21/2008   \n",
      "3  My older brother and twin sister were leaving ...       1/17/2004   \n",
      "4  AS a Marine 1st Lt. flying an FJ4B fighter/att...       1/22/2004   \n",
      "\n",
      "    latitude   longitude  \n",
      "0  29.883056  -97.941111  \n",
      "1  29.384210  -98.581082  \n",
      "2  53.200000   -2.916667  \n",
      "3  28.978333  -96.645833  \n",
      "4  21.418056 -157.803611  \n",
      "\n",
      "Country-year wise frequency of reporting dates of UFO:\n",
      "Year  country\n",
      "1949  us          1\n",
      "1955  gb          1\n",
      "1956  us          1\n",
      "1960  us          1\n",
      "1961  us          1\n",
      "1965  gb          1\n",
      "      us          1\n",
      "1966  us          2\n",
      "1968  us          2\n",
      "1970  us          2\n",
      "1971  us          1\n",
      "1972  us          2\n",
      "1973  us          1\n",
      "1974  gb          1\n",
      "      us          2\n",
      "1975  us          1\n",
      "1976  gb          1\n",
      "      us          1\n",
      "1977  us          2\n",
      "1978  us          1\n",
      "1979  us          3\n",
      "1980  us          3\n",
      "1984  us          3\n",
      "1985  gb          1\n",
      "1988  us          4\n",
      "1989  us          2\n",
      "1990  us          1\n",
      "1991  us          2\n",
      "1992  us          4\n",
      "1993  us          2\n",
      "1994  ca          1\n",
      "      us          2\n",
      "1995  us          2\n",
      "1996  us          3\n",
      "1997  us          4\n",
      "1998  ca          1\n",
      "      us          8\n",
      "1999  us         10\n",
      "2000  ca          1\n",
      "      us          6\n",
      "2001  au          1\n",
      "      ca          1\n",
      "      us          6\n",
      "2002  au          1\n",
      "      ca          1\n",
      "      us          5\n",
      "2003  us          8\n",
      "2004  ca          1\n",
      "      us          1\n",
      "dtype: int64\n"
     ]
    }
   ],
   "source": [
    "df = pd.read_csv(r'ufo.csv') \n",
    "df['Date_time'] = df['Date_time'].astype('datetime64[ns]') \n",
    "print(\"Original Dataframe:\") \n",
    "print(df.head()) \n",
    "df['Year'] = df['Date_time'].apply(lambda x: \"%d\" % (x.year)) \n",
    "result = df.groupby(['Year', 'country']).size() \n",
    "print(\"\\nCountry-year wise frequency of reporting dates of UFO:\") \n",
    "print(result)"
   ]
  },
  {
   "cell_type": "markdown",
   "metadata": {},
   "source": [
    "<b>Q134. Write a pandas program to get the difference (in days) between documented date and reporting date of unidentified flying object (UFO).</b>"
   ]
  },
  {
   "cell_type": "code",
   "execution_count": 9,
   "metadata": {},
   "outputs": [
    {
     "name": "stdout",
     "output_type": "stream",
     "text": [
      "Original Dataframe:\n",
      "            Date_time                  city state/province country UFO_shape  \\\n",
      "0 1949-10-10 20:30:00            san marcos             tx      us  cylinder   \n",
      "1 1949-10-10 21:00:00          lackland afb             tx     NaN     light   \n",
      "2 1955-10-10 17:00:00  chester (uk/england)            NaN      gb    circle   \n",
      "3 1956-10-10 21:00:00                  edna             tx      us    circle   \n",
      "4 1960-10-10 20:00:00               kaneohe             hi      us     light   \n",
      "\n",
      "   length_of_encounter_seconds described_duration_of_encounter  \\\n",
      "0                         2700                      45 minutes   \n",
      "1                         7200                         1-2 hrs   \n",
      "2                           20                      20 seconds   \n",
      "3                           20                        1/2 hour   \n",
      "4                          900                      15 minutes   \n",
      "\n",
      "                                         description date_documented  \\\n",
      "0  This event took place in early fall around 194...      2004-04-27   \n",
      "1  1949 Lackland AFB&#44 TX.  Lights racing acros...      2005-12-16   \n",
      "2  Green/Orange circular disc over Chester&#44 En...      2008-01-21   \n",
      "3  My older brother and twin sister were leaving ...      2004-01-17   \n",
      "4  AS a Marine 1st Lt. flying an FJ4B fighter/att...      2004-01-22   \n",
      "\n",
      "    latitude   longitude  \n",
      "0  29.883056  -97.941111  \n",
      "1  29.384210  -98.581082  \n",
      "2  53.200000   -2.916667  \n",
      "3  28.978333  -96.645833  \n",
      "4  21.418056 -157.803611  \n",
      "\n",
      "Difference (in days) between documented date and reporting date of UFO:\n",
      "              Date_time                                        city  \\\n",
      "0   1949-10-10 20:30:00                                  san marcos   \n",
      "1   1949-10-10 21:00:00                                lackland afb   \n",
      "2   1955-10-10 17:00:00                        chester (uk/england)   \n",
      "3   1956-10-10 21:00:00                                        edna   \n",
      "4   1960-10-10 20:00:00                                     kaneohe   \n",
      "5   1961-10-10 19:00:00                                     bristol   \n",
      "6   1965-10-10 21:00:00                          penarth (uk/wales)   \n",
      "7   1965-10-10 23:45:00                                     norwalk   \n",
      "8   1966-10-10 20:00:00                                   pell city   \n",
      "9   1966-10-10 21:00:00                                    live oak   \n",
      "10  1968-10-10 13:00:00                                   hawthorne   \n",
      "11  1968-10-10 19:00:00                                     brevard   \n",
      "12  1970-10-10 16:00:00                                    bellmore   \n",
      "13  1970-10-10 19:00:00                                  manchester   \n",
      "14  1971-10-10 21:00:00                                   lexington   \n",
      "15  1972-10-10 19:00:00                               harlan county   \n",
      "16  1972-10-10 22:30:00                             west bloomfield   \n",
      "17  1973-10-10 19:00:00                                     niantic   \n",
      "18  1973-10-10 23:00:00                                 bermuda nas   \n",
      "19  1974-10-10 19:30:00                                      hudson   \n",
      "20  1974-10-10 21:30:00                          cardiff (uk/wales)   \n",
      "21  1974-10-10 23:00:00                                      hudson   \n",
      "22  1975-10-10 17:00:00                            north charleston   \n",
      "23  1976-10-10 20:30:00                                   washougal   \n",
      "24  1976-10-10 22:00:00               stoke mandeville (uk/england)   \n",
      "25  1977-10-10 12:00:00                                 san antonio   \n",
      "26  1977-10-10 22:00:00                                  louisville   \n",
      "27  1978-10-10 02:00:00                                      elmont   \n",
      "28  1979-10-10 00:00:00                                poughkeepsie   \n",
      "29  1979-10-10 22:00:00                        saddle lake (canada)   \n",
      "..                  ...                                         ...   \n",
      "100 2000-10-10 21:30:00                              seattle (west)   \n",
      "101 2000-10-10 22:00:00                                port orchard   \n",
      "102 2001-10-10 03:00:00                               rockwell city   \n",
      "103 2001-10-10 04:33:00                  sydney (nsw&#44 australia)   \n",
      "104 2001-10-10 20:10:00                          vancouver (canada)   \n",
      "105 2001-10-10 20:35:00                                     hayward   \n",
      "106 2001-10-10 21:15:00                                     ottumwa   \n",
      "107 2001-10-10 21:30:00                                      fresno   \n",
      "108 2001-10-10 22:00:00                                     phoenix   \n",
      "109 2001-10-10 23:00:00                              virginia beach   \n",
      "110 2002-10-10 00:01:00                                     hayward   \n",
      "111 2002-10-10 02:00:00                                   philomath   \n",
      "112 2002-10-10 04:00:00  adelaide (pt. wakefield) (south australia)   \n",
      "113 2002-10-10 06:00:00                                     seattle   \n",
      "114 2002-10-10 19:45:00                           victoria (canada)   \n",
      "115 2002-10-10 20:30:00                                  cincinnati   \n",
      "116 2002-10-10 21:00:00                                    portland   \n",
      "117 2003-10-10 09:00:00                                 new buffulo   \n",
      "118 2003-10-10 12:00:00                                    alhambra   \n",
      "119 2003-10-10 18:00:00                                indianapolis   \n",
      "120 2003-10-10 19:15:00                                 centreville   \n",
      "121 2003-10-10 20:05:00                                  grand view   \n",
      "122 2003-10-10 20:25:00                                  temperance   \n",
      "123 2003-10-10 21:10:00                              crescent beach   \n",
      "124 2003-10-10 22:00:00                                 albuquerque   \n",
      "125 2003-10-10 23:00:00      bickerton (near wetherby) (uk/england)   \n",
      "126 2003-10-10 23:25:00                                     gleason   \n",
      "127 2004-10-10 02:50:00                                      mahwah   \n",
      "128 2004-10-10 03:30:00                      worthington st. forest   \n",
      "129 2004-10-10 03:50:00                 portage la prairie (canada)   \n",
      "\n",
      "    state/province country  UFO_shape  length_of_encounter_seconds  \\\n",
      "0               tx      us   cylinder                         2700   \n",
      "1               tx     NaN      light                         7200   \n",
      "2              NaN      gb     circle                           20   \n",
      "3               tx      us     circle                           20   \n",
      "4               hi      us      light                          900   \n",
      "5               tn      us     sphere                          300   \n",
      "6              NaN      gb     circle                          180   \n",
      "7               ct      us       disk                         1200   \n",
      "8               al      us       disk                          180   \n",
      "9               fl      us       disk                          120   \n",
      "10              ca      us     circle                          300   \n",
      "11              nc      us   fireball                          180   \n",
      "12              ny      us       disk                         1800   \n",
      "13              ky      us    unknown                          180   \n",
      "14              nc      us       oval                           30   \n",
      "15              ky      us     circle                         1200   \n",
      "16              mi      us       disk                          120   \n",
      "17              ct      us       disk                         1800   \n",
      "18             NaN     NaN      light                           20   \n",
      "19              ma      us      other                         2700   \n",
      "20             NaN      gb       disk                         1200   \n",
      "21              ks      us      light                         1200   \n",
      "22              sc      us      light                          360   \n",
      "23              wa      us       oval                           60   \n",
      "24             NaN      gb      cigar                            3   \n",
      "25              tx      us      other                           30   \n",
      "26              ky      us      light                           30   \n",
      "27              ny      us  rectangle                          300   \n",
      "28              ny      us    chevron                          900   \n",
      "29              ab     NaN   triangle                          270   \n",
      "..             ...     ...        ...                          ...   \n",
      "100             wa      us    unknown                           10   \n",
      "101             wa      us    diamond                           60   \n",
      "102             ia      us   triangle                          240   \n",
      "103            NaN      au  formation                          180   \n",
      "104             bc      ca      other                          300   \n",
      "105             ca      us     circle                          120   \n",
      "106             ia      us  rectangle                          300   \n",
      "107             ca      us   changing                          900   \n",
      "108             az      us   triangle                           60   \n",
      "109             va      us   triangle                           30   \n",
      "110             wi      us      flash                           43   \n",
      "111             or      us    unknown                            5   \n",
      "112            NaN      au     circle                          600   \n",
      "113             wa      us     sphere                           90   \n",
      "114             bc      ca    unknown                          120   \n",
      "115             oh      us      other                         1800   \n",
      "116             or      us     circle                          120   \n",
      "117             mi     NaN      light                          120   \n",
      "118             ca      us       oval                          300   \n",
      "119             in      us     sphere                         1800   \n",
      "120             va      us      other                          600   \n",
      "121             id      us      light                           15   \n",
      "122             mi      us       oval                        18000   \n",
      "123             sc      us  formation                        37800   \n",
      "124             nm      us      light                          180   \n",
      "125            NaN     NaN    unknown                         2700   \n",
      "126             wi      us     sphere                         1800   \n",
      "127             nj      us   triangle                          180   \n",
      "128             nj     NaN      other                         2700   \n",
      "129             mb      ca   changing                         1200   \n",
      "\n",
      "    described_duration_of_encounter  \\\n",
      "0                        45 minutes   \n",
      "1                           1-2 hrs   \n",
      "2                        20 seconds   \n",
      "3                          1/2 hour   \n",
      "4                        15 minutes   \n",
      "5                         5 minutes   \n",
      "6                      about 3 mins   \n",
      "7                        20 minutes   \n",
      "8                        3  minutes   \n",
      "9                   several minutes   \n",
      "10                           5 min.   \n",
      "11                        3 minutes   \n",
      "12                          30 min.   \n",
      "13                        3 minutes   \n",
      "14                       30 seconds   \n",
      "15                        20minutes   \n",
      "16                        2 minutes   \n",
      "17                        20-30 min   \n",
      "18                          20 sec.   \n",
      "19                       45 minutes   \n",
      "20                       20 minutes   \n",
      "21                        one hour?   \n",
      "22                      5-6 minutes   \n",
      "23                         1 minute   \n",
      "24                        3 seconds   \n",
      "25                       30 seconds   \n",
      "26               approx: 30 seconds   \n",
      "27                             5min   \n",
      "28                       15 minutes   \n",
      "29                 4.5 or more min.   \n",
      "..                              ...   \n",
      "100                          10 sec   \n",
      "101                            1min   \n",
      "102                         4 min.s   \n",
      "103                       3 minutes   \n",
      "104                      +5 minutes   \n",
      "105                          2/min.   \n",
      "106                     3-5 minutes   \n",
      "107                   15 min. apprx   \n",
      "108              less then a minute   \n",
      "109                      30 seconds   \n",
      "110                            0:43   \n",
      "111                   about5seconds   \n",
      "112                         10 mins   \n",
      "113                      90 seconds   \n",
      "114                2 minutes approx   \n",
      "115                      30 minutes   \n",
      "116                            2min   \n",
      "117                        2 minute   \n",
      "118                           5 min   \n",
      "119                      30 minutes   \n",
      "120                      10 minutes   \n",
      "121                   12-15 seconds   \n",
      "122                    over 5 hours   \n",
      "123                       1 1/2 hr.   \n",
      "124                       3 minutes   \n",
      "125                       45minutes   \n",
      "126                           30min   \n",
      "127                   2 - 3 minutes   \n",
      "128                          45 min   \n",
      "129                       20minutes   \n",
      "\n",
      "                                           description date_documented  \\\n",
      "0    This event took place in early fall around 194...      2004-04-27   \n",
      "1    1949 Lackland AFB&#44 TX.  Lights racing acros...      2005-12-16   \n",
      "2    Green/Orange circular disc over Chester&#44 En...      2008-01-21   \n",
      "3    My older brother and twin sister were leaving ...      2004-01-17   \n",
      "4    AS a Marine 1st Lt. flying an FJ4B fighter/att...      2004-01-22   \n",
      "5    My father is now 89 my brother 52 the girl wit...      2007-04-27   \n",
      "6    penarth uk  circle  3mins  stayed 30ft above m...      2006-02-14   \n",
      "7    A bright orange color changing to reddish colo...      1999-10-02   \n",
      "8    Strobe Lighted disk shape object observed clos...      2009-03-19   \n",
      "9    Saucer zaps energy from powerline as my pregna...      2005-05-11   \n",
      "10   ROUND &#44 ORANGE &#44 WITH WHAT I WOULD SAY W...      2003-10-31   \n",
      "11   silent red /orange mass of energy floated by t...      2008-06-12   \n",
      "12            silver disc seen by family and neighbors      2000-05-11   \n",
      "13   Slow moving&#44 silent craft accelerated at an...      2008-02-14   \n",
      "14   green oval shaped light over my local church&#...      2010-02-14   \n",
      "15   On october 10&#44 1972 myself&#44my 5yrs.daugh...      2005-09-15   \n",
      "16   The UFO was so close&#44 my battery in the car...      2007-08-14   \n",
      "17   Oh&#44 what a night &#33  Two (2) saucer-shape...      2003-09-24   \n",
      "18   saw fast moving blip on the radar scope thin w...      2002-01-11   \n",
      "19   Not sure of the eact month or year of this sig...      1999-08-10   \n",
      "20   back in 1974 I was 19 at the time and  lived i...      2007-02-01   \n",
      "21                                The light chased us.      2004-07-25   \n",
      "22   Several Flashing UFO lights over Charleston Na...      2008-02-14   \n",
      "23   Three extremely large lights hanging above nea...      2014-02-07   \n",
      "24               White object over Buckinghamshire UK.      2009-12-12   \n",
      "25   i was about six or seven and my family and me ...      2005-02-24   \n",
      "26   HBCCUFO CANADIAN REPORT:  Pilot Sighting Of Un...      2004-03-17   \n",
      "27   A memory I will never forget that happened men...      2007-02-01   \n",
      "28   1/4 moon-like&#44  its &#39chord&#39 or flat s...      2005-04-16   \n",
      "29   Lights far above&#44  that glance; then flee f...      2005-01-19   \n",
      "..                                                 ...             ...   \n",
      "100  Dark object in the shape of a (4) after dusk i...      2003-02-11   \n",
      "101               One night my window started to flash      2009-05-12   \n",
      "102  Large&#44silent&#44slow&#44low to the ground d...      2002-07-01   \n",
      "103                               formation and impact      2001-11-20   \n",
      "104  I observed an green object significantly above...      2011-05-12   \n",
      "105  FALLING STAR  STOPS  &#39SHOTS OUT  DOZENS OF ...      2001-11-20   \n",
      "106  We saw a square object at night&#44  which had...      2001-11-20   \n",
      "107  Objects were sighted driving north on Highway ...      2001-11-20   \n",
      "108  Triangle shaped craft spotted flying west to e...      2001-11-20   \n",
      "109  shaped like a stealth bomber (boomerang like&#...      2002-07-26   \n",
      "110  we saw pure a light that occasionaly split int...      2002-10-15   \n",
      "111  i watched on the portland news that the space ...      2002-10-15   \n",
      "112                                 one light became 3      2002-10-28   \n",
      "113                               Light falls from sky      2002-10-15   \n",
      "114  bright white light with black outline around i...      2002-10-15   \n",
      "115  Large octagon blue lights on rim red center li...      2002-10-15   \n",
      "116                         The LIGHT is the TRUTH&#33      2005-12-16   \n",
      "117  Craft that suddenly vanishes and another one t...      2005-05-24   \n",
      "118  3 Black ovals in the sky and a floating movie ...      2004-01-17   \n",
      "119  Sphere shape object with flashing bright white...      2003-10-15   \n",
      "120  Aliens check out local high school football game.      2003-10-15   \n",
      "121                    Bright light above Mt. Home AFB      2003-10-15   \n",
      "122  pulsating green white and red object in the no...      2003-10-31   \n",
      "123  For two consecutive nights&#44 we watched a pa...      2004-01-17   \n",
      "124  Three bright lights that were huddled together...      2007-02-01   \n",
      "125  two bright&#44 but fuzzy lights going in a hov...      2003-10-15   \n",
      "126             UFO Contact&#44 Amazing close sighting      2005-09-02   \n",
      "127  Triangle shaped flying&#44 hovering U.F.O. wit...      2011-12-12   \n",
      "128  witnessed a large object and an intense red li...      2004-10-27   \n",
      "129  Series of Green Blue Red White lights spherica...      2004-10-27   \n",
      "\n",
      "      latitude   longitude  Difference  \n",
      "0    29.883056  -97.941111       19922  \n",
      "1    29.384210  -98.581082       20520  \n",
      "2    53.200000   -2.916667       19095  \n",
      "3    28.978333  -96.645833       17264  \n",
      "4    21.418056 -157.803611       15808  \n",
      "5    36.595000  -82.188889       16634  \n",
      "6    51.434722   -3.180000       14736  \n",
      "7    41.117500  -73.408333       12409  \n",
      "8    33.586111  -86.286111       15500  \n",
      "9    30.294722  -82.984167       14092  \n",
      "10   33.916389 -118.351667       12803  \n",
      "11   35.233333  -82.734444       14489  \n",
      "12   40.668611  -73.527500       10805  \n",
      "13   37.153611  -83.761944       13640  \n",
      "14   35.823889  -80.253611       14006  \n",
      "15   36.843056  -83.321944       12027  \n",
      "16   42.537778  -83.233056       12725  \n",
      "17   41.325278  -72.193611       10940  \n",
      "18   32.364167  -64.678611       10319  \n",
      "19   42.391667  -71.566667        9069  \n",
      "20   51.500000   -3.200000       11801  \n",
      "21   38.105556  -98.659722       10880  \n",
      "22   32.854444  -79.975000       11814  \n",
      "23   45.582778 -122.352222       13633  \n",
      "24   51.783333   -0.783333       12115  \n",
      "25   29.423889  -98.493333        9998  \n",
      "26   38.254167  -85.759444        9654  \n",
      "27   40.700833  -73.713333       10340  \n",
      "28   41.700278  -73.921389        9320  \n",
      "29   53.970571 -111.689885        9232  \n",
      "..         ...         ...         ...  \n",
      "100  47.606389 -122.330833         853  \n",
      "101  47.540556 -122.635000        3135  \n",
      "102  42.395278  -94.633611         263  \n",
      "103 -33.861481  151.205475          40  \n",
      "104  49.250000 -123.133333        3500  \n",
      "105  37.668889 -122.079722          40  \n",
      "106  41.004167  -92.373611          40  \n",
      "107  36.747778 -119.771389          40  \n",
      "108  33.448333 -112.073333          40  \n",
      "109  36.852778  -75.978333         288  \n",
      "110  46.013056  -91.484444           4  \n",
      "111  44.540278 -123.366389           4  \n",
      "112 -34.928661  138.598633          17  \n",
      "113  47.606389 -122.330833           4  \n",
      "114  46.216667  -63.483333           4  \n",
      "115  39.161944  -84.456944           4  \n",
      "116  45.523611 -122.675000        1162  \n",
      "117  41.793930  -86.743915         591  \n",
      "118  34.095278 -118.126111          98  \n",
      "119  39.768333  -86.158056           4  \n",
      "120  38.840278  -77.429167           4  \n",
      "121  42.989722 -116.092500           4  \n",
      "122  41.779167  -83.568889          20  \n",
      "123  33.807500  -78.701111          98  \n",
      "124  35.084444 -106.650556        1209  \n",
      "125  53.070884   -2.736506           4  \n",
      "126  45.308889  -89.496389         692  \n",
      "127  41.088611  -74.144167        2618  \n",
      "128  40.058324  -74.405661          16  \n",
      "129  49.966667  -98.300000          16  \n",
      "\n",
      "[130 rows x 12 columns]\n"
     ]
    }
   ],
   "source": [
    "df = pd.read_csv(r'ufo.csv') \n",
    "df['Date_time'] = df['Date_time'].astype('datetime64[ns]')\n",
    "df['date_documented'] = df['date_documented'].astype('datetime64[ns]')\n",
    "print(\"Original Dataframe:\")\n",
    "print(df.head())\n",
    "print(\"\\nDifference (in days) between documented date and reporting date of UFO:\") \n",
    "df['Difference'] = (df['date_documented'] - df['Date_time']).dt.days \n",
    "print(df)"
   ]
  },
  {
   "cell_type": "markdown",
   "metadata": {},
   "source": [
    "<b>Q135. Write a pandas program to generate sequences of fixed- frequency dates and time spans.</b>"
   ]
  },
  {
   "cell_type": "code",
   "execution_count": 83,
   "metadata": {},
   "outputs": [
    {
     "name": "stdout",
     "output_type": "stream",
     "text": [
      "Hourly frequency:\n",
      "DatetimeIndex(['2018-01-01 00:00:00', '2018-01-01 01:00:00', '2018-01-01 02:00:00', '2018-01-01 03:00:00', '2018-01-01 04:00:00', '2018-01-01 05:00:00', '2018-01-01 06:00:00', '2018-01-01 07:00:00', '2018-01-01 08:00:00', '2018-01-01 09:00:00', '2018-01-01 10:00:00', '2018-01-01 11:00:00'], dtype='datetime64[ns]', freq='H')\n",
      "\n",
      "Minutely frequency:\n",
      "DatetimeIndex(['2018-01-01 00:00:00', '2018-01-01 00:01:00', '2018-01-01 00:02:00', '2018-01-01 00:03:00', '2018-01-01 00:04:00', '2018-01-01 00:05:00', '2018-01-01 00:06:00', '2018-01-01 00:07:00', '2018-01-01 00:08:00', '2018-01-01 00:09:00', '2018-01-01 00:10:00', '2018-01-01 00:11:00'], dtype='datetime64[ns]', freq='T')\n",
      "\n",
      "Secondly frequency:\n",
      "DatetimeIndex(['2018-01-01 00:00:00', '2018-01-01 00:00:01', '2018-01-01 00:00:02', '2018-01-01 00:00:03', '2018-01-01 00:00:04', '2018-01-01 00:00:05', '2018-01-01 00:00:06', '2018-01-01 00:00:07', '2018-01-01 00:00:08', '2018-01-01 00:00:09', '2018-01-01 00:00:10', '2018-01-01 00:00:11'], dtype='datetime64[ns]', freq='S')\n",
      "nMultiple Hourly frequency:\n",
      "DatetimeIndex(['2018-01-01 00:00:00', '2018-01-01 02:00:00', '2018-01-01 04:00:00', '2018-01-01 06:00:00', '2018-01-01 08:00:00', '2018-01-01 10:00:00', '2018-01-01 12:00:00', '2018-01-01 14:00:00', '2018-01-01 16:00:00', '2018-01-01 18:00:00', '2018-01-01 20:00:00', '2018-01-01 22:00:00'], dtype='datetime64[ns]', freq='2H')\n",
      "\n",
      "Multiple Minutely frequency:\n",
      "DatetimeIndex(['2018-01-01 00:00:00', '2018-01-01 00:05:00', '2018-01-01 00:10:00', '2018-01-01 00:15:00', '2018-01-01 00:20:00', '2018-01-01 00:25:00', '2018-01-01 00:30:00', '2018-01-01 00:35:00', '2018-01-01 00:40:00', '2018-01-01 00:45:00', '2018-01-01 00:50:00', '2018-01-01 00:55:00'], dtype='datetime64[ns]', freq='5T')\n",
      "\n",
      "Multiple Secondly frequency:\n",
      "DatetimeIndex(['2018-03-30', '2018-06-29', '2018-09-28', '2018-12-31', '2019-03-29', '2019-06-28', '2019-09-30', '2019-12-31', '2020-03-31', '2020-06-30', '2020-09-30', '2020-12-31'], dtype='datetime64[ns]', freq='BQ-DEC')\n",
      "\n",
      "Weekly frequency:\n",
      "DatetimeIndex(['2018-01-07', '2018-01-14', '2018-01-21', '2018-01-28', '2018-02-04', '2018-02-11', '2018-02-18', '2018-02-25', '2018-03-04', '2018-03-11', '2018-03-18', '2018-03-25'], dtype='datetime64[ns]', freq='W-SUN')\n",
      "\n",
      "Combine together day and intraday offsets-1:\n",
      "DatetimeIndex(['2018-01-01 00:00:00', '2018-01-01 02:20:00', '2018-01-01 04:40:00', '2018-01-01 07:00:00', '2018-01-01 09:20:00', '2018-01-01 11:40:00', '2018-01-01 14:00:00', '2018-01-01 16:20:00', '2018-01-01 18:40:00', '2018-01-01 21:00:00', '2018-01-01 23:20:00', '2018-01-02 01:40:00'], dtype='datetime64[ns]', freq='140T')\n",
      "\n",
      "Combine together day and intraday offsets-2:\n",
      "DatetimeIndex(['2018-01-01 00:00:00', '2018-01-02 00:00:00.000010', '2018-01-03 00:00:00.000020', '2018-01-04 00:00:00.000030', '2018-01-05 00:00:00.000040', '2018-01-06 00:00:00.000050', '2018-01-07 00:00:00.000060', '2018-01-08 00:00:00.000070', '2018-01-09 00:00:00.000080', '2018-01-10 00:00:00.000090', '2018-01-11 00:00:00.000100', '2018-01-12 00:00:00.000110'], dtype='datetime64[ns]', freq='86400000010U')\n"
     ]
    }
   ],
   "source": [
    "dtr = pd.date_range('2018-01-01', periods=12, freq='H')\n",
    "print(\"Hourly frequency:\") \n",
    "print(dtr) \n",
    "dtr = pd.date_range('2018-01-01', periods=12, freq='min')\n",
    "print(\"\\nMinutely frequency:\") \n",
    "print(dtr) \n",
    "dtr = pd.date_range('2018-01-01', periods=12, freq='S')\n",
    "print(\"\\nSecondly frequency:\") \n",
    "print(dtr) \n",
    "dtr = pd.date_range('2018-01-01', periods=12, freq='2H')\n",
    "print(\"nMultiple Hourly frequency:\") \n",
    "print(dtr) \n",
    "dtr = pd.date_range('2018-01-01', periods=12, freq='5min')\n",
    "print(\"\\nMultiple Minutely frequency:\") \n",
    "print(dtr) \n",
    "dtr = pd.date_range('2018-01-01', periods=12, freq='BQ')\n",
    "print(\"\\nMultiple Secondly frequency:\") \n",
    "print(dtr) \n",
    "dtr = pd.date_range('2018-01-01', periods=12, freq='w')\n",
    "print(\"\\nWeekly frequency:\") \n",
    "print(dtr) \n",
    "dtr = pd.date_range('2018-01-01', periods=12, freq='2h20min')\n",
    "print(\"\\nCombine together day and intraday offsets-1:\") \n",
    "print(dtr) \n",
    "dtr = pd.date_range('2018-01-01', periods=12, freq='1D10U')\n",
    "print(\"\\nCombine together day and intraday offsets-2:\")\n",
    "print(dtr)"
   ]
  },
  {
   "cell_type": "markdown",
   "metadata": {},
   "source": [
    "<b>Q136. Write a pandas program to manipulate and convert date times with timezone information.</b>"
   ]
  },
  {
   "cell_type": "code",
   "execution_count": 84,
   "metadata": {},
   "outputs": [
    {
     "name": "stdout",
     "output_type": "stream",
     "text": [
      "DatetimeIndex(['2018-01-01 00:00:00+00:00', '2018-01-01 01:00:00+00:00', '2018-01-01 02:00:00+00:00'], dtype='datetime64[ns, UTC]', freq='H')\n",
      "\n",
      "From UTC to America/Los_Angeles:\n",
      "DatetimeIndex(['2017-12-31 16:00:00-08:00', '2017-12-31 17:00:00-08:00', '2017-12-31 18:00:00-08:00'], dtype='datetime64[ns, America/Los_Angeles]', freq='H')\n"
     ]
    }
   ],
   "source": [
    "dtt = pd.date_range('2018-01-01', periods=3, freq='H') \n",
    "dtt = dtt.tz_localize('UTC') \n",
    "print(dtt)\n",
    "print(\"\\nFrom UTC to America/Los_Angeles:\")\n",
    "dtt = dtt.tz_convert('America/Los_Angeles')\n",
    "print(dtt)"
   ]
  },
  {
   "cell_type": "markdown",
   "metadata": {},
   "source": [
    "<b>Q137. Write a pandas program to create the graphical analysis of UFO (unidentified flying object) Sightings year.</b>"
   ]
  },
  {
   "cell_type": "code",
   "execution_count": 12,
   "metadata": {},
   "outputs": [
    {
     "data": {
      "image/png": "[encoded data removed]",
      "text/plain": [
       "<Figure size 1080x576 with 1 Axes>"
      ]
     },
     "metadata": {
      "needs_background": "light"
     },
     "output_type": "display_data"
    }
   ],
   "source": [
    "import seaborn as sns\n",
    "import matplotlib.pyplot as plt\n",
    "df = pd.read_csv(r'ufo.csv') \n",
    "df['Date_time'] = df['Date_time'].astype('datetime64[ns]') \n",
    "df[\"ufo_yr\"] = df.Date_time.dt.year \n",
    "years_data = df.ufo_yr.value_counts() \n",
    "years_index = years_data.index \n",
    "years_values = years_data.get_values() \n",
    "plt.figure(figsize=(15,8)) \n",
    "plt.xticks(rotation = 60) \n",
    "plt.title('UFO Sightings by Year')\n",
    "plt.xlabel(\"Year\") \n",
    "plt.ylabel(\"Number of reports\") \n",
    "years_plot = sns.barplot(x=years_index[:60],y=years_values[:60], palette = \"Reds\")"
   ]
  },
  {
   "cell_type": "markdown",
   "metadata": {},
   "source": [
    "<b>Q138. Write a pandas program to create a comparison of the top 10 years in which the (UFO) was sighted VS each Month.</b>"
   ]
  },
  {
   "cell_type": "code",
   "execution_count": 13,
   "metadata": {},
   "outputs": [
    {
     "name": "stdout",
     "output_type": "stream",
     "text": [
      "\n",
      "Comparison of the top 10 years in which the UFO was sighted vs each month:\n",
      "Date_time  10\n",
      "Date_time    \n",
      "1979        4\n",
      "1992        4\n",
      "1996        4\n",
      "1997        4\n",
      "1998       10\n",
      "1999       11\n",
      "2000        9\n",
      "2001        8\n",
      "2002        7\n",
      "2003       10\n"
     ]
    }
   ],
   "source": [
    "df = pd.read_csv(r'ufo.csv') \n",
    "df['Date_time'] = df['Date_time'].astype('datetime64[ns]') \n",
    "most_sightings_years = df['Date_time'].dt.year.value_counts().head(10) \n",
    "def is_top_years(year): \n",
    "    if year in most_sightings_years.index: \n",
    "        return year \n",
    "month_vs_year = df.pivot_table(columns=df['Date_time'].dt.month,index=df['Date_time'].dt.year.apply(is_top_years),aggfunc='count',values='city')\n",
    "month_vs_year.index = month_vs_year.index.astype(int) \n",
    "month_vs_year.columns = month_vs_year.columns.astype(int)\n",
    "print(\"\\nComparison of the top 10 years in which the UFO was sighted vs each month:\")\n",
    "print(month_vs_year.head(10))"
   ]
  },
  {
   "cell_type": "markdown",
   "metadata": {},
   "source": [
    "<b>Q139. Write a pandas program to create a heatmap (rectangular data as a colour-encoded matrix) for comparison of top 10 years in which (UFO ) was sighted VS each Month.</b>"
   ]
  },
  {
   "cell_type": "code",
   "execution_count": 14,
   "metadata": {},
   "outputs": [
    {
     "name": "stdout",
     "output_type": "stream",
     "text": [
      "\n",
      "Heatmap for comparison of the top 10 years in which the UFO was sighted vs each month:\n"
     ]
    },
    {
     "data": {
      "image/png": "[encoded data removed]",
      "text/plain": [
       "<Figure size 720x576 with 2 Axes>"
      ]
     },
     "metadata": {
      "needs_background": "light"
     },
     "output_type": "display_data"
    }
   ],
   "source": [
    "import pandas as pd \n",
    "import matplotlib.pyplot as plt \n",
    "import seaborn as sns\n",
    "df = pd.read_csv(r'ufo.csv')\n",
    "df['Date_time'] = df['Date_time'].astype('datetime64[ns]') \n",
    "def printDate(timestamp):\n",
    "    return datetime.datetime.fromtimestamp(timestamp/1000).strftime(\"%d.%m.%Y\")\n",
    "most_sightings_years = df['Date_time'].dt.year.value_counts().head(10) \n",
    "def is_top_years(year): \n",
    "    if year in most_sightings_years.index:\n",
    "        return year \n",
    "    month_vs_year = df.pivot_table(columns=df['Date_time'].dt.month,index=df['Date_time'].dt.year.apply(is_top_years),aggfunc='count',values='city') \n",
    "    month_vs_year.columns = month_vs_year.columns.astype(int)\n",
    "print(\"\\nHeatmap for comparison of the top 10 years in which the UFO was sighted vs each month:\")\n",
    "plt.figure(figsize=(10,8)) \n",
    "ax = sns.heatmap(month_vs_year, vmin=0, vmax=4) \n",
    "ax.set_xlabel('Month').set_size(20) \n",
    "ax.set_ylabel('Year').set_size(20)"
   ]
  },
  {
   "cell_type": "markdown",
   "metadata": {},
   "source": [
    "<b>Q140. Write a pandas program to create a Timewheel of Hour VS Year comparison of the top 10 years in which the (UFO) was sighted.</b>"
   ]
  },
  {
   "cell_type": "code",
   "execution_count": 29,
   "metadata": {},
   "outputs": [
    {
     "name": "stdout",
     "output_type": "stream",
     "text": [
      "\n",
      "Comparison of the top 10 years in which the UFO was sighted vs each month:\n"
     ]
    },
    {
     "data": {
      "image/png": "[encoded data removed]",
      "text/plain": [
       "<Figure size 576x576 with 1 Axes>"
      ]
     },
     "metadata": {},
     "output_type": "display_data"
    }
   ],
   "source": [
    "import matplotlib as mpl \n",
    "%matplotlib inline\n",
    "import matplotlib.cm as cm\n",
    "df = pd.read_csv(r'ufo.csv') \n",
    "df['Date_time'] = df['Date_time'].astype('datetime64[ns]') \n",
    "most_sightings_years = df['Date_time'].dt.year.value_counts().head(10) \n",
    "def is_top_years(year): \n",
    "    if year in most_sightings_years.index: \n",
    "        return year \n",
    "month_vs_year = df.pivot_table(columns=df['Date_time'].dt.month,index=df['Date_time'].dt.year.apply(is_top_years),aggfunc='count',values='city') \n",
    "month_vs_year.index = month_vs_year.index.astype(int)\n",
    "month_vs_year.columns = month_vs_year.columns.astype(int)\n",
    "print(\"\\nComparison of the top 10 years in which the UFO was sighted vs each month:\") \n",
    "def pie_heatmap(table, cmap='coolwarm_r', vmin=None, vmax=None,inner_r=0.25, pie_args={}): \n",
    "    n, m = table.shape\n",
    "    vmin= table.min().min() if vmin is None else vmin \n",
    "    vmax= table.max().max() if vmax is None else vmax\n",
    "    centre_circle = plt.Circle((0,0),inner_r,edgecolor='black',facecolor='white',fill=True,linewidth=0.25) \n",
    "    plt.gcf().gca().add_artist(centre_circle) \n",
    "    norm = mpl.colors.Normalize(vmin=vmin, vmax=vmax)\n",
    "    cmapper = cm.ScalarMappable(norm=norm, cmap=cmap)\n",
    "    \n",
    "    for i, (row_name, row) in enumerate(table.iterrows()): \n",
    "        labels = None if i > 0 else table.columns \n",
    "        wedges = plt.pie([1] * m,radius=inner_r+float(n-i)/n, \n",
    "    colors=[cmapper.to_rgba(x) for x in row.values],\n",
    "        labels=labels, startangle=90, counterclock=False, wedgeprops={'linewidth':-1}, **pie_args) \n",
    "    plt.setp(wedges[0], edgecolor='grey',linewidth=1.5) \n",
    "    wedges = plt.pie([1], radius=inner_r+float(n-i-1)/n, colors=['w'], \n",
    "labels=[row_name], startangle=-90, wedgeprops={'linewidth':0}) \n",
    "    plt.setp(wedges[0], edgecolor='grey',linewidth=1.5) \n",
    "plt.figure(figsize=(8,8)) \n",
    "plt.title(\"Timewheel of Hour Vs Year\",y=1.08,fontsize=30) \n",
    "pie_heatmap(month_vs_year, vmin=-20,vmax=80,inner_r=0.2)"
   ]
  },
  {
   "attachments": {
    "image.png": {
     "image/png": "[encoded data removed]"
    }
   },
   "cell_type": "markdown",
   "metadata": {},
   "source": [
    "<b>Q141. Write a python program to draw the line using given axis values with the suitable label in the x-axis, y-axis, and a title.</b><br>\n",
    "The code snippet gives the output shown in the screenshot:\n",
    "![image.png](attachment:image.png)"
   ]
  },
  {
   "cell_type": "code",
   "execution_count": 95,
   "metadata": {},
   "outputs": [
    {
     "data": {
      "image/png": "[encoded data removed]",
      "text/plain": [
       "<Figure size 432x288 with 1 Axes>"
      ]
     },
     "metadata": {
      "needs_background": "light"
     },
     "output_type": "display_data"
    }
   ],
   "source": [
    "import matplotlib.pyplot as plt\n",
    "x = [1,2,3]\n",
    "y = [2,4,1]\n",
    "plt.plot(x, y)\n",
    "plt.xlabel('x - axis')\n",
    "plt.ylabel('y - axis')\n",
    "plt.title('Sample graph!')\n",
    "plt.show()"
   ]
  },
  {
   "cell_type": "markdown",
   "metadata": {},
   "source": [
    "<b>Q142. Write a python program to draw the line charts of the financial data of the Alphabet Inc., between October.</b><br>\n",
    "&nbsp;&nbsp;3, 2016 to October 7 2016.<br>\n",
    "&nbsp;&nbsp;Sample Financial data (fdata.csv)-<br>\n",
    "&nbsp;&nbsp;Date,Open,High,Low,Close<br>\n",
    "&nbsp;&nbsp;10-03-16,774.25,776.065002,769.5,772.559998<br>\n",
    "&nbsp;&nbsp;10-03-16,774.25,776.065002,769.5,772.559998<br>\n",
    "&nbsp;&nbsp;10-05-16 , 779.309998, 782.070007,775.650024,776.469971<br>\n",
    "&nbsp;&nbsp;10-06-16 , 779 , 780.47998,775.539978,776.859985<br>\n",
    "&nbsp;&nbsp;10-07-16,779.659973, 779.659973 , 770.75 , 775.080017<br>\n",
    "&nbsp;&nbsp;<br>The code snippet gives the output shown in the screenshot:<br></b>"
   ]
  },
  {
   "cell_type": "code",
   "execution_count": 97,
   "metadata": {},
   "outputs": [
    {
     "data": {
      "image/png": "[encoded data removed]",
      "text/plain": [
       "<Figure size 432x288 with 1 Axes>"
      ]
     },
     "metadata": {
      "needs_background": "light"
     },
     "output_type": "display_data"
    }
   ],
   "source": [
    "import pandas as pd \n",
    "df = pd.read_csv('fdata.csv', sep=',', parse_dates=True, index_col=0) \n",
    "df.plot() \n",
    "plt.show()"
   ]
  },
  {
   "attachments": {
    "image.png": {
     "image/png": "[encoded data removed]"
    }
   },
   "cell_type": "markdown",
   "metadata": {},
   "source": [
    "<b>Q143. Write a Python program to plot two or more lines on same plot with the suitable legends of each line.</b><br>\n",
    "<b>The code snippet gives the output shown in the screenshot:</b>\n",
    "![image.png](attachment:image.png)"
   ]
  },
  {
   "cell_type": "code",
   "execution_count": 114,
   "metadata": {},
   "outputs": [
    {
     "data": {
      "image/png": "[encoded data removed]",
      "text/plain": [
       "<Figure size 432x288 with 1 Axes>"
      ]
     },
     "metadata": {
      "needs_background": "light"
     },
     "output_type": "display_data"
    }
   ],
   "source": [
    "x1 = [10,20,30] \n",
    "y1 = [20,40,10]\n",
    "plt.plot(x1, y1, label = \"line 1\")\n",
    "x2 = [10,20,30]\n",
    "y2 = [40,10,30]\n",
    "plt.plot(x2, y2, label = \"line 2\") \n",
    "plt.xlabel('x - axis')\n",
    "plt.ylabel('y - axis')\n",
    "plt.title('Two or more lines on same plot with suitable legends ')\n",
    "plt.legend()\n",
    "plt.show()"
   ]
  },
  {
   "attachments": {
    "image.png": {
     "image/png": "[encoded data removed]"
    }
   },
   "cell_type": "markdown",
   "metadata": {},
   "source": [
    "<b>Q144. Write a python programming to display a bar chart of the popularity of programming languages.</b><br>\n",
    "&nbsp;&nbsp;Sample data:<br>\n",
    "&nbsp;&nbsp;programming languages- Java, Python, PHP, JavaScript, C#, C++<br>\n",
    "&nbsp;&nbsp;Popularity- 22.2, 17.6, 8.8, 8, 7.7 , 6.7<br>\n",
    "&nbsp;&nbsp;<b>The code snippet gives the output shown in the screenshot:</b><br>\n",
    "![image.png](attachment:image.png)"
   ]
  },
  {
   "cell_type": "code",
   "execution_count": 96,
   "metadata": {},
   "outputs": [
    {
     "data": {
      "image/png": "[encoded data removed]",
      "text/plain": [
       "<Figure size 432x288 with 1 Axes>"
      ]
     },
     "metadata": {
      "needs_background": "light"
     },
     "output_type": "display_data"
    }
   ],
   "source": [
    "import matplotlib.pyplot as plt\n",
    "%matplotlib inline\n",
    "x = ['Java', 'Python', 'PHP', 'JavaScript', 'C#', 'C++'] \n",
    "popularity = [22.2, 17.6, 8.8, 8, 7.7, 6.7] \n",
    "x_pos = [i for i, _ in enumerate(x)] \n",
    "plt.bar(x_pos, popularity, color='blue') \n",
    "plt.xlabel(\"Languages\") \n",
    "plt.ylabel(\"Popularity\") \n",
    "plt.title(\"PopularitY of Programming Language\\n\" + \"Worldwide, Oct 2017 compared to a year ago\") \n",
    "plt.xticks(x_pos, x)\n",
    "plt.grid(which='major', linestyle='-', linewidth='0.5', color='red')\n",
    "plt.grid(which='minor', linestyle=':', linewidth='0.5', color='black') \n",
    "plt.show()"
   ]
  },
  {
   "attachments": {
    "image.png": {
     "image/png": "[encoded data removed]"
    }
   },
   "cell_type": "markdown",
   "metadata": {},
   "source": [
    "<b>Q145. Write a python programming to display a horizontal bar chart of the popularity of programming languages.</b><br>\n",
    "&nbsp;&nbsp;Sample data:<br>\n",
    "&nbsp;&nbsp;programming languages- Java, Python, PHP, JavaScript, C#, C++<br>\n",
    "&nbsp;&nbsp;Popularity- 22.2, 17.6, 8.8, 8, 7.7 , 6.7<br>\n",
    "&nbsp;&nbsp;<b>The code snippet gives the output shown in the screenshot:</b><br>\n",
    "![image.png](attachment:image.png)"
   ]
  },
  {
   "cell_type": "code",
   "execution_count": 95,
   "metadata": {},
   "outputs": [
    {
     "data": {
      "image/png": "[encoded data removed]",
      "text/plain": [
       "<Figure size 432x288 with 1 Axes>"
      ]
     },
     "metadata": {
      "needs_background": "light"
     },
     "output_type": "display_data"
    }
   ],
   "source": [
    "x = ['Java', 'Python', 'PHP', 'JS', 'C#', 'C++'] \n",
    "popularity = [22.2, 17.6, 8.8, 8, 7.7, 6.7] \n",
    "x_pos = [i for i, _ in enumerate(x)] \n",
    "plt.barh(x_pos, popularity, color='green') \n",
    "plt.xlabel(\"Popularity\") \n",
    "plt.ylabel(\"Languages\") \n",
    "plt.title(\"PopularitY of Programming Language\\n\" + \"Worldwide, Oct 2017 compared to a year ago\") \n",
    "plt.yticks(x_pos, x)\n",
    "plt.grid(which='major', linestyle='-', linewidth='0.5', color='red')\n",
    "plt.grid(which='minor', linestyle=':', linewidth='0.5', color='black') \n",
    "plt.show()"
   ]
  },
  {
   "attachments": {
    "image.png": {
     "image/png": "[encoded data removed]"
    }
   },
   "cell_type": "markdown",
   "metadata": {},
   "source": [
    "<b>Q146. Write a python programming to display a bar chart of the Popularity of programming languages. Increase bottom margin.</b><br>\n",
    "&nbsp;&nbsp;Sample data:<br>\n",
    "&nbsp;&nbsp;programming languages: Java, Python, PHP, JavaScript, C#, C++<br>\n",
    "&nbsp;&nbsp;Popularity: 22.2, 17.6, 8.8, 8, 7.7 , 6.7<br>\n",
    "&nbsp;&nbsp;<b>The code snippet gives the output shown in the screenshot:</b><br>\n",
    "![image.png](attachment:image.png)"
   ]
  },
  {
   "cell_type": "code",
   "execution_count": 87,
   "metadata": {},
   "outputs": [
    {
     "data": {
      "image/png": "[encoded data removed]",
      "text/plain": [
       "<Figure size 432x288 with 1 Axes>"
      ]
     },
     "metadata": {
      "needs_background": "light"
     },
     "output_type": "display_data"
    }
   ],
   "source": [
    "x = ['Java', 'Python', 'PHP', 'JavaScript', 'C#', 'C++'] \n",
    "popularity = [22.2, 17.6, 8.8, 8, 7.7, 6.7] \n",
    "x_pos = [i for i, _ in enumerate(x)] \n",
    "plt.bar(x_pos, popularity, color=(0.4, 0.6, 0.8, 1.0)) \n",
    "plt.xlabel(\"Languages\") \n",
    "plt.ylabel(\"Popularity\") \n",
    "plt.title(\"PopularitY of Programming Language\\n\" + \"Worldwide, Oct 2017 compared to a year ago\")\n",
    "plt.xticks(x_pos, x, rotation=90)\n",
    "plt.subplots_adjust(bottom=0.4, top=.8)\n",
    "plt.grid(which='major', linestyle='-', linewidth='0.5', color='red')\n",
    "plt.grid(which='minor', linestyle=':', linewidth='0.5', color='black') \n",
    "plt.show()"
   ]
  },
  {
   "attachments": {
    "image.png": {
     "image/png": "[encoded data removed]"
    }
   },
   "cell_type": "markdown",
   "metadata": {},
   "source": [
    "<b>Q147. Write a python program to create the bar plot from a DataFrame.</b><br>\n",
    "&nbsp;&nbsp;a b c d e<br>\n",
    "&nbsp;&nbsp;2 4,8,5,7,6<br>\n",
    "&nbsp;&nbsp;4 2,3,4,2,6<br>\n",
    "&nbsp;&nbsp;6 4,7,4,7, 8<br>\n",
    "&nbsp;&nbsp;8 2,6,4,8, 6<br>\n",
    "&nbsp;&nbsp;10 2,4,3,3, 2<br>\n",
    "&nbsp;&nbsp;<b>The code snippet gives the output shown in the following screenshot:</b><br>\n",
    "![image.png](attachment:image.png)"
   ]
  },
  {
   "cell_type": "code",
   "execution_count": 88,
   "metadata": {},
   "outputs": [
    {
     "data": {
      "image/png": "[encoded data removed]",
      "text/plain": [
       "<Figure size 432x288 with 1 Axes>"
      ]
     },
     "metadata": {
      "needs_background": "light"
     },
     "output_type": "display_data"
    }
   ],
   "source": [
    "from pandas import DataFrame \n",
    "import matplotlib.pyplot as plt \n",
    "import numpy as np\n",
    "a=np.array([[4,8,5,7,6],[2,3,4,2,6],[4,7,4,7,8],[2,6,4,8,6],[2,4,3,3,2]]) \n",
    "df=DataFrame(a, columns=['a','b','c','d','e'], index=[2,4,6,8,10])\n",
    "df.plot(kind='bar')\n",
    "plt.grid(which='major', linestyle='-', linewidth='0.5', color='green') \n",
    "plt.grid(which='minor', linestyle=':', linewidth='0.5', color='black')\n",
    "plt.show()"
   ]
  },
  {
   "attachments": {
    "image.png": {
     "image/png": "[encoded data removed]"
    }
   },
   "cell_type": "markdown",
   "metadata": {},
   "source": [
    "<b>Q148. Write a python program to draw the scatter plot comparing two subject marks of Mathematics and Science. Use marks of 10 students.</b><br>\n",
    "&nbsp;&nbsp;Sample data:<br>\n",
    "&nbsp;&nbsp;Test Data-<br>\n",
    "&nbsp;&nbsp;math_marks = [88, 92 , 80, 89, 100, 80, 60, 100, 80, 34]<br>\n",
    "&nbsp;&nbsp;science_marks = [35, 79, 79 , 48, 100, 88, 32, 45, 20, 30]<br>\n",
    "&nbsp;&nbsp;marks_range = [10, 20, 30, 40, 50, 60, 70, 80, 90, 100]<br>\n",
    "![image.png](attachment:image.png)"
   ]
  },
  {
   "cell_type": "code",
   "execution_count": 103,
   "metadata": {},
   "outputs": [
    {
     "data": {
      "image/png": "[encoded data removed]",
      "text/plain": [
       "<Figure size 432x288 with 1 Axes>"
      ]
     },
     "metadata": {
      "needs_background": "light"
     },
     "output_type": "display_data"
    }
   ],
   "source": [
    "math_marks = [88, 92, 80, 89, 100, 80, 60, 100, 80, 34] \n",
    "science_marks = [35, 79, 79, 48, 100, 88, 32, 45, 20, 30] \n",
    "marks_range = [10, 20, 30, 40, 50, 60, 70, 80, 90, 100] \n",
    "plt.scatter(marks_range, math_marks, label='Math marks', color='r') \n",
    "plt.scatter(marks_range, science_marks, label='Science marks', color='g') \n",
    "plt.title('Scatter Plot') \n",
    "plt.xlabel('Marks Range') \n",
    "plt.ylabel('Marks Scored') \n",
    "plt.legend() \n",
    "plt.show()"
   ]
  },
  {
   "attachments": {
    "image.png": {
     "image/png": "[encoded data removed]"
    }
   },
   "cell_type": "markdown",
   "metadata": {},
   "source": [
    "<b>Q149. Write a python program to draw the scatter plot for three different groups comparing weights and heights.</b><br>\n",
    "&nbsp;&nbsp;<b>The output shown in the screenshot:</b><br>\n",
    "![image.png](attachment:image.png)"
   ]
  },
  {
   "cell_type": "code",
   "execution_count": 105,
   "metadata": {},
   "outputs": [
    {
     "data": {
      "image/png": "[encoded data removed]",
      "text/plain": [
       "<Figure size 432x288 with 1 Axes>"
      ]
     },
     "metadata": {
      "needs_background": "light"
     },
     "output_type": "display_data"
    }
   ],
   "source": [
    "import numpy as np \n",
    "weight1=[67,57.2,59.6,59.64,55.8,61.2,60.45,61,56.23,56] \n",
    "height1=[101.7,197.6,98.3,125.1,113.7,157.7,136,148.9,125.3,114.9] \n",
    "weight2=[61.9,64,62.1,64.2,62.3,65.4,62.4,61.4,62.5,63.6] \n",
    "height2=[152.8,155.3,135.1,125.2,151.3,135,182.2,195.9,165.1,125.1]\n",
    "weight3=[68.2,67.2,68.4,68.7,71,71.3,70.8,70,71.1,71.7] \n",
    "height3=[165.8,170.9,192.8,135.4,161.4,136.1,167.1,235.1,181.1,177.3] \n",
    "weight=np.concatenate((weight1,weight2,weight3)) \n",
    "height=np.concatenate((height1,height2,height3)) \n",
    "plt.scatter(weight, height, marker='*', color=['red','green','blue']) \n",
    "plt.xlabel('weight', fontsize=16) \n",
    "plt.ylabel('height', fontsize=16) \n",
    "plt.title('Group wise Weight vs Height scatter plot',fontsize=20) \n",
    "plt.show()"
   ]
  },
  {
   "cell_type": "markdown",
   "metadata": {},
   "source": [
    "<b>Q150. Write a python program to draw a scatter plot to find sea-level rise in past 100 years.</b><br>\n",
    "&nbsp;&nbsp;<b>The output shown in the screenshot:</b><br>"
   ]
  },
  {
   "cell_type": "code",
   "execution_count": 94,
   "metadata": {},
   "outputs": [
    {
     "data": {
      "image/png": "[encoded data removed]",
      "text/plain": [
       "<Figure size 432x288 with 1 Axes>"
      ]
     },
     "metadata": {
      "needs_background": "light"
     },
     "output_type": "display_data"
    }
   ],
   "source": [
    "data = pd.read_csv('data.csv') \n",
    "year = data['year'] \n",
    "sea_levels = data['CSIRO_sea_level'] \n",
    "plt.scatter(year, sea_levels, edgecolors='g') \n",
    "plt.xlabel('Year') \n",
    "plt.ylabel('Sea Level (inches)') \n",
    "plt.title('Rise in Sealevel') \n",
    "plt.show()"
   ]
  }
 ],
 "metadata": {
  "kernelspec": {
   "display_name": "Python 3",
   "language": "python",
   "name": "python3"
  }
 },
 "nbformat": 4,
 "nbformat_minor": 2
}
